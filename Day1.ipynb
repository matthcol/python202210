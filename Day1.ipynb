{
 "cells": [
  {
   "cell_type": "code",
   "execution_count": 1,
   "id": "345e519d-cebb-48d9-9964-8f463c575eff",
   "metadata": {},
   "outputs": [],
   "source": [
    "import pandas as pd\n",
    "import numpy as np\n",
    "import matplotlib.pyplot as plt\n",
    "from typing import List, Tuple, Dict\n",
    "from collections.abc import Iterable\n",
    "from functools import total_ordering\n",
    "import operator as op\n",
    "from datetime import date"
   ]
  },
  {
   "cell_type": "markdown",
   "id": "0699675c-88da-4db6-aeb9-8840d3f10854",
   "metadata": {},
   "source": [
    "## Basics types"
   ]
  },
  {
   "cell_type": "code",
   "execution_count": 2,
   "id": "0ffbff76-206f-44a9-93a1-9be6ea8b7d52",
   "metadata": {},
   "outputs": [
    {
     "data": {
      "text/plain": [
       "3333333333333333333333333333333333333333333333333333333333333333333333333333333333333333333333333333333333333333339"
      ]
     },
     "execution_count": 2,
     "metadata": {},
     "output_type": "execute_result"
    }
   ],
   "source": [
    "d = 3333333333333333333333333333333333333333333333333333333333333333333333333333333333333333333333333333333333333333339\n",
    "d"
   ]
  },
  {
   "cell_type": "code",
   "execution_count": 3,
   "id": "3b7570a4-6a23-44f3-a131-8c3665516c07",
   "metadata": {},
   "outputs": [
    {
     "data": {
      "text/plain": [
       "int"
      ]
     },
     "execution_count": 3,
     "metadata": {},
     "output_type": "execute_result"
    }
   ],
   "source": [
    "type(d)"
   ]
  },
  {
   "cell_type": "code",
   "execution_count": 4,
   "id": "738cc336-d25c-4e33-8ff9-398165b0aae7",
   "metadata": {},
   "outputs": [
    {
     "data": {
      "text/plain": [
       "array([[0, 0, 0, ..., 0, 0, 0],\n",
       "       [0, 0, 0, ..., 0, 0, 0],\n",
       "       [0, 0, 0, ..., 0, 0, 0],\n",
       "       ...,\n",
       "       [0, 0, 0, ..., 0, 0, 0],\n",
       "       [0, 0, 0, ..., 0, 0, 0],\n",
       "       [0, 0, 0, ..., 0, 0, 0]], dtype=uint8)"
      ]
     },
     "execution_count": 4,
     "metadata": {},
     "output_type": "execute_result"
    }
   ],
   "source": [
    "# numpy proposes numeric types with size\n",
    "# uint8, uint16, uint32, uint64, int8, int16, int32, int64,\n",
    "# float32, float64\n",
    "m = np.zeros((1000,1000),dtype='uint8')\n",
    "m"
   ]
  },
  {
   "cell_type": "code",
   "execution_count": 5,
   "id": "45775bfe-3575-4c09-88e7-7d3de516057f",
   "metadata": {},
   "outputs": [
    {
     "data": {
      "text/plain": [
       "array([[1., 1., 1., ..., 1., 1., 1.],\n",
       "       [1., 1., 1., ..., 1., 1., 1.],\n",
       "       [1., 1., 1., ..., 1., 1., 1.],\n",
       "       ...,\n",
       "       [1., 1., 1., ..., 1., 1., 1.],\n",
       "       [1., 1., 1., ..., 1., 1., 1.],\n",
       "       [1., 1., 1., ..., 1., 1., 1.]], dtype=float32)"
      ]
     },
     "execution_count": 5,
     "metadata": {},
     "output_type": "execute_result"
    }
   ],
   "source": [
    "m2 = np.ones((1000,1000), dtype=np.float32)\n",
    "m2"
   ]
  },
  {
   "cell_type": "markdown",
   "id": "50782771-26c5-46e6-bca8-77cd7a13b300",
   "metadata": {},
   "source": [
    "## Algorithm for executing operators"
   ]
  },
  {
   "cell_type": "code",
   "execution_count": 6,
   "id": "8da4b509-0eab-4bd1-bc7a-4a4e65f1380f",
   "metadata": {},
   "outputs": [
    {
     "data": {
      "text/plain": [
       "array([[ 8.44819172,  6.01320313, 13.02818864, ..., 15.16895682,\n",
       "        12.44671144, 14.97809733],\n",
       "       [11.04917355, 15.07022509, 15.75034368, ..., 10.17705782,\n",
       "        15.93775993, 13.67121288],\n",
       "       [20.38565353,  5.52152683, 10.48625315, ...,  4.09554192,\n",
       "         8.27574195,  9.10410313],\n",
       "       ...,\n",
       "       [ 4.54924462,  9.35137091,  6.86167136, ...,  7.65583746,\n",
       "         4.97040358, 11.58878766],\n",
       "       [ 7.9857869 , 10.56824099,  7.98309447, ..., 10.60391573,\n",
       "        12.1901986 , 12.77961055],\n",
       "       [ 8.07939407, 13.83406299, 14.4762475 , ...,  5.36194606,\n",
       "         8.45789325, 11.11986607]])"
      ]
     },
     "execution_count": 6,
     "metadata": {},
     "output_type": "execute_result"
    }
   ],
   "source": [
    "m3 = np.random.normal(10.0, 4.5, (1000,1000))\n",
    "m3"
   ]
  },
  {
   "cell_type": "code",
   "execution_count": 7,
   "id": "ce0e0e45-dcfe-44a0-9a47-39e4387a2420",
   "metadata": {},
   "outputs": [
    {
     "name": "stdout",
     "output_type": "stream",
     "text": [
      "<class 'numpy.ndarray'>\n"
     ]
    },
    {
     "data": {
      "text/plain": [
       "array([[10144.67088676, 10261.33947387, 10116.32722027, ...,\n",
       "        10124.54778999, 10240.27235656, 10039.15492019],\n",
       "       [10144.67088676, 10261.33947387, 10116.32722027, ...,\n",
       "        10124.54778999, 10240.27235656, 10039.15492019],\n",
       "       [10144.67088676, 10261.33947387, 10116.32722027, ...,\n",
       "        10124.54778999, 10240.27235656, 10039.15492019],\n",
       "       ...,\n",
       "       [10144.67088676, 10261.33947387, 10116.32722027, ...,\n",
       "        10124.54778999, 10240.27235656, 10039.15492019],\n",
       "       [10144.67088676, 10261.33947387, 10116.32722027, ...,\n",
       "        10124.54778999, 10240.27235656, 10039.15492019],\n",
       "       [10144.67088676, 10261.33947387, 10116.32722027, ...,\n",
       "        10124.54778999, 10240.27235656, 10039.15492019]])"
      ]
     },
     "execution_count": 7,
     "metadata": {},
     "output_type": "execute_result"
    }
   ],
   "source": [
    "# produit matriciel\n",
    "res = m2 @ m3\n",
    "print(type(res))\n",
    "res"
   ]
  },
  {
   "cell_type": "code",
   "execution_count": 8,
   "id": "0c656233-0462-42bc-8127-ae2dad9b045d",
   "metadata": {},
   "outputs": [
    {
     "data": {
      "text/plain": [
       "array([[ 8.44819172,  6.01320313, 13.02818864, ..., 15.16895682,\n",
       "        12.44671144, 14.97809733],\n",
       "       [11.04917355, 15.07022509, 15.75034368, ..., 10.17705782,\n",
       "        15.93775993, 13.67121288],\n",
       "       [20.38565353,  5.52152683, 10.48625315, ...,  4.09554192,\n",
       "         8.27574195,  9.10410313],\n",
       "       ...,\n",
       "       [ 4.54924462,  9.35137091,  6.86167136, ...,  7.65583746,\n",
       "         4.97040358, 11.58878766],\n",
       "       [ 7.9857869 , 10.56824099,  7.98309447, ..., 10.60391573,\n",
       "        12.1901986 , 12.77961055],\n",
       "       [ 8.07939407, 13.83406299, 14.4762475 , ...,  5.36194606,\n",
       "         8.45789325, 11.11986607]])"
      ]
     },
     "execution_count": 8,
     "metadata": {},
     "output_type": "execute_result"
    }
   ],
   "source": [
    "# element wise\n",
    "m2 * m3"
   ]
  },
  {
   "cell_type": "code",
   "execution_count": 9,
   "id": "7e5c842b-d3b7-44ee-8ce6-447db9793923",
   "metadata": {},
   "outputs": [
    {
     "data": {
      "text/plain": [
       "12"
      ]
     },
     "execution_count": 9,
     "metadata": {},
     "output_type": "execute_result"
    }
   ],
   "source": [
    "# __mul__ du type int\n",
    "4 * 3"
   ]
  },
  {
   "cell_type": "code",
   "execution_count": 10,
   "id": "d48628e4-b78e-46a4-ad77-1b7b78c1196b",
   "metadata": {},
   "outputs": [
    {
     "data": {
      "text/plain": [
       "9.2"
      ]
     },
     "execution_count": 10,
     "metadata": {},
     "output_type": "execute_result"
    }
   ],
   "source": [
    "# __mul__ du type int: NotImplemented\n",
    "# __rmul__ du type float\n",
    "4 * 2.3"
   ]
  },
  {
   "cell_type": "code",
   "execution_count": 11,
   "id": "a048971c-6dfe-4a46-b407-6ea1a2dbe017",
   "metadata": {},
   "outputs": [
    {
     "name": "stdout",
     "output_type": "stream",
     "text": [
      "ahahah\n",
      "ahahah\n"
     ]
    }
   ],
   "source": [
    "# type str\n",
    "print(\"ah\" * 3)\n",
    "print(3 * \"ah\")"
   ]
  },
  {
   "cell_type": "code",
   "execution_count": 12,
   "id": "e733dfb0-b15e-4c6b-ae4d-7c438b9d0659",
   "metadata": {},
   "outputs": [
    {
     "name": "stdout",
     "output_type": "stream",
     "text": [
      "ça marche pas -> <class 'TypeError'> -> can only concatenate str (not \"int\") to str\n",
      "ça marche pas: <class 'TypeError'>; message: can only concatenate str (not \"int\") to str\n"
     ]
    }
   ],
   "source": [
    "# str and int: NotImplemented\n",
    "try:\n",
    "    res = \"ah\" + 3\n",
    "except TypeError as e:\n",
    "    # TypeError: can only concatenate str (not \"int\") to str\n",
    "    print(\"ça marche pas\", type(e), e, sep=\" -> \")\n",
    "    print(f\"ça marche pas: {type(e)}; message: {e}\")"
   ]
  },
  {
   "cell_type": "code",
   "execution_count": 13,
   "id": "efbec30a-9dbb-4a5d-bd4e-2311958d6457",
   "metadata": {},
   "outputs": [
    {
     "name": "stdout",
     "output_type": "stream",
     "text": [
      "2022-10-07 0.3333333333333333\n",
      "today: 07/10/2022, pression: 0.333\n",
      "today: 07/10/2022, pression: 0.333\n",
      "today: 2022-10-07, pression: 0.3333333333333333\n"
     ]
    }
   ],
   "source": [
    "d = date.today()\n",
    "n = 1 / 3\n",
    "print(d,n)\n",
    "print(f\"today: {d:%d/%m/%Y}, pression: {n:0.3f}\")  # python 3.6\n",
    "print(\"today: {0:%d/%m/%Y}, pression: {1:0.3f}\".format(d,n)) # python 3\n",
    "print(\"today: %s, pression: %s\" % (d,n)) # old python"
   ]
  },
  {
   "cell_type": "code",
   "execution_count": 14,
   "id": "70b1294a-4c67-4e97-bc9c-95d33bd35aaa",
   "metadata": {},
   "outputs": [
    {
     "data": {
      "text/plain": [
       "(3, 2, 3.6666666666666665, (3, 2))"
      ]
     },
     "execution_count": 14,
     "metadata": {},
     "output_type": "execute_result"
    }
   ],
   "source": [
    "# div entiere (Euclide)\n",
    "11 // 3, 11 % 3, 11 / 3, divmod(11,3) "
   ]
  },
  {
   "cell_type": "code",
   "execution_count": 15,
   "id": "3ac8a094-4d24-492f-ae3e-cae94d2830a7",
   "metadata": {},
   "outputs": [
    {
     "name": "stdout",
     "output_type": "stream",
     "text": [
      "[[ 8.44819172  6.01320313 13.02818864 ... 15.16895682 12.44671144\n",
      "  14.97809733]\n",
      " [11.04917355 15.07022509 15.75034368 ... 10.17705782 15.93775993\n",
      "  13.67121288]\n",
      " [20.38565353  5.52152683 10.48625315 ...  4.09554192  8.27574195\n",
      "   9.10410313]\n",
      " ...\n",
      " [ 4.54924462  9.35137091  6.86167136 ...  7.65583746  4.97040358\n",
      "  11.58878766]\n",
      " [ 7.9857869  10.56824099  7.98309447 ... 10.60391573 12.1901986\n",
      "  12.77961055]\n",
      " [ 8.07939407 13.83406299 14.4762475  ...  5.36194606  8.45789325\n",
      "  11.11986607]]\n",
      "array([[ 8.44819172,  6.01320313, 13.02818864, ..., 15.16895682,\n",
      "        12.44671144, 14.97809733],\n",
      "       [11.04917355, 15.07022509, 15.75034368, ..., 10.17705782,\n",
      "        15.93775993, 13.67121288],\n",
      "       [20.38565353,  5.52152683, 10.48625315, ...,  4.09554192,\n",
      "         8.27574195,  9.10410313],\n",
      "       ...,\n",
      "       [ 4.54924462,  9.35137091,  6.86167136, ...,  7.65583746,\n",
      "         4.97040358, 11.58878766],\n",
      "       [ 7.9857869 , 10.56824099,  7.98309447, ..., 10.60391573,\n",
      "        12.1901986 , 12.77961055],\n",
      "       [ 8.07939407, 13.83406299, 14.4762475 , ...,  5.36194606,\n",
      "         8.45789325, 11.11986607]])\n"
     ]
    }
   ],
   "source": [
    "# str : end-user\n",
    "print(str(m3))\n",
    "# repr: dev, python interactif\n",
    "print(repr(m3))"
   ]
  },
  {
   "cell_type": "code",
   "execution_count": 16,
   "id": "d863eec6-7bfa-4dd8-8547-27b24b901fef",
   "metadata": {},
   "outputs": [
    {
     "data": {
      "text/plain": [
       "  C_CONTIGUOUS : True\n",
       "  F_CONTIGUOUS : False\n",
       "  OWNDATA : True\n",
       "  WRITEABLE : True\n",
       "  ALIGNED : True\n",
       "  WRITEBACKIFCOPY : False\n",
       "  UPDATEIFCOPY : False"
      ]
     },
     "execution_count": 16,
     "metadata": {},
     "output_type": "execute_result"
    }
   ],
   "source": [
    "m.flags"
   ]
  },
  {
   "cell_type": "code",
   "execution_count": 17,
   "id": "d84ae72c-973c-4067-8f13-317463ecd82d",
   "metadata": {},
   "outputs": [],
   "source": [
    "# numpy protects its attributes\n",
    "# del m.flags\n",
    "# AttributeError: attribute 'flags' of 'numpy.ndarray' objects is not writable"
   ]
  },
  {
   "cell_type": "code",
   "execution_count": 18,
   "id": "7b024f0e-b137-4125-b3ed-a6371a49e2b4",
   "metadata": {},
   "outputs": [
    {
     "data": {
      "text/plain": [
       "  C_CONTIGUOUS : False\n",
       "  F_CONTIGUOUS : True\n",
       "  OWNDATA : False\n",
       "  WRITEABLE : True\n",
       "  ALIGNED : True\n",
       "  WRITEBACKIFCOPY : False\n",
       "  UPDATEIFCOPY : False"
      ]
     },
     "execution_count": 18,
     "metadata": {},
     "output_type": "execute_result"
    }
   ],
   "source": [
    "m.T.flags"
   ]
  },
  {
   "cell_type": "code",
   "execution_count": 19,
   "id": "f4968c4f-9178-4195-997a-4c6a281e28a0",
   "metadata": {},
   "outputs": [],
   "source": [
    "# del m.shape # AttributeError: Cannot delete array shape\n",
    "# write is possible if compatible (shape is a property with validation)\n",
    "m.shape = (100,10000) # => reshape\n",
    "\n",
    "# ValueError: cannot reshape array of size 1000000 into shape (10000,10000)\n",
    "# m.shape = (10000, 10000) "
   ]
  },
  {
   "cell_type": "markdown",
   "id": "dba713c5-f36b-4ee6-9fd0-bf17c5aa5224",
   "metadata": {},
   "source": [
    "## Pandas dataframes"
   ]
  },
  {
   "cell_type": "code",
   "execution_count": 20,
   "id": "b0d98183-4f28-4022-a30e-14efa3372fd7",
   "metadata": {},
   "outputs": [
    {
     "data": {
      "text/html": [
       "<div>\n",
       "<style scoped>\n",
       "    .dataframe tbody tr th:only-of-type {\n",
       "        vertical-align: middle;\n",
       "    }\n",
       "\n",
       "    .dataframe tbody tr th {\n",
       "        vertical-align: top;\n",
       "    }\n",
       "\n",
       "    .dataframe thead th {\n",
       "        text-align: right;\n",
       "    }\n",
       "</style>\n",
       "<table border=\"1\" class=\"dataframe\">\n",
       "  <thead>\n",
       "    <tr style=\"text-align: right;\">\n",
       "      <th></th>\n",
       "      <th>Date</th>\n",
       "      <th>Nom</th>\n",
       "      <th>Mesure</th>\n",
       "    </tr>\n",
       "  </thead>\n",
       "  <tbody>\n",
       "    <tr>\n",
       "      <th>0</th>\n",
       "      <td>2022-10-05</td>\n",
       "      <td>Pau</td>\n",
       "      <td>3.3</td>\n",
       "    </tr>\n",
       "    <tr>\n",
       "      <th>1</th>\n",
       "      <td>2022-07-08</td>\n",
       "      <td>Toulouse</td>\n",
       "      <td>2.6</td>\n",
       "    </tr>\n",
       "  </tbody>\n",
       "</table>\n",
       "</div>"
      ],
      "text/plain": [
       "        Date       Nom  Mesure\n",
       "0 2022-10-05       Pau     3.3\n",
       "1 2022-07-08  Toulouse     2.6"
      ]
     },
     "execution_count": 20,
     "metadata": {},
     "output_type": "execute_result"
    }
   ],
   "source": [
    "df = pd.read_excel('data.xlsx', sheet_name='Janvier')\n",
    "df"
   ]
  },
  {
   "cell_type": "code",
   "execution_count": 21,
   "id": "595c475e-5fc7-45c4-88e5-f18e6c99a248",
   "metadata": {},
   "outputs": [
    {
     "name": "stdout",
     "output_type": "stream",
     "text": [
      "<class 'pandas.core.frame.DataFrame'>\n",
      "RangeIndex: 2 entries, 0 to 1\n",
      "Data columns (total 3 columns):\n",
      " #   Column  Non-Null Count  Dtype         \n",
      "---  ------  --------------  -----         \n",
      " 0   Date    2 non-null      datetime64[ns]\n",
      " 1   Nom     2 non-null      object        \n",
      " 2   Mesure  2 non-null      float64       \n",
      "dtypes: datetime64[ns](1), float64(1), object(1)\n",
      "memory usage: 176.0+ bytes\n"
     ]
    }
   ],
   "source": [
    "df.info()"
   ]
  },
  {
   "cell_type": "code",
   "execution_count": 22,
   "id": "c11cb911-7fbe-4f47-a339-879c388474b4",
   "metadata": {},
   "outputs": [
    {
     "data": {
      "text/plain": [
       "pandas._libs.tslibs.timestamps.Timestamp"
      ]
     },
     "execution_count": 22,
     "metadata": {},
     "output_type": "execute_result"
    }
   ],
   "source": [
    "oneDate = df.loc[0,'Date']\n",
    "type(oneDate)"
   ]
  },
  {
   "cell_type": "code",
   "execution_count": 23,
   "id": "ea5577e9-27e8-4856-8992-6ec80cd89a18",
   "metadata": {},
   "outputs": [
    {
     "data": {
      "text/plain": [
       "str"
      ]
     },
     "execution_count": 23,
     "metadata": {},
     "output_type": "execute_result"
    }
   ],
   "source": [
    "oneCity = df.loc[0,'Nom']\n",
    "type(oneCity)"
   ]
  },
  {
   "cell_type": "code",
   "execution_count": 24,
   "id": "91948efe-7fbc-459d-820f-d717385bb03f",
   "metadata": {},
   "outputs": [
    {
     "data": {
      "text/html": [
       "<div>\n",
       "<style scoped>\n",
       "    .dataframe tbody tr th:only-of-type {\n",
       "        vertical-align: middle;\n",
       "    }\n",
       "\n",
       "    .dataframe tbody tr th {\n",
       "        vertical-align: top;\n",
       "    }\n",
       "\n",
       "    .dataframe thead th {\n",
       "        text-align: right;\n",
       "    }\n",
       "</style>\n",
       "<table border=\"1\" class=\"dataframe\">\n",
       "  <thead>\n",
       "    <tr style=\"text-align: right;\">\n",
       "      <th></th>\n",
       "      <th>Date</th>\n",
       "      <th>Nom</th>\n",
       "      <th>Mesure</th>\n",
       "    </tr>\n",
       "  </thead>\n",
       "  <tbody>\n",
       "    <tr>\n",
       "      <th>1</th>\n",
       "      <td>2022-07-08</td>\n",
       "      <td>Toulouse</td>\n",
       "      <td>2.6</td>\n",
       "    </tr>\n",
       "  </tbody>\n",
       "</table>\n",
       "</div>"
      ],
      "text/plain": [
       "        Date       Nom  Mesure\n",
       "1 2022-07-08  Toulouse     2.6"
      ]
     },
     "execution_count": 24,
     "metadata": {},
     "output_type": "execute_result"
    }
   ],
   "source": [
    "df[df.Nom.str.startswith('T')]"
   ]
  },
  {
   "cell_type": "code",
   "execution_count": 25,
   "id": "7b89efd1-5556-46d3-b945-57fb35ac4da5",
   "metadata": {},
   "outputs": [
    {
     "data": {
      "text/html": [
       "<div>\n",
       "<style scoped>\n",
       "    .dataframe tbody tr th:only-of-type {\n",
       "        vertical-align: middle;\n",
       "    }\n",
       "\n",
       "    .dataframe tbody tr th {\n",
       "        vertical-align: top;\n",
       "    }\n",
       "\n",
       "    .dataframe thead th {\n",
       "        text-align: right;\n",
       "    }\n",
       "</style>\n",
       "<table border=\"1\" class=\"dataframe\">\n",
       "  <thead>\n",
       "    <tr style=\"text-align: right;\">\n",
       "      <th></th>\n",
       "      <th>Date</th>\n",
       "      <th>Nom</th>\n",
       "      <th>Mesure</th>\n",
       "    </tr>\n",
       "  </thead>\n",
       "  <tbody>\n",
       "    <tr>\n",
       "      <th>0</th>\n",
       "      <td>2022-10-05</td>\n",
       "      <td>Pau</td>\n",
       "      <td>3.3</td>\n",
       "    </tr>\n",
       "    <tr>\n",
       "      <th>1</th>\n",
       "      <td>2022-07-08</td>\n",
       "      <td>Toulouse</td>\n",
       "      <td>2.6</td>\n",
       "    </tr>\n",
       "  </tbody>\n",
       "</table>\n",
       "</div>"
      ],
      "text/plain": [
       "        Date       Nom  Mesure\n",
       "0 2022-10-05       Pau     3.3\n",
       "1 2022-07-08  Toulouse     2.6"
      ]
     },
     "execution_count": 25,
     "metadata": {},
     "output_type": "execute_result"
    }
   ],
   "source": [
    "df[df.Date.dt.year == 2022]"
   ]
  },
  {
   "cell_type": "code",
   "execution_count": 26,
   "id": "f2b07265-e555-4d23-8074-4310ae4b09d6",
   "metadata": {},
   "outputs": [
    {
     "data": {
      "text/plain": [
       "(True, True)"
      ]
     },
     "execution_count": 26,
     "metadata": {},
     "output_type": "execute_result"
    }
   ],
   "source": [
    "isinstance(df,object), isinstance(df,pd.DataFrame)"
   ]
  },
  {
   "cell_type": "code",
   "execution_count": 27,
   "id": "04f6df55-3dff-47a1-9a19-91b78864cac1",
   "metadata": {
    "tags": []
   },
   "outputs": [
    {
     "data": {
      "text/plain": [
       "['Date',\n",
       " 'Mesure',\n",
       " 'Nom',\n",
       " 'T',\n",
       " '_AXIS_LEN',\n",
       " '_AXIS_ORDERS',\n",
       " '_AXIS_TO_AXIS_NUMBER',\n",
       " '_HANDLED_TYPES',\n",
       " '__abs__',\n",
       " '__add__',\n",
       " '__and__',\n",
       " '__annotations__',\n",
       " '__array__',\n",
       " '__array_priority__',\n",
       " '__array_ufunc__',\n",
       " '__array_wrap__',\n",
       " '__bool__',\n",
       " '__class__',\n",
       " '__contains__',\n",
       " '__copy__',\n",
       " '__deepcopy__',\n",
       " '__delattr__',\n",
       " '__delitem__',\n",
       " '__dict__',\n",
       " '__dir__',\n",
       " '__divmod__',\n",
       " '__doc__',\n",
       " '__eq__',\n",
       " '__finalize__',\n",
       " '__floordiv__',\n",
       " '__format__',\n",
       " '__ge__',\n",
       " '__getattr__',\n",
       " '__getattribute__',\n",
       " '__getitem__',\n",
       " '__getstate__',\n",
       " '__gt__',\n",
       " '__hash__',\n",
       " '__iadd__',\n",
       " '__iand__',\n",
       " '__ifloordiv__',\n",
       " '__imod__',\n",
       " '__imul__',\n",
       " '__init__',\n",
       " '__init_subclass__',\n",
       " '__invert__',\n",
       " '__ior__',\n",
       " '__ipow__',\n",
       " '__isub__',\n",
       " '__iter__',\n",
       " '__itruediv__',\n",
       " '__ixor__',\n",
       " '__le__',\n",
       " '__len__',\n",
       " '__lt__',\n",
       " '__matmul__',\n",
       " '__mod__',\n",
       " '__module__',\n",
       " '__mul__',\n",
       " '__ne__',\n",
       " '__neg__',\n",
       " '__new__',\n",
       " '__nonzero__',\n",
       " '__or__',\n",
       " '__pos__',\n",
       " '__pow__',\n",
       " '__radd__',\n",
       " '__rand__',\n",
       " '__rdivmod__',\n",
       " '__reduce__',\n",
       " '__reduce_ex__',\n",
       " '__repr__',\n",
       " '__rfloordiv__',\n",
       " '__rmatmul__',\n",
       " '__rmod__',\n",
       " '__rmul__',\n",
       " '__ror__',\n",
       " '__round__',\n",
       " '__rpow__',\n",
       " '__rsub__',\n",
       " '__rtruediv__',\n",
       " '__rxor__',\n",
       " '__setattr__',\n",
       " '__setitem__',\n",
       " '__setstate__',\n",
       " '__sizeof__',\n",
       " '__str__',\n",
       " '__sub__',\n",
       " '__subclasshook__',\n",
       " '__truediv__',\n",
       " '__weakref__',\n",
       " '__xor__',\n",
       " '_accessors',\n",
       " '_accum_func',\n",
       " '_add_numeric_operations',\n",
       " '_agg_by_level',\n",
       " '_agg_examples_doc',\n",
       " '_agg_summary_and_see_also_doc',\n",
       " '_align_frame',\n",
       " '_align_series',\n",
       " '_append',\n",
       " '_arith_method',\n",
       " '_as_manager',\n",
       " '_attrs',\n",
       " '_box_col_values',\n",
       " '_can_fast_transpose',\n",
       " '_check_inplace_and_allows_duplicate_labels',\n",
       " '_check_inplace_setting',\n",
       " '_check_is_chained_assignment_possible',\n",
       " '_check_label_or_level_ambiguity',\n",
       " '_check_setitem_copy',\n",
       " '_clear_item_cache',\n",
       " '_clip_with_one_bound',\n",
       " '_clip_with_scalar',\n",
       " '_cmp_method',\n",
       " '_combine_frame',\n",
       " '_consolidate',\n",
       " '_consolidate_inplace',\n",
       " '_construct_axes_dict',\n",
       " '_construct_axes_from_arguments',\n",
       " '_construct_result',\n",
       " '_constructor',\n",
       " '_constructor_sliced',\n",
       " '_convert',\n",
       " '_count_level',\n",
       " '_data',\n",
       " '_dir_additions',\n",
       " '_dir_deletions',\n",
       " '_dispatch_frame_op',\n",
       " '_drop_axis',\n",
       " '_drop_labels_or_levels',\n",
       " '_ensure_valid_index',\n",
       " '_find_valid_index',\n",
       " '_flags',\n",
       " '_from_arrays',\n",
       " '_from_mgr',\n",
       " '_get_agg_axis',\n",
       " '_get_axis',\n",
       " '_get_axis_name',\n",
       " '_get_axis_number',\n",
       " '_get_axis_resolvers',\n",
       " '_get_block_manager_axis',\n",
       " '_get_bool_data',\n",
       " '_get_cleaned_column_resolvers',\n",
       " '_get_column_array',\n",
       " '_get_index_resolvers',\n",
       " '_get_item_cache',\n",
       " '_get_label_or_level_values',\n",
       " '_get_numeric_data',\n",
       " '_get_value',\n",
       " '_getitem_bool_array',\n",
       " '_getitem_multilevel',\n",
       " '_gotitem',\n",
       " '_hidden_attrs',\n",
       " '_indexed_same',\n",
       " '_info_axis',\n",
       " '_info_axis_name',\n",
       " '_info_axis_number',\n",
       " '_info_repr',\n",
       " '_init_mgr',\n",
       " '_inplace_method',\n",
       " '_internal_names',\n",
       " '_internal_names_set',\n",
       " '_is_copy',\n",
       " '_is_homogeneous_type',\n",
       " '_is_label_or_level_reference',\n",
       " '_is_label_reference',\n",
       " '_is_level_reference',\n",
       " '_is_mixed_type',\n",
       " '_is_view',\n",
       " '_iset_item',\n",
       " '_iset_item_mgr',\n",
       " '_iset_not_inplace',\n",
       " '_item_cache',\n",
       " '_iter_column_arrays',\n",
       " '_ixs',\n",
       " '_join_compat',\n",
       " '_logical_func',\n",
       " '_logical_method',\n",
       " '_maybe_cache_changed',\n",
       " '_maybe_update_cacher',\n",
       " '_metadata',\n",
       " '_mgr',\n",
       " '_min_count_stat_function',\n",
       " '_needs_reindex_multi',\n",
       " '_protect_consolidate',\n",
       " '_reduce',\n",
       " '_reduce_axis1',\n",
       " '_reindex_axes',\n",
       " '_reindex_columns',\n",
       " '_reindex_index',\n",
       " '_reindex_multi',\n",
       " '_reindex_with_indexers',\n",
       " '_rename',\n",
       " '_replace_columnwise',\n",
       " '_repr_data_resource_',\n",
       " '_repr_fits_horizontal_',\n",
       " '_repr_fits_vertical_',\n",
       " '_repr_html_',\n",
       " '_repr_latex_',\n",
       " '_reset_cache',\n",
       " '_reset_cacher',\n",
       " '_sanitize_column',\n",
       " '_series',\n",
       " '_set_axis',\n",
       " '_set_axis_name',\n",
       " '_set_axis_nocheck',\n",
       " '_set_is_copy',\n",
       " '_set_item',\n",
       " '_set_item_frame_value',\n",
       " '_set_item_mgr',\n",
       " '_set_value',\n",
       " '_setitem_array',\n",
       " '_setitem_frame',\n",
       " '_setitem_slice',\n",
       " '_slice',\n",
       " '_stat_axis',\n",
       " '_stat_axis_name',\n",
       " '_stat_axis_number',\n",
       " '_stat_function',\n",
       " '_stat_function_ddof',\n",
       " '_take_with_is_copy',\n",
       " '_to_dict_of_blocks',\n",
       " '_typ',\n",
       " '_update_inplace',\n",
       " '_validate_dtype',\n",
       " '_values',\n",
       " '_where',\n",
       " 'abs',\n",
       " 'add',\n",
       " 'add_prefix',\n",
       " 'add_suffix',\n",
       " 'agg',\n",
       " 'aggregate',\n",
       " 'align',\n",
       " 'all',\n",
       " 'any',\n",
       " 'append',\n",
       " 'apply',\n",
       " 'applymap',\n",
       " 'asfreq',\n",
       " 'asof',\n",
       " 'assign',\n",
       " 'astype',\n",
       " 'at',\n",
       " 'at_time',\n",
       " 'attrs',\n",
       " 'axes',\n",
       " 'backfill',\n",
       " 'between_time',\n",
       " 'bfill',\n",
       " 'bool',\n",
       " 'boxplot',\n",
       " 'clip',\n",
       " 'columns',\n",
       " 'combine',\n",
       " 'combine_first',\n",
       " 'compare',\n",
       " 'convert_dtypes',\n",
       " 'copy',\n",
       " 'corr',\n",
       " 'corrwith',\n",
       " 'count',\n",
       " 'cov',\n",
       " 'cummax',\n",
       " 'cummin',\n",
       " 'cumprod',\n",
       " 'cumsum',\n",
       " 'describe',\n",
       " 'diff',\n",
       " 'div',\n",
       " 'divide',\n",
       " 'dot',\n",
       " 'drop',\n",
       " 'drop_duplicates',\n",
       " 'droplevel',\n",
       " 'dropna',\n",
       " 'dtypes',\n",
       " 'duplicated',\n",
       " 'empty',\n",
       " 'eq',\n",
       " 'equals',\n",
       " 'eval',\n",
       " 'ewm',\n",
       " 'expanding',\n",
       " 'explode',\n",
       " 'ffill',\n",
       " 'fillna',\n",
       " 'filter',\n",
       " 'first',\n",
       " 'first_valid_index',\n",
       " 'flags',\n",
       " 'floordiv',\n",
       " 'from_dict',\n",
       " 'from_records',\n",
       " 'ge',\n",
       " 'get',\n",
       " 'groupby',\n",
       " 'gt',\n",
       " 'head',\n",
       " 'hist',\n",
       " 'iat',\n",
       " 'idxmax',\n",
       " 'idxmin',\n",
       " 'iloc',\n",
       " 'index',\n",
       " 'infer_objects',\n",
       " 'info',\n",
       " 'insert',\n",
       " 'interpolate',\n",
       " 'isin',\n",
       " 'isna',\n",
       " 'isnull',\n",
       " 'items',\n",
       " 'iteritems',\n",
       " 'iterrows',\n",
       " 'itertuples',\n",
       " 'join',\n",
       " 'keys',\n",
       " 'kurt',\n",
       " 'kurtosis',\n",
       " 'last',\n",
       " 'last_valid_index',\n",
       " 'le',\n",
       " 'loc',\n",
       " 'lookup',\n",
       " 'lt',\n",
       " 'mad',\n",
       " 'mask',\n",
       " 'max',\n",
       " 'mean',\n",
       " 'median',\n",
       " 'melt',\n",
       " 'memory_usage',\n",
       " 'merge',\n",
       " 'min',\n",
       " 'mod',\n",
       " 'mode',\n",
       " 'mul',\n",
       " 'multiply',\n",
       " 'ndim',\n",
       " 'ne',\n",
       " 'nlargest',\n",
       " 'notna',\n",
       " 'notnull',\n",
       " 'nsmallest',\n",
       " 'nunique',\n",
       " 'pad',\n",
       " 'pct_change',\n",
       " 'pipe',\n",
       " 'pivot',\n",
       " 'pivot_table',\n",
       " 'plot',\n",
       " 'pop',\n",
       " 'pow',\n",
       " 'prod',\n",
       " 'product',\n",
       " 'quantile',\n",
       " 'query',\n",
       " 'radd',\n",
       " 'rank',\n",
       " 'rdiv',\n",
       " 'reindex',\n",
       " 'reindex_like',\n",
       " 'rename',\n",
       " 'rename_axis',\n",
       " 'reorder_levels',\n",
       " 'replace',\n",
       " 'resample',\n",
       " 'reset_index',\n",
       " 'rfloordiv',\n",
       " 'rmod',\n",
       " 'rmul',\n",
       " 'rolling',\n",
       " 'round',\n",
       " 'rpow',\n",
       " 'rsub',\n",
       " 'rtruediv',\n",
       " 'sample',\n",
       " 'select_dtypes',\n",
       " 'sem',\n",
       " 'set_axis',\n",
       " 'set_flags',\n",
       " 'set_index',\n",
       " 'shape',\n",
       " 'shift',\n",
       " 'size',\n",
       " 'skew',\n",
       " 'slice_shift',\n",
       " 'sort_index',\n",
       " 'sort_values',\n",
       " 'squeeze',\n",
       " 'stack',\n",
       " 'std',\n",
       " 'style',\n",
       " 'sub',\n",
       " 'subtract',\n",
       " 'sum',\n",
       " 'swapaxes',\n",
       " 'swaplevel',\n",
       " 'tail',\n",
       " 'take',\n",
       " 'to_clipboard',\n",
       " 'to_csv',\n",
       " 'to_dict',\n",
       " 'to_excel',\n",
       " 'to_feather',\n",
       " 'to_gbq',\n",
       " 'to_hdf',\n",
       " 'to_html',\n",
       " 'to_json',\n",
       " 'to_latex',\n",
       " 'to_markdown',\n",
       " 'to_numpy',\n",
       " 'to_parquet',\n",
       " 'to_period',\n",
       " 'to_pickle',\n",
       " 'to_records',\n",
       " 'to_sql',\n",
       " 'to_stata',\n",
       " 'to_string',\n",
       " 'to_timestamp',\n",
       " 'to_xarray',\n",
       " 'to_xml',\n",
       " 'transform',\n",
       " 'transpose',\n",
       " 'truediv',\n",
       " 'truncate',\n",
       " 'tz_convert',\n",
       " 'tz_localize',\n",
       " 'unstack',\n",
       " 'update',\n",
       " 'value_counts',\n",
       " 'values',\n",
       " 'var',\n",
       " 'where',\n",
       " 'xs']"
      ]
     },
     "execution_count": 27,
     "metadata": {},
     "output_type": "execute_result"
    }
   ],
   "source": [
    "dir(df)"
   ]
  },
  {
   "cell_type": "code",
   "execution_count": 28,
   "id": "ec8e0c58-669b-446c-9c35-3f27af77d12d",
   "metadata": {},
   "outputs": [
    {
     "data": {
      "text/plain": [
       "2"
      ]
     },
     "execution_count": 28,
     "metadata": {},
     "output_type": "execute_result"
    }
   ],
   "source": [
    "len(df)"
   ]
  },
  {
   "cell_type": "code",
   "execution_count": 29,
   "id": "19f50409-24f7-44f4-97de-96764eb32c76",
   "metadata": {
    "tags": []
   },
   "outputs": [],
   "source": [
    "# len(4)\n",
    "# dir(int)"
   ]
  },
  {
   "cell_type": "code",
   "execution_count": 30,
   "id": "91a5a02c-dc9f-4e92-b0b0-81de5db4a53e",
   "metadata": {
    "tags": []
   },
   "outputs": [
    {
     "data": {
      "text/plain": [
       "['__add__',\n",
       " '__class__',\n",
       " '__class_getitem__',\n",
       " '__contains__',\n",
       " '__delattr__',\n",
       " '__delitem__',\n",
       " '__dir__',\n",
       " '__doc__',\n",
       " '__eq__',\n",
       " '__format__',\n",
       " '__ge__',\n",
       " '__getattribute__',\n",
       " '__getitem__',\n",
       " '__gt__',\n",
       " '__hash__',\n",
       " '__iadd__',\n",
       " '__imul__',\n",
       " '__init__',\n",
       " '__init_subclass__',\n",
       " '__iter__',\n",
       " '__le__',\n",
       " '__len__',\n",
       " '__lt__',\n",
       " '__mul__',\n",
       " '__ne__',\n",
       " '__new__',\n",
       " '__reduce__',\n",
       " '__reduce_ex__',\n",
       " '__repr__',\n",
       " '__reversed__',\n",
       " '__rmul__',\n",
       " '__setattr__',\n",
       " '__setitem__',\n",
       " '__sizeof__',\n",
       " '__str__',\n",
       " '__subclasshook__',\n",
       " 'append',\n",
       " 'clear',\n",
       " 'copy',\n",
       " 'count',\n",
       " 'extend',\n",
       " 'index',\n",
       " 'insert',\n",
       " 'pop',\n",
       " 'remove',\n",
       " 'reverse',\n",
       " 'sort']"
      ]
     },
     "execution_count": 30,
     "metadata": {},
     "output_type": "execute_result"
    }
   ],
   "source": [
    "len([1,3, 44])\n",
    "dir(list)"
   ]
  },
  {
   "cell_type": "code",
   "execution_count": 31,
   "id": "240c2883-03fd-48bf-b405-6d2432ca2df7",
   "metadata": {},
   "outputs": [
    {
     "data": {
      "text/plain": [
       "['__repr__',\n",
       " '_info_repr',\n",
       " '_repr_data_resource_',\n",
       " '_repr_fits_horizontal_',\n",
       " '_repr_fits_vertical_',\n",
       " '_repr_html_',\n",
       " '_repr_latex_']"
      ]
     },
     "execution_count": 31,
     "metadata": {},
     "output_type": "execute_result"
    }
   ],
   "source": [
    "# list comprehension\n",
    "[ f for f in dir(df) if 'repr' in f ]"
   ]
  },
  {
   "cell_type": "code",
   "execution_count": 32,
   "id": "37ca3e10-2cf4-4ffb-a542-1cb2a9a15609",
   "metadata": {},
   "outputs": [
    {
     "name": "stdout",
     "output_type": "stream",
     "text": [
      "__repr__\n",
      "_info_repr\n",
      "_repr_data_resource_\n",
      "_repr_fits_horizontal_\n",
      "_repr_fits_vertical_\n",
      "_repr_html_\n",
      "_repr_latex_\n"
     ]
    }
   ],
   "source": [
    "for f in dir(df):\n",
    "    if 'repr' in f:\n",
    "        print(f)"
   ]
  },
  {
   "cell_type": "code",
   "execution_count": 33,
   "id": "aa398f7a-8063-4abd-b82a-ccaccd2654f0",
   "metadata": {},
   "outputs": [
    {
     "data": {
      "text/plain": [
       "<generator object <genexpr> at 0x000001FE1523FB30>"
      ]
     },
     "execution_count": 33,
     "metadata": {},
     "output_type": "execute_result"
    }
   ],
   "source": [
    "g = (f for f in dir(df) if 'repr' in f)\n",
    "g"
   ]
  },
  {
   "cell_type": "code",
   "execution_count": 34,
   "id": "38575d5f-f32b-4a8b-b589-a47d73ab0c87",
   "metadata": {},
   "outputs": [
    {
     "data": {
      "text/plain": [
       "'__repr__,_info_repr,_repr_data_resource_,_repr_fits_horizontal_,_repr_fits_vertical_,_repr_html_,_repr_latex_'"
      ]
     },
     "execution_count": 34,
     "metadata": {},
     "output_type": "execute_result"
    }
   ],
   "source": [
    "\",\".join(g)"
   ]
  },
  {
   "cell_type": "code",
   "execution_count": 35,
   "id": "7a0516f9-242d-4640-8246-39b965c40e89",
   "metadata": {},
   "outputs": [
    {
     "data": {
      "text/plain": [
       "''"
      ]
     },
     "execution_count": 35,
     "metadata": {},
     "output_type": "execute_result"
    }
   ],
   "source": [
    "\",\".join(g) # generator already consumed"
   ]
  },
  {
   "cell_type": "code",
   "execution_count": 36,
   "id": "cc9d71d7-1c49-43f9-bb8e-a1ed8e825ced",
   "metadata": {},
   "outputs": [
    {
     "data": {
      "text/plain": [
       "'__repr__,_info_repr,_repr_data_resource_,_repr_fits_horizontal_,_repr_fits_vertical_,_repr_html_,_repr_latex_'"
      ]
     },
     "execution_count": 36,
     "metadata": {},
     "output_type": "execute_result"
    }
   ],
   "source": [
    "\",\".join(f for f in dir(df) if 'repr' in f)"
   ]
  },
  {
   "cell_type": "code",
   "execution_count": 37,
   "id": "981fab78-c21b-4d85-aa79-358360281fbb",
   "metadata": {},
   "outputs": [],
   "source": [
    "values = [3, 5, 9]"
   ]
  },
  {
   "cell_type": "code",
   "execution_count": 38,
   "id": "d4896b4b-0c1a-4bda-bfe3-78ac323e3523",
   "metadata": {},
   "outputs": [
    {
     "data": {
      "text/plain": [
       "[10, 26, 82]"
      ]
     },
     "execution_count": 38,
     "metadata": {},
     "output_type": "execute_result"
    }
   ],
   "source": [
    "[ v**2+1 for v in values ]"
   ]
  },
  {
   "cell_type": "code",
   "execution_count": 39,
   "id": "d7c55605-3d43-41cd-b16c-6e1b0f2f57f5",
   "metadata": {},
   "outputs": [
    {
     "data": {
      "text/plain": [
       "118"
      ]
     },
     "execution_count": 39,
     "metadata": {},
     "output_type": "execute_result"
    }
   ],
   "source": [
    "# only parameter, no extra parenthesis\n",
    "sum(v**2+1 for v in values)"
   ]
  },
  {
   "cell_type": "code",
   "execution_count": 40,
   "id": "4766ee65-204c-4c1a-97dc-67ae9b39137d",
   "metadata": {},
   "outputs": [
    {
     "data": {
      "text/plain": [
       "218"
      ]
     },
     "execution_count": 40,
     "metadata": {},
     "output_type": "execute_result"
    }
   ],
   "source": [
    "# 2 parameters => generator expr must be parenthesized\n",
    "sum((v**2+1 for v in values), 100)"
   ]
  },
  {
   "cell_type": "code",
   "execution_count": 41,
   "id": "de76f015-71bd-4a40-898c-2b118a82d767",
   "metadata": {},
   "outputs": [
    {
     "data": {
      "text/plain": [
       "range(0, 100)"
      ]
     },
     "execution_count": 41,
     "metadata": {},
     "output_type": "execute_result"
    }
   ],
   "source": [
    "# lazy object ~ generator\n",
    "range(100)"
   ]
  },
  {
   "cell_type": "code",
   "execution_count": 42,
   "id": "6b63b6a6-eed5-423c-af03-4c203310a2d7",
   "metadata": {},
   "outputs": [],
   "source": [
    "def genFibo():\n",
    "    \"\"\" infinite generator, Fibonaci suite \"\"\"\n",
    "    a = 0\n",
    "    b = 1\n",
    "    yield a\n",
    "    yield b\n",
    "    while True:\n",
    "        a, b = b, a+b\n",
    "        yield b\n",
    "    "
   ]
  },
  {
   "cell_type": "code",
   "execution_count": 43,
   "id": "62ef1258-5ebe-46e9-b1dd-5e5b10031ab1",
   "metadata": {},
   "outputs": [
    {
     "data": {
      "text/plain": [
       "<generator object genFibo at 0x000001FE152AA0B0>"
      ]
     },
     "execution_count": 43,
     "metadata": {},
     "output_type": "execute_result"
    }
   ],
   "source": [
    "g = genFibo()\n",
    "g"
   ]
  },
  {
   "cell_type": "code",
   "execution_count": 44,
   "id": "ee9562f4-e14a-4789-806e-b8507e167984",
   "metadata": {},
   "outputs": [
    {
     "name": "stdout",
     "output_type": "stream",
     "text": [
      "0\n",
      "1\n",
      "1\n",
      "2\n",
      "3\n",
      "5\n",
      "8\n",
      "13\n",
      "21\n",
      "34\n"
     ]
    }
   ],
   "source": [
    "for _ in range(10):\n",
    "    print(next(g))"
   ]
  },
  {
   "cell_type": "code",
   "execution_count": 45,
   "id": "e7285ed5-5827-4d83-8e72-8c23df86a417",
   "metadata": {},
   "outputs": [
    {
     "data": {
      "text/plain": [
       "9"
      ]
     },
     "execution_count": 45,
     "metadata": {},
     "output_type": "execute_result"
    }
   ],
   "source": [
    "_"
   ]
  },
  {
   "cell_type": "code",
   "execution_count": 46,
   "id": "6e680f34-f79f-468f-8db7-30faf2751fb5",
   "metadata": {},
   "outputs": [
    {
     "data": {
      "text/plain": [
       "[(0, 0),\n",
       " (1, 1),\n",
       " (2, 1),\n",
       " (3, 2),\n",
       " (4, 3),\n",
       " (5, 5),\n",
       " (6, 8),\n",
       " (7, 13),\n",
       " (8, 21),\n",
       " (9, 34)]"
      ]
     },
     "execution_count": 46,
     "metadata": {},
     "output_type": "execute_result"
    }
   ],
   "source": [
    "listFibo = list(zip(range(10), genFibo()))\n",
    "listFibo"
   ]
  },
  {
   "cell_type": "markdown",
   "id": "91498292-f790-466e-8612-89ba90e59346",
   "metadata": {},
   "source": [
    "All is connected:\n",
    "- iterable: __iter__, iter()\n",
    "- iterator: __next__, is iterable (self)\n",
    "- generator"
   ]
  },
  {
   "cell_type": "code",
   "execution_count": 47,
   "id": "77cf6b41-2168-40f4-82fb-3dcdb3228962",
   "metadata": {
    "tags": []
   },
   "outputs": [
    {
     "data": {
      "text/plain": [
       "['__annotations__',\n",
       " '__call__',\n",
       " '__class__',\n",
       " '__closure__',\n",
       " '__code__',\n",
       " '__defaults__',\n",
       " '__delattr__',\n",
       " '__dict__',\n",
       " '__dir__',\n",
       " '__doc__',\n",
       " '__eq__',\n",
       " '__format__',\n",
       " '__ge__',\n",
       " '__get__',\n",
       " '__getattribute__',\n",
       " '__globals__',\n",
       " '__gt__',\n",
       " '__hash__',\n",
       " '__init__',\n",
       " '__init_subclass__',\n",
       " '__kwdefaults__',\n",
       " '__le__',\n",
       " '__lt__',\n",
       " '__module__',\n",
       " '__name__',\n",
       " '__ne__',\n",
       " '__new__',\n",
       " '__qualname__',\n",
       " '__reduce__',\n",
       " '__reduce_ex__',\n",
       " '__repr__',\n",
       " '__setattr__',\n",
       " '__sizeof__',\n",
       " '__str__',\n",
       " '__subclasshook__']"
      ]
     },
     "execution_count": 47,
     "metadata": {},
     "output_type": "execute_result"
    }
   ],
   "source": [
    "dir(genFibo) # a function is callable => '__call__'"
   ]
  },
  {
   "cell_type": "code",
   "execution_count": 48,
   "id": "428b5b02-e1a1-44bd-9e92-293aeaa9bd9d",
   "metadata": {},
   "outputs": [],
   "source": [
    "it = iter(listFibo)"
   ]
  },
  {
   "cell_type": "code",
   "execution_count": 49,
   "id": "d39a3115-fd82-4b40-b833-bfc00a07a456",
   "metadata": {
    "tags": []
   },
   "outputs": [
    {
     "data": {
      "text/plain": [
       "(0, 0)"
      ]
     },
     "execution_count": 49,
     "metadata": {},
     "output_type": "execute_result"
    }
   ],
   "source": [
    "# until exception StopIteration\n",
    "next(it)"
   ]
  },
  {
   "cell_type": "code",
   "execution_count": 50,
   "id": "8e762216-1da1-4038-892b-00c352da91a6",
   "metadata": {},
   "outputs": [],
   "source": [
    "assert iter(it) is it"
   ]
  },
  {
   "cell_type": "code",
   "execution_count": 51,
   "id": "42befd4f-1a1f-429b-b27c-b6d8845cf419",
   "metadata": {},
   "outputs": [
    {
     "name": "stdout",
     "output_type": "stream",
     "text": [
      "7.24 ms ± 1.48 ms per loop (mean ± std. dev. of 7 runs, 100 loops each)\n"
     ]
    }
   ],
   "source": [
    "%timeit l = list(zip(range(10000), genFibo()))"
   ]
  },
  {
   "cell_type": "code",
   "execution_count": 52,
   "id": "56fc514d-43f5-407e-b898-4101e2aa6c33",
   "metadata": {
    "tags": []
   },
   "outputs": [
    {
     "name": "stdout",
     "output_type": "stream",
     "text": [
      "Wall time: 11.8 ms\n"
     ]
    }
   ],
   "source": [
    "%time l = list(zip(range(10000), genFibo()))"
   ]
  },
  {
   "cell_type": "markdown",
   "id": "0c22147c-85b1-4710-930c-53775e6e2962",
   "metadata": {},
   "source": [
    "# Sequences and Dictionaries"
   ]
  },
  {
   "cell_type": "code",
   "execution_count": 53,
   "id": "42504573-6c61-491c-bbc5-316bda34ab30",
   "metadata": {
    "tags": []
   },
   "outputs": [],
   "source": [
    "# sequence : list, tuple, set\n",
    "# villes: list => no constraint on elements\n",
    "villes: List[str] = [ \"Toulouse\", 'Pau', \"Bayonne\" ]  # list, dynamic size, \"homogene\"\n",
    "tupleVille = (\"Toulouse\", 471941, 31000) # tuple, fixed size, \"heterogene\"\n",
    "cartes = { 'AS', 'ROI', '11' } # set\n"
   ]
  },
  {
   "cell_type": "code",
   "execution_count": 54,
   "id": "22b6739e-bd44-49cc-9068-f86f4a08c959",
   "metadata": {},
   "outputs": [
    {
     "data": {
      "text/plain": [
       "['Toulouse', 'Pau', 'Bayonne', 1]"
      ]
     },
     "execution_count": 54,
     "metadata": {},
     "output_type": "execute_result"
    }
   ],
   "source": [
    "# use linter, type checker to forbid following lines\n",
    "villes.append(1)\n",
    "villes"
   ]
  },
  {
   "cell_type": "code",
   "execution_count": 55,
   "id": "b00ead9c-f053-42d7-8553-286e74f528ac",
   "metadata": {},
   "outputs": [
    {
     "data": {
      "text/plain": [
       "{'11', 'AS', 'ROI'}"
      ]
     },
     "execution_count": 55,
     "metadata": {},
     "output_type": "execute_result"
    }
   ],
   "source": [
    "cartes.add('AS')\n",
    "cartes"
   ]
  },
  {
   "cell_type": "code",
   "execution_count": 56,
   "id": "25c9e062-f81b-4dfd-b674-e4f44136a172",
   "metadata": {},
   "outputs": [],
   "source": [
    "# dictionnaries: dynamique\n",
    "dictVille = { \"name\":\"Toulouse\", \"pop\":471941, \"cp\":31000 }"
   ]
  },
  {
   "cell_type": "code",
   "execution_count": 57,
   "id": "5b60192f-d6c0-4d8d-9a66-047ac95ba787",
   "metadata": {},
   "outputs": [
    {
     "data": {
      "text/plain": [
       "{'name': 'Toulouse', 'pop': 471941, 'cp': 31000, 'mayor': 'John Doe'}"
      ]
     },
     "execution_count": 57,
     "metadata": {},
     "output_type": "execute_result"
    }
   ],
   "source": [
    "dictVille[\"mayor\"] = \"John Doe\"\n",
    "dictVille"
   ]
  },
  {
   "cell_type": "code",
   "execution_count": 58,
   "id": "2cf6be3b-bb7c-47c7-89a8-8f67c078ae05",
   "metadata": {},
   "outputs": [
    {
     "data": {
      "text/plain": [
       "{'name': 'Toulouse', 'pop': 471941, 'cp': 31000}"
      ]
     },
     "execution_count": 58,
     "metadata": {},
     "output_type": "execute_result"
    }
   ],
   "source": [
    "del dictVille[\"mayor\"]\n",
    "dictVille"
   ]
  },
  {
   "cell_type": "code",
   "execution_count": 59,
   "id": "5f89444c-8e5d-470f-81ed-b4a55f5c61a7",
   "metadata": {},
   "outputs": [
    {
     "data": {
      "text/plain": [
       "['Toulouse', 'Pau', 'Bayonne']"
      ]
     },
     "execution_count": 59,
     "metadata": {},
     "output_type": "execute_result"
    }
   ],
   "source": [
    "del villes[3]\n",
    "villes"
   ]
  },
  {
   "cell_type": "code",
   "execution_count": 60,
   "id": "b2502756-012c-48fa-b254-2150bd4a88fe",
   "metadata": {},
   "outputs": [
    {
     "data": {
      "text/plain": [
       "(NoneType, True, False)"
      ]
     },
     "execution_count": 60,
     "metadata": {},
     "output_type": "execute_result"
    }
   ],
   "source": [
    "x = None\n",
    "type(x), x is None, x is not None"
   ]
  },
  {
   "cell_type": "code",
   "execution_count": 61,
   "id": "08183bf9-f7c5-46b6-b939-7b3cb8a678e7",
   "metadata": {},
   "outputs": [
    {
     "data": {
      "text/plain": [
       "True"
      ]
     },
     "execution_count": 61,
     "metadata": {},
     "output_type": "execute_result"
    }
   ],
   "source": [
    "villes == [ \"Toulouse\", 'Pau', \"Bayonne\" ]"
   ]
  },
  {
   "cell_type": "code",
   "execution_count": 62,
   "id": "22bb89a0-361c-4c19-bc03-df6873d5653b",
   "metadata": {},
   "outputs": [
    {
     "data": {
      "text/plain": [
       "False"
      ]
     },
     "execution_count": 62,
     "metadata": {},
     "output_type": "execute_result"
    }
   ],
   "source": [
    "villes is [ \"Toulouse\", 'Pau', \"Bayonne\" ]"
   ]
  },
  {
   "cell_type": "code",
   "execution_count": 63,
   "id": "fa3ad19f-bf5d-4793-a04e-1d93a50f6fc3",
   "metadata": {},
   "outputs": [
    {
     "name": "stderr",
     "output_type": "stream",
     "text": [
      "<>:1: SyntaxWarning: \"is\" with a literal. Did you mean \"==\"?\n",
      "<>:1: SyntaxWarning: \"is\" with a literal. Did you mean \"==\"?\n",
      "C:\\Users\\Matthias\\AppData\\Local\\Temp\\ipykernel_13240\\3747428822.py:1: SyntaxWarning: \"is\" with a literal. Did you mean \"==\"?\n",
      "  villes[0] is \"Toulouse\"\n"
     ]
    },
    {
     "data": {
      "text/plain": [
       "True"
      ]
     },
     "execution_count": 63,
     "metadata": {},
     "output_type": "execute_result"
    }
   ],
   "source": [
    "villes[0] is \"Toulouse\""
   ]
  },
  {
   "cell_type": "code",
   "execution_count": 64,
   "id": "458a09c9-e78a-44f2-be83-44fd056755af",
   "metadata": {},
   "outputs": [
    {
     "data": {
      "text/plain": [
       "True"
      ]
     },
     "execution_count": 64,
     "metadata": {},
     "output_type": "execute_result"
    }
   ],
   "source": [
    "# interfaces collections.abc (UML/Java like)\n",
    "isinstance(villes, Iterable)"
   ]
  },
  {
   "cell_type": "code",
   "execution_count": 65,
   "id": "baa3b6fa-fd4e-4b49-928b-c971b8006622",
   "metadata": {},
   "outputs": [
    {
     "data": {
      "text/plain": [
       "True"
      ]
     },
     "execution_count": 65,
     "metadata": {},
     "output_type": "execute_result"
    }
   ],
   "source": [
    "type(villes) is list"
   ]
  },
  {
   "cell_type": "markdown",
   "id": "44f8a91c-b22d-4b68-a5e9-ed35c23df032",
   "metadata": {},
   "source": [
    "## Simple Class"
   ]
  },
  {
   "cell_type": "code",
   "execution_count": 66,
   "id": "43ef9a58-c3d9-4255-b612-a530f3e9208f",
   "metadata": {},
   "outputs": [],
   "source": [
    "#class Movie(object):\n",
    "@total_ordering\n",
    "class Movie:\n",
    "    \n",
    "    # to protect attribute list\n",
    "    __slots__ = ['title', 'year']\n",
    "    \n",
    "    # constructor\n",
    "    def __init__(self, title=None, year=None):\n",
    "        self.title = title\n",
    "        self.year = year\n",
    "        \n",
    "    # __repr__ => ____str__\n",
    "    def __repr__(self):\n",
    "        return f\"{self.title} ({self.year})\"\n",
    "    \n",
    "    def __eq__(self, other):\n",
    "        # strict typing (or isinstance)\n",
    "        if type(other) != Movie:\n",
    "            return NotImplemented\n",
    "        return (self.title, self.year) == (other.title, other.year)\n",
    "    \n",
    "    def __hash__(self):\n",
    "        # NB: None is False\n",
    "        hash_title = hash(self.title) if self.title else 0\n",
    "        hash_year = self.year if self.year is not None else 0\n",
    "        return hash_title + hash_year\n",
    "    \n",
    "    def __lt__(self, other):\n",
    "        if type(other) != Movie:\n",
    "            return NotImplemented\n",
    "        return (self.year, self.title) < (other.year, other.title)\n",
    "    \n",
    "\n",
    "        \n",
    "    "
   ]
  },
  {
   "cell_type": "code",
   "execution_count": 67,
   "id": "95799a71-8ed0-4338-b09f-db629ba067af",
   "metadata": {},
   "outputs": [],
   "source": [
    "movieDefault = Movie() # => __new__  puis __init__\n",
    "movie = Movie('Top Gun: Maverick', 2022) "
   ]
  },
  {
   "cell_type": "code",
   "execution_count": 68,
   "id": "66af50fb-cb2b-4d30-b3a4-4d820f1f6995",
   "metadata": {},
   "outputs": [
    {
     "name": "stdout",
     "output_type": "stream",
     "text": [
      "None (None) Top Gun: Maverick (2022)\n"
     ]
    },
    {
     "data": {
      "text/plain": [
       "None (None)"
      ]
     },
     "execution_count": 68,
     "metadata": {},
     "output_type": "execute_result"
    }
   ],
   "source": [
    "print(movieDefault, movie)\n",
    "movieDefault"
   ]
  },
  {
   "cell_type": "code",
   "execution_count": 69,
   "id": "3f6f74c0-ede2-4902-9123-26620fb6caa6",
   "metadata": {},
   "outputs": [
    {
     "data": {
      "text/plain": [
       "'Top Gun: Maverick (2022)'"
      ]
     },
     "execution_count": 69,
     "metadata": {},
     "output_type": "execute_result"
    }
   ],
   "source": [
    "movie.__repr__()"
   ]
  },
  {
   "cell_type": "code",
   "execution_count": 70,
   "id": "cee62712-6b35-43a7-a859-68d0e77856a5",
   "metadata": {},
   "outputs": [
    {
     "data": {
      "text/plain": [
       "'Top Gun: Maverick (2022)'"
      ]
     },
     "execution_count": 70,
     "metadata": {},
     "output_type": "execute_result"
    }
   ],
   "source": [
    "Movie.__repr__(movie)"
   ]
  },
  {
   "cell_type": "code",
   "execution_count": 71,
   "id": "aebbcdb2-98a8-48bd-b450-c5512037d5da",
   "metadata": {
    "tags": []
   },
   "outputs": [
    {
     "data": {
      "text/plain": [
       "['__class__',\n",
       " '__delattr__',\n",
       " '__dir__',\n",
       " '__doc__',\n",
       " '__eq__',\n",
       " '__format__',\n",
       " '__ge__',\n",
       " '__getattribute__',\n",
       " '__gt__',\n",
       " '__hash__',\n",
       " '__init__',\n",
       " '__init_subclass__',\n",
       " '__le__',\n",
       " '__lt__',\n",
       " '__module__',\n",
       " '__ne__',\n",
       " '__new__',\n",
       " '__reduce__',\n",
       " '__reduce_ex__',\n",
       " '__repr__',\n",
       " '__setattr__',\n",
       " '__sizeof__',\n",
       " '__slots__',\n",
       " '__str__',\n",
       " '__subclasshook__',\n",
       " 'title',\n",
       " 'year']"
      ]
     },
     "execution_count": 71,
     "metadata": {},
     "output_type": "execute_result"
    }
   ],
   "source": [
    "dir(Movie)"
   ]
  },
  {
   "cell_type": "code",
   "execution_count": 72,
   "id": "77973eb3-36bf-4f92-baa7-4dfb6ba647c3",
   "metadata": {
    "tags": []
   },
   "outputs": [
    {
     "data": {
      "text/plain": [
       "False"
      ]
     },
     "execution_count": 72,
     "metadata": {},
     "output_type": "execute_result"
    }
   ],
   "source": [
    "movieDefault == movie "
   ]
  },
  {
   "cell_type": "code",
   "execution_count": 73,
   "id": "663db42e-a03f-48be-bbfb-5e9f3013979a",
   "metadata": {},
   "outputs": [
    {
     "data": {
      "text/plain": [
       "True"
      ]
     },
     "execution_count": 73,
     "metadata": {},
     "output_type": "execute_result"
    }
   ],
   "source": [
    "movie == movie "
   ]
  },
  {
   "cell_type": "code",
   "execution_count": 74,
   "id": "06924327-0fb5-47b0-b73e-1a0cc80f2013",
   "metadata": {},
   "outputs": [
    {
     "data": {
      "text/plain": [
       "True"
      ]
     },
     "execution_count": 74,
     "metadata": {},
     "output_type": "execute_result"
    }
   ],
   "source": [
    "movie == Movie('Top Gun: Maverick', 2022)"
   ]
  },
  {
   "cell_type": "code",
   "execution_count": 75,
   "id": "32e93380-7f6b-4142-b74b-62ddd36768f8",
   "metadata": {},
   "outputs": [
    {
     "data": {
      "text/plain": [
       "False"
      ]
     },
     "execution_count": 75,
     "metadata": {},
     "output_type": "execute_result"
    }
   ],
   "source": [
    "# Movie, int: both return NotImplemented => False\n",
    "movieDefault == 3"
   ]
  },
  {
   "cell_type": "code",
   "execution_count": 76,
   "id": "1af96b8b-1454-40d5-8d5c-fb4e0624a5dc",
   "metadata": {
    "tags": []
   },
   "outputs": [
    {
     "name": "stdout",
     "output_type": "stream",
     "text": [
      "With __slots__ not possible: 'Movie' object has no attribute 'duration'\n"
     ]
    }
   ],
   "source": [
    "# ok by default, exception with __slots__\n",
    "try:\n",
    "    movie.duration = 123\n",
    "    movie.duration\n",
    "except AttributeError as e:\n",
    "    print(\"With __slots__ not possible:\", e)"
   ]
  },
  {
   "cell_type": "code",
   "execution_count": 77,
   "id": "1342a4ca-3780-48bb-bc41-91b0d3ff727a",
   "metadata": {
    "tags": []
   },
   "outputs": [
    {
     "ename": "AttributeError",
     "evalue": "'Movie' object has no attribute 'duration'",
     "output_type": "error",
     "traceback": [
      "\u001b[1;31m---------------------------------------------------------------------------\u001b[0m",
      "\u001b[1;31mAttributeError\u001b[0m                            Traceback (most recent call last)",
      "\u001b[1;32m~\\AppData\\Local\\Temp\\ipykernel_13240\\2507162161.py\u001b[0m in \u001b[0;36m<cell line: 1>\u001b[1;34m()\u001b[0m\n\u001b[1;32m----> 1\u001b[1;33m \u001b[1;32mdel\u001b[0m \u001b[0mmovie\u001b[0m\u001b[1;33m.\u001b[0m\u001b[0mduration\u001b[0m\u001b[1;33m\u001b[0m\u001b[1;33m\u001b[0m\u001b[0m\n\u001b[0m",
      "\u001b[1;31mAttributeError\u001b[0m: 'Movie' object has no attribute 'duration'"
     ]
    }
   ],
   "source": [
    "del movie.duration"
   ]
  },
  {
   "cell_type": "code",
   "execution_count": null,
   "id": "1df987f9-fe8f-4a6d-afbd-c5c5748e79e6",
   "metadata": {
    "tags": []
   },
   "outputs": [],
   "source": [
    "# AttributeError: 'Movie' object has no attribute 'duration'\n",
    "movie.duration"
   ]
  },
  {
   "cell_type": "code",
   "execution_count": null,
   "id": "ffb13764-bb0d-48af-a18e-ea3d6d830238",
   "metadata": {
    "jupyter": {
     "source_hidden": true
    },
    "tags": []
   },
   "outputs": [],
   "source": [
    "movie.f = lambda x: movie.year + x "
   ]
  },
  {
   "cell_type": "code",
   "execution_count": null,
   "id": "4c391ff2-8cae-43ed-a35c-00bfe07dc153",
   "metadata": {},
   "outputs": [],
   "source": [
    "movie.f"
   ]
  },
  {
   "cell_type": "code",
   "execution_count": null,
   "id": "b12f4ced-fa16-46aa-8baf-e91cd4395106",
   "metadata": {},
   "outputs": [],
   "source": [
    "movie.f(3)"
   ]
  },
  {
   "cell_type": "code",
   "execution_count": null,
   "id": "6ba94376-5c30-49ce-aa67-174aff16bf66",
   "metadata": {
    "tags": []
   },
   "outputs": [],
   "source": [
    "movieDefault.f"
   ]
  },
  {
   "cell_type": "code",
   "execution_count": null,
   "id": "bb45ff7d-34d6-418a-a849-f92f3eb4d809",
   "metadata": {
    "tags": []
   },
   "outputs": [],
   "source": [
    "Movie.__init__"
   ]
  },
  {
   "cell_type": "code",
   "execution_count": null,
   "id": "3701e8bf-bd4a-4f2f-8a8a-8c1628979d23",
   "metadata": {},
   "outputs": [],
   "source": [
    "movie2 = Movie(\"The Man Who Knew Too Much\", 1956)\n",
    "movie3 = Movie(\"The Man Who Knew Too Much\", 1934)\n",
    "movie4 = Movie(\"Prey\", 2022)\n",
    "movies = [ movie, movie2, movie3, movie4 ]"
   ]
  },
  {
   "cell_type": "code",
   "execution_count": null,
   "id": "1066b164-8e9f-4523-8868-82e4be0d1377",
   "metadata": {},
   "outputs": [],
   "source": [
    "movieSet = { movieDefault, movie, movie2, movie3, movie4 }\n",
    "movieSet"
   ]
  },
  {
   "cell_type": "code",
   "execution_count": null,
   "id": "a23cd946-8212-4986-988f-92279f19cb99",
   "metadata": {},
   "outputs": [],
   "source": [
    "# dict comprehension\n",
    "{ str(m): hash(m) for m in movieSet }"
   ]
  },
  {
   "cell_type": "code",
   "execution_count": null,
   "id": "44c1e064-0d3c-4c1c-b942-818f5a6fb4e3",
   "metadata": {},
   "outputs": [],
   "source": [
    "movie2 < movie3, movie2 > movie3"
   ]
  },
  {
   "cell_type": "code",
   "execution_count": null,
   "id": "391bb150-7b54-4bd5-84c0-388558a59c61",
   "metadata": {},
   "outputs": [],
   "source": [
    "movie2 <= movie3"
   ]
  },
  {
   "cell_type": "code",
   "execution_count": null,
   "id": "bbcd6427-a115-46de-905a-04655416009b",
   "metadata": {},
   "outputs": [],
   "source": [
    "# sort in place\n",
    "movies.sort()\n",
    "movies"
   ]
  },
  {
   "cell_type": "code",
   "execution_count": null,
   "id": "9e80d748-fd35-410c-ade4-95a685f5c0da",
   "metadata": {},
   "outputs": [],
   "source": [
    "# tri dans une autre list\n",
    "movies2 = sorted(m for m in movieSet if m.year is not None)\n",
    "movies2"
   ]
  },
  {
   "cell_type": "code",
   "execution_count": null,
   "id": "c05a5bb5-daf6-4a56-be63-ecf53bcd11df",
   "metadata": {},
   "outputs": [],
   "source": [
    "movies.sort(reverse=True)\n",
    "movies"
   ]
  },
  {
   "cell_type": "code",
   "execution_count": null,
   "id": "fdcf0f5c-9ad0-46e5-b0f5-d38efdfb507c",
   "metadata": {},
   "outputs": [],
   "source": [
    "movies.sort(key = lambda m: m.title)  # m => m.title\n",
    "movies"
   ]
  },
  {
   "cell_type": "code",
   "execution_count": null,
   "id": "18582250-8722-4d1f-ab78-c06ed93abeed",
   "metadata": {},
   "outputs": [],
   "source": [
    "movies.sort(key = lambda m: (m.title, m.year))\n",
    "movies"
   ]
  },
  {
   "cell_type": "code",
   "execution_count": null,
   "id": "3f8f04a7-db93-4dcc-8e77-c903fd88adc8",
   "metadata": {},
   "outputs": [],
   "source": [
    "movies.sort(key = lambda m: (m.title, -m.year))\n",
    "movies"
   ]
  },
  {
   "cell_type": "code",
   "execution_count": null,
   "id": "c862a8f9-b924-4331-9c35-d300f615d752",
   "metadata": {},
   "outputs": [],
   "source": [
    "movies.sort(key = op.attrgetter('title'))  # m => m.title\n",
    "movies"
   ]
  },
  {
   "cell_type": "code",
   "execution_count": null,
   "id": "b4e840cb-b4ae-4ff1-95d8-a0e4a20c1818",
   "metadata": {},
   "outputs": [],
   "source": [
    "op.attrgetter?"
   ]
  },
  {
   "cell_type": "code",
   "execution_count": null,
   "id": "365dbb39-fd31-4f49-bf7b-0a96fffc7990",
   "metadata": {},
   "outputs": [],
   "source": [
    "class Person:\n",
    "    pass"
   ]
  },
  {
   "cell_type": "code",
   "execution_count": null,
   "id": "323a07ae-e1f3-4be4-948e-2e93632fa2c3",
   "metadata": {},
   "outputs": [],
   "source": [
    "p = Person()"
   ]
  },
  {
   "cell_type": "code",
   "execution_count": null,
   "id": "78a93d4c-2ba4-4324-bd1a-2dc214e3bff8",
   "metadata": {},
   "outputs": [],
   "source": [
    "plt.plot?"
   ]
  },
  {
   "cell_type": "code",
   "execution_count": null,
   "id": "b3c3b459-7dbe-46ca-b77c-b254b88b05e2",
   "metadata": {},
   "outputs": [],
   "source": [
    "sum = lambda a,b: a-b"
   ]
  },
  {
   "cell_type": "code",
   "execution_count": null,
   "id": "a4613ba4-ab40-49fb-a95d-efd799680b5e",
   "metadata": {},
   "outputs": [],
   "source": [
    "# fake sum\n",
    "sum(3,5)"
   ]
  },
  {
   "cell_type": "code",
   "execution_count": null,
   "id": "5e8f99aa-a00b-43e8-b5b5-47f58db9213e",
   "metadata": {},
   "outputs": [],
   "source": [
    "del sum"
   ]
  },
  {
   "cell_type": "code",
   "execution_count": null,
   "id": "bab68726-9d82-4677-a3a5-4af320303248",
   "metadata": {},
   "outputs": [],
   "source": [
    "# true builtin sum\n",
    "sum((3,5))"
   ]
  },
  {
   "cell_type": "code",
   "execution_count": null,
   "id": "abbc99cc-6931-4522-9783-1d74d86e8238",
   "metadata": {
    "tags": []
   },
   "outputs": [],
   "source": [
    "dir()"
   ]
  },
  {
   "cell_type": "code",
   "execution_count": null,
   "id": "ff0578eb-a716-4198-9ff6-946d15a9c2f2",
   "metadata": {},
   "outputs": [],
   "source": [
    "# builtin sum is still there\n",
    "__builtin__.sum"
   ]
  },
  {
   "cell_type": "code",
   "execution_count": null,
   "id": "10138737-2445-4c29-bfaa-84e5e52c006e",
   "metadata": {},
   "outputs": [],
   "source": [
    "# is, not are keywords\n",
    "# is = sum\n",
    "# SyntaxError: invalid syntax"
   ]
  },
  {
   "cell_type": "markdown",
   "id": "4ec0729d-36d9-4ece-b362-0b604442c511",
   "metadata": {},
   "source": [
    "## Time types in python and pandas"
   ]
  },
  {
   "cell_type": "code",
   "execution_count": null,
   "id": "12b7a1c4-2b88-4774-88a8-8d138ec9541e",
   "metadata": {},
   "outputs": [],
   "source": [
    "from datetime import date, datetime, time, timedelta"
   ]
  },
  {
   "cell_type": "code",
   "execution_count": null,
   "id": "de971b3e-4ccc-4dd9-a5ed-6acb530366a3",
   "metadata": {},
   "outputs": [],
   "source": [
    "d = date.today()\n",
    "dt = datetime.now()\n",
    "print(d, dt, sep=\" ; \")"
   ]
  },
  {
   "cell_type": "code",
   "execution_count": null,
   "id": "f1a7a499-a4dd-449c-a077-d7704cb42be2",
   "metadata": {},
   "outputs": [],
   "source": [
    "datetime.strptime(\"06/10/2022\", \"%d/%m/%Y\").date()"
   ]
  },
  {
   "cell_type": "code",
   "execution_count": null,
   "id": "89399bd3-b98e-4d2d-88de-52b0980eaa2e",
   "metadata": {},
   "outputs": [],
   "source": [
    "dFuture = datetime(2400, 2, 29)\n",
    "dFuture"
   ]
  },
  {
   "cell_type": "code",
   "execution_count": null,
   "id": "721797be-accc-472d-926c-17f6727c0be6",
   "metadata": {},
   "outputs": [],
   "source": [
    "dFuture + timedelta(days=3, hours=12)"
   ]
  }
 ],
 "metadata": {
  "kernelspec": {
   "display_name": "Python 3 (ipykernel)",
   "language": "python",
   "name": "python3"
  },
  "language_info": {
   "codemirror_mode": {
    "name": "ipython",
    "version": 3
   },
   "file_extension": ".py",
   "mimetype": "text/x-python",
   "name": "python",
   "nbconvert_exporter": "python",
   "pygments_lexer": "ipython3",
   "version": "3.9.12"
  }
 },
 "nbformat": 4,
 "nbformat_minor": 5
}
