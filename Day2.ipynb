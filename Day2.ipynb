{
 "cells": [
  {
   "cell_type": "code",
   "execution_count": 149,
   "id": "6b6fec5c-f1f2-48e7-a348-12d6c4179501",
   "metadata": {},
   "outputs": [],
   "source": [
    "import pandas as pd\n",
    "import matplotlib.pyplot as plt\n",
    "import numpy as np\n",
    "from typing import Union, Dict, Optional\n",
    "import math\n",
    "import re\n",
    "from datetime import datetime"
   ]
  },
  {
   "cell_type": "markdown",
   "id": "1208ffdb-6006-4aec-b4c6-3ae640b9f47e",
   "metadata": {
    "tags": []
   },
   "source": [
    "# Functions"
   ]
  },
  {
   "cell_type": "code",
   "execution_count": 2,
   "id": "f81eccbb-2896-4363-8d40-0696ae1ad92f",
   "metadata": {
    "tags": []
   },
   "outputs": [
    {
     "data": {
      "text/plain": [
       "\u001b[1;31mSignature:\u001b[0m\n",
       "\u001b[0mpd\u001b[0m\u001b[1;33m.\u001b[0m\u001b[0mread_csv\u001b[0m\u001b[1;33m(\u001b[0m\u001b[1;33m\n",
       "\u001b[0m    \u001b[0mfilepath_or_buffer\u001b[0m\u001b[1;33m:\u001b[0m \u001b[1;34m'FilePath | ReadCsvBuffer[bytes] | ReadCsvBuffer[str]'\u001b[0m\u001b[1;33m,\u001b[0m\u001b[1;33m\n",
       "\u001b[0m    \u001b[0msep\u001b[0m\u001b[1;33m=\u001b[0m\u001b[1;33m<\u001b[0m\u001b[0mno_default\u001b[0m\u001b[1;33m>\u001b[0m\u001b[1;33m,\u001b[0m\u001b[1;33m\n",
       "\u001b[0m    \u001b[0mdelimiter\u001b[0m\u001b[1;33m=\u001b[0m\u001b[1;32mNone\u001b[0m\u001b[1;33m,\u001b[0m\u001b[1;33m\n",
       "\u001b[0m    \u001b[0mheader\u001b[0m\u001b[1;33m=\u001b[0m\u001b[1;34m'infer'\u001b[0m\u001b[1;33m,\u001b[0m\u001b[1;33m\n",
       "\u001b[0m    \u001b[0mnames\u001b[0m\u001b[1;33m=\u001b[0m\u001b[1;33m<\u001b[0m\u001b[0mno_default\u001b[0m\u001b[1;33m>\u001b[0m\u001b[1;33m,\u001b[0m\u001b[1;33m\n",
       "\u001b[0m    \u001b[0mindex_col\u001b[0m\u001b[1;33m=\u001b[0m\u001b[1;32mNone\u001b[0m\u001b[1;33m,\u001b[0m\u001b[1;33m\n",
       "\u001b[0m    \u001b[0musecols\u001b[0m\u001b[1;33m=\u001b[0m\u001b[1;32mNone\u001b[0m\u001b[1;33m,\u001b[0m\u001b[1;33m\n",
       "\u001b[0m    \u001b[0msqueeze\u001b[0m\u001b[1;33m=\u001b[0m\u001b[1;32mNone\u001b[0m\u001b[1;33m,\u001b[0m\u001b[1;33m\n",
       "\u001b[0m    \u001b[0mprefix\u001b[0m\u001b[1;33m=\u001b[0m\u001b[1;33m<\u001b[0m\u001b[0mno_default\u001b[0m\u001b[1;33m>\u001b[0m\u001b[1;33m,\u001b[0m\u001b[1;33m\n",
       "\u001b[0m    \u001b[0mmangle_dupe_cols\u001b[0m\u001b[1;33m=\u001b[0m\u001b[1;32mTrue\u001b[0m\u001b[1;33m,\u001b[0m\u001b[1;33m\n",
       "\u001b[0m    \u001b[0mdtype\u001b[0m\u001b[1;33m:\u001b[0m \u001b[1;34m'DtypeArg | None'\u001b[0m \u001b[1;33m=\u001b[0m \u001b[1;32mNone\u001b[0m\u001b[1;33m,\u001b[0m\u001b[1;33m\n",
       "\u001b[0m    \u001b[0mengine\u001b[0m\u001b[1;33m:\u001b[0m \u001b[1;34m'CSVEngine | None'\u001b[0m \u001b[1;33m=\u001b[0m \u001b[1;32mNone\u001b[0m\u001b[1;33m,\u001b[0m\u001b[1;33m\n",
       "\u001b[0m    \u001b[0mconverters\u001b[0m\u001b[1;33m=\u001b[0m\u001b[1;32mNone\u001b[0m\u001b[1;33m,\u001b[0m\u001b[1;33m\n",
       "\u001b[0m    \u001b[0mtrue_values\u001b[0m\u001b[1;33m=\u001b[0m\u001b[1;32mNone\u001b[0m\u001b[1;33m,\u001b[0m\u001b[1;33m\n",
       "\u001b[0m    \u001b[0mfalse_values\u001b[0m\u001b[1;33m=\u001b[0m\u001b[1;32mNone\u001b[0m\u001b[1;33m,\u001b[0m\u001b[1;33m\n",
       "\u001b[0m    \u001b[0mskipinitialspace\u001b[0m\u001b[1;33m=\u001b[0m\u001b[1;32mFalse\u001b[0m\u001b[1;33m,\u001b[0m\u001b[1;33m\n",
       "\u001b[0m    \u001b[0mskiprows\u001b[0m\u001b[1;33m=\u001b[0m\u001b[1;32mNone\u001b[0m\u001b[1;33m,\u001b[0m\u001b[1;33m\n",
       "\u001b[0m    \u001b[0mskipfooter\u001b[0m\u001b[1;33m=\u001b[0m\u001b[1;36m0\u001b[0m\u001b[1;33m,\u001b[0m\u001b[1;33m\n",
       "\u001b[0m    \u001b[0mnrows\u001b[0m\u001b[1;33m=\u001b[0m\u001b[1;32mNone\u001b[0m\u001b[1;33m,\u001b[0m\u001b[1;33m\n",
       "\u001b[0m    \u001b[0mna_values\u001b[0m\u001b[1;33m=\u001b[0m\u001b[1;32mNone\u001b[0m\u001b[1;33m,\u001b[0m\u001b[1;33m\n",
       "\u001b[0m    \u001b[0mkeep_default_na\u001b[0m\u001b[1;33m=\u001b[0m\u001b[1;32mTrue\u001b[0m\u001b[1;33m,\u001b[0m\u001b[1;33m\n",
       "\u001b[0m    \u001b[0mna_filter\u001b[0m\u001b[1;33m=\u001b[0m\u001b[1;32mTrue\u001b[0m\u001b[1;33m,\u001b[0m\u001b[1;33m\n",
       "\u001b[0m    \u001b[0mverbose\u001b[0m\u001b[1;33m=\u001b[0m\u001b[1;32mFalse\u001b[0m\u001b[1;33m,\u001b[0m\u001b[1;33m\n",
       "\u001b[0m    \u001b[0mskip_blank_lines\u001b[0m\u001b[1;33m=\u001b[0m\u001b[1;32mTrue\u001b[0m\u001b[1;33m,\u001b[0m\u001b[1;33m\n",
       "\u001b[0m    \u001b[0mparse_dates\u001b[0m\u001b[1;33m=\u001b[0m\u001b[1;32mNone\u001b[0m\u001b[1;33m,\u001b[0m\u001b[1;33m\n",
       "\u001b[0m    \u001b[0minfer_datetime_format\u001b[0m\u001b[1;33m=\u001b[0m\u001b[1;32mFalse\u001b[0m\u001b[1;33m,\u001b[0m\u001b[1;33m\n",
       "\u001b[0m    \u001b[0mkeep_date_col\u001b[0m\u001b[1;33m=\u001b[0m\u001b[1;32mFalse\u001b[0m\u001b[1;33m,\u001b[0m\u001b[1;33m\n",
       "\u001b[0m    \u001b[0mdate_parser\u001b[0m\u001b[1;33m=\u001b[0m\u001b[1;32mNone\u001b[0m\u001b[1;33m,\u001b[0m\u001b[1;33m\n",
       "\u001b[0m    \u001b[0mdayfirst\u001b[0m\u001b[1;33m=\u001b[0m\u001b[1;32mFalse\u001b[0m\u001b[1;33m,\u001b[0m\u001b[1;33m\n",
       "\u001b[0m    \u001b[0mcache_dates\u001b[0m\u001b[1;33m=\u001b[0m\u001b[1;32mTrue\u001b[0m\u001b[1;33m,\u001b[0m\u001b[1;33m\n",
       "\u001b[0m    \u001b[0miterator\u001b[0m\u001b[1;33m=\u001b[0m\u001b[1;32mFalse\u001b[0m\u001b[1;33m,\u001b[0m\u001b[1;33m\n",
       "\u001b[0m    \u001b[0mchunksize\u001b[0m\u001b[1;33m=\u001b[0m\u001b[1;32mNone\u001b[0m\u001b[1;33m,\u001b[0m\u001b[1;33m\n",
       "\u001b[0m    \u001b[0mcompression\u001b[0m\u001b[1;33m:\u001b[0m \u001b[1;34m'CompressionOptions'\u001b[0m \u001b[1;33m=\u001b[0m \u001b[1;34m'infer'\u001b[0m\u001b[1;33m,\u001b[0m\u001b[1;33m\n",
       "\u001b[0m    \u001b[0mthousands\u001b[0m\u001b[1;33m=\u001b[0m\u001b[1;32mNone\u001b[0m\u001b[1;33m,\u001b[0m\u001b[1;33m\n",
       "\u001b[0m    \u001b[0mdecimal\u001b[0m\u001b[1;33m:\u001b[0m \u001b[1;34m'str'\u001b[0m \u001b[1;33m=\u001b[0m \u001b[1;34m'.'\u001b[0m\u001b[1;33m,\u001b[0m\u001b[1;33m\n",
       "\u001b[0m    \u001b[0mlineterminator\u001b[0m\u001b[1;33m=\u001b[0m\u001b[1;32mNone\u001b[0m\u001b[1;33m,\u001b[0m\u001b[1;33m\n",
       "\u001b[0m    \u001b[0mquotechar\u001b[0m\u001b[1;33m=\u001b[0m\u001b[1;34m'\"'\u001b[0m\u001b[1;33m,\u001b[0m\u001b[1;33m\n",
       "\u001b[0m    \u001b[0mquoting\u001b[0m\u001b[1;33m=\u001b[0m\u001b[1;36m0\u001b[0m\u001b[1;33m,\u001b[0m\u001b[1;33m\n",
       "\u001b[0m    \u001b[0mdoublequote\u001b[0m\u001b[1;33m=\u001b[0m\u001b[1;32mTrue\u001b[0m\u001b[1;33m,\u001b[0m\u001b[1;33m\n",
       "\u001b[0m    \u001b[0mescapechar\u001b[0m\u001b[1;33m=\u001b[0m\u001b[1;32mNone\u001b[0m\u001b[1;33m,\u001b[0m\u001b[1;33m\n",
       "\u001b[0m    \u001b[0mcomment\u001b[0m\u001b[1;33m=\u001b[0m\u001b[1;32mNone\u001b[0m\u001b[1;33m,\u001b[0m\u001b[1;33m\n",
       "\u001b[0m    \u001b[0mencoding\u001b[0m\u001b[1;33m=\u001b[0m\u001b[1;32mNone\u001b[0m\u001b[1;33m,\u001b[0m\u001b[1;33m\n",
       "\u001b[0m    \u001b[0mencoding_errors\u001b[0m\u001b[1;33m:\u001b[0m \u001b[1;34m'str | None'\u001b[0m \u001b[1;33m=\u001b[0m \u001b[1;34m'strict'\u001b[0m\u001b[1;33m,\u001b[0m\u001b[1;33m\n",
       "\u001b[0m    \u001b[0mdialect\u001b[0m\u001b[1;33m=\u001b[0m\u001b[1;32mNone\u001b[0m\u001b[1;33m,\u001b[0m\u001b[1;33m\n",
       "\u001b[0m    \u001b[0merror_bad_lines\u001b[0m\u001b[1;33m=\u001b[0m\u001b[1;32mNone\u001b[0m\u001b[1;33m,\u001b[0m\u001b[1;33m\n",
       "\u001b[0m    \u001b[0mwarn_bad_lines\u001b[0m\u001b[1;33m=\u001b[0m\u001b[1;32mNone\u001b[0m\u001b[1;33m,\u001b[0m\u001b[1;33m\n",
       "\u001b[0m    \u001b[0mon_bad_lines\u001b[0m\u001b[1;33m=\u001b[0m\u001b[1;32mNone\u001b[0m\u001b[1;33m,\u001b[0m\u001b[1;33m\n",
       "\u001b[0m    \u001b[0mdelim_whitespace\u001b[0m\u001b[1;33m=\u001b[0m\u001b[1;32mFalse\u001b[0m\u001b[1;33m,\u001b[0m\u001b[1;33m\n",
       "\u001b[0m    \u001b[0mlow_memory\u001b[0m\u001b[1;33m=\u001b[0m\u001b[1;32mTrue\u001b[0m\u001b[1;33m,\u001b[0m\u001b[1;33m\n",
       "\u001b[0m    \u001b[0mmemory_map\u001b[0m\u001b[1;33m=\u001b[0m\u001b[1;32mFalse\u001b[0m\u001b[1;33m,\u001b[0m\u001b[1;33m\n",
       "\u001b[0m    \u001b[0mfloat_precision\u001b[0m\u001b[1;33m=\u001b[0m\u001b[1;32mNone\u001b[0m\u001b[1;33m,\u001b[0m\u001b[1;33m\n",
       "\u001b[0m    \u001b[0mstorage_options\u001b[0m\u001b[1;33m:\u001b[0m \u001b[1;34m'StorageOptions'\u001b[0m \u001b[1;33m=\u001b[0m \u001b[1;32mNone\u001b[0m\u001b[1;33m,\u001b[0m\u001b[1;33m\n",
       "\u001b[0m\u001b[1;33m)\u001b[0m\u001b[1;33m\u001b[0m\u001b[1;33m\u001b[0m\u001b[0m\n",
       "\u001b[1;31mDocstring:\u001b[0m\n",
       "Read a comma-separated values (csv) file into DataFrame.\n",
       "\n",
       "Also supports optionally iterating or breaking of the file\n",
       "into chunks.\n",
       "\n",
       "Additional help can be found in the online docs for\n",
       "`IO Tools <https://pandas.pydata.org/pandas-docs/stable/user_guide/io.html>`_.\n",
       "\n",
       "Parameters\n",
       "----------\n",
       "filepath_or_buffer : str, path object or file-like object\n",
       "    Any valid string path is acceptable. The string could be a URL. Valid\n",
       "    URL schemes include http, ftp, s3, gs, and file. For file URLs, a host is\n",
       "    expected. A local file could be: file://localhost/path/to/table.csv.\n",
       "\n",
       "    If you want to pass in a path object, pandas accepts any ``os.PathLike``.\n",
       "\n",
       "    By file-like object, we refer to objects with a ``read()`` method, such as\n",
       "    a file handle (e.g. via builtin ``open`` function) or ``StringIO``.\n",
       "sep : str, default ','\n",
       "    Delimiter to use. If sep is None, the C engine cannot automatically detect\n",
       "    the separator, but the Python parsing engine can, meaning the latter will\n",
       "    be used and automatically detect the separator by Python's builtin sniffer\n",
       "    tool, ``csv.Sniffer``. In addition, separators longer than 1 character and\n",
       "    different from ``'\\s+'`` will be interpreted as regular expressions and\n",
       "    will also force the use of the Python parsing engine. Note that regex\n",
       "    delimiters are prone to ignoring quoted data. Regex example: ``'\\r\\t'``.\n",
       "delimiter : str, default ``None``\n",
       "    Alias for sep.\n",
       "header : int, list of int, None, default 'infer'\n",
       "    Row number(s) to use as the column names, and the start of the\n",
       "    data.  Default behavior is to infer the column names: if no names\n",
       "    are passed the behavior is identical to ``header=0`` and column\n",
       "    names are inferred from the first line of the file, if column\n",
       "    names are passed explicitly then the behavior is identical to\n",
       "    ``header=None``. Explicitly pass ``header=0`` to be able to\n",
       "    replace existing names. The header can be a list of integers that\n",
       "    specify row locations for a multi-index on the columns\n",
       "    e.g. [0,1,3]. Intervening rows that are not specified will be\n",
       "    skipped (e.g. 2 in this example is skipped). Note that this\n",
       "    parameter ignores commented lines and empty lines if\n",
       "    ``skip_blank_lines=True``, so ``header=0`` denotes the first line of\n",
       "    data rather than the first line of the file.\n",
       "names : array-like, optional\n",
       "    List of column names to use. If the file contains a header row,\n",
       "    then you should explicitly pass ``header=0`` to override the column names.\n",
       "    Duplicates in this list are not allowed.\n",
       "index_col : int, str, sequence of int / str, or False, optional, default ``None``\n",
       "  Column(s) to use as the row labels of the ``DataFrame``, either given as\n",
       "  string name or column index. If a sequence of int / str is given, a\n",
       "  MultiIndex is used.\n",
       "\n",
       "  Note: ``index_col=False`` can be used to force pandas to *not* use the first\n",
       "  column as the index, e.g. when you have a malformed file with delimiters at\n",
       "  the end of each line.\n",
       "usecols : list-like or callable, optional\n",
       "    Return a subset of the columns. If list-like, all elements must either\n",
       "    be positional (i.e. integer indices into the document columns) or strings\n",
       "    that correspond to column names provided either by the user in `names` or\n",
       "    inferred from the document header row(s). If ``names`` are given, the document\n",
       "    header row(s) are not taken into account. For example, a valid list-like\n",
       "    `usecols` parameter would be ``[0, 1, 2]`` or ``['foo', 'bar', 'baz']``.\n",
       "    Element order is ignored, so ``usecols=[0, 1]`` is the same as ``[1, 0]``.\n",
       "    To instantiate a DataFrame from ``data`` with element order preserved use\n",
       "    ``pd.read_csv(data, usecols=['foo', 'bar'])[['foo', 'bar']]`` for columns\n",
       "    in ``['foo', 'bar']`` order or\n",
       "    ``pd.read_csv(data, usecols=['foo', 'bar'])[['bar', 'foo']]``\n",
       "    for ``['bar', 'foo']`` order.\n",
       "\n",
       "    If callable, the callable function will be evaluated against the column\n",
       "    names, returning names where the callable function evaluates to True. An\n",
       "    example of a valid callable argument would be ``lambda x: x.upper() in\n",
       "    ['AAA', 'BBB', 'DDD']``. Using this parameter results in much faster\n",
       "    parsing time and lower memory usage.\n",
       "squeeze : bool, default False\n",
       "    If the parsed data only contains one column then return a Series.\n",
       "\n",
       "    .. deprecated:: 1.4.0\n",
       "        Append ``.squeeze(\"columns\")`` to the call to ``read_csv`` to squeeze\n",
       "        the data.\n",
       "prefix : str, optional\n",
       "    Prefix to add to column numbers when no header, e.g. 'X' for X0, X1, ...\n",
       "\n",
       "    .. deprecated:: 1.4.0\n",
       "       Use a list comprehension on the DataFrame's columns after calling ``read_csv``.\n",
       "mangle_dupe_cols : bool, default True\n",
       "    Duplicate columns will be specified as 'X', 'X.1', ...'X.N', rather than\n",
       "    'X'...'X'. Passing in False will cause data to be overwritten if there\n",
       "    are duplicate names in the columns.\n",
       "dtype : Type name or dict of column -> type, optional\n",
       "    Data type for data or columns. E.g. {'a': np.float64, 'b': np.int32,\n",
       "    'c': 'Int64'}\n",
       "    Use `str` or `object` together with suitable `na_values` settings\n",
       "    to preserve and not interpret dtype.\n",
       "    If converters are specified, they will be applied INSTEAD\n",
       "    of dtype conversion.\n",
       "engine : {'c', 'python', 'pyarrow'}, optional\n",
       "    Parser engine to use. The C and pyarrow engines are faster, while the python engine\n",
       "    is currently more feature-complete. Multithreading is currently only supported by\n",
       "    the pyarrow engine.\n",
       "\n",
       "    .. versionadded:: 1.4.0\n",
       "\n",
       "        The \"pyarrow\" engine was added as an *experimental* engine, and some features\n",
       "        are unsupported, or may not work correctly, with this engine.\n",
       "converters : dict, optional\n",
       "    Dict of functions for converting values in certain columns. Keys can either\n",
       "    be integers or column labels.\n",
       "true_values : list, optional\n",
       "    Values to consider as True.\n",
       "false_values : list, optional\n",
       "    Values to consider as False.\n",
       "skipinitialspace : bool, default False\n",
       "    Skip spaces after delimiter.\n",
       "skiprows : list-like, int or callable, optional\n",
       "    Line numbers to skip (0-indexed) or number of lines to skip (int)\n",
       "    at the start of the file.\n",
       "\n",
       "    If callable, the callable function will be evaluated against the row\n",
       "    indices, returning True if the row should be skipped and False otherwise.\n",
       "    An example of a valid callable argument would be ``lambda x: x in [0, 2]``.\n",
       "skipfooter : int, default 0\n",
       "    Number of lines at bottom of file to skip (Unsupported with engine='c').\n",
       "nrows : int, optional\n",
       "    Number of rows of file to read. Useful for reading pieces of large files.\n",
       "na_values : scalar, str, list-like, or dict, optional\n",
       "    Additional strings to recognize as NA/NaN. If dict passed, specific\n",
       "    per-column NA values.  By default the following values are interpreted as\n",
       "    NaN: '', '#N/A', '#N/A N/A', '#NA', '-1.#IND', '-1.#QNAN', '-NaN', '-nan',\n",
       "    '1.#IND', '1.#QNAN', '<NA>', 'N/A', 'NA', 'NULL', 'NaN', 'n/a',\n",
       "    'nan', 'null'.\n",
       "keep_default_na : bool, default True\n",
       "    Whether or not to include the default NaN values when parsing the data.\n",
       "    Depending on whether `na_values` is passed in, the behavior is as follows:\n",
       "\n",
       "    * If `keep_default_na` is True, and `na_values` are specified, `na_values`\n",
       "      is appended to the default NaN values used for parsing.\n",
       "    * If `keep_default_na` is True, and `na_values` are not specified, only\n",
       "      the default NaN values are used for parsing.\n",
       "    * If `keep_default_na` is False, and `na_values` are specified, only\n",
       "      the NaN values specified `na_values` are used for parsing.\n",
       "    * If `keep_default_na` is False, and `na_values` are not specified, no\n",
       "      strings will be parsed as NaN.\n",
       "\n",
       "    Note that if `na_filter` is passed in as False, the `keep_default_na` and\n",
       "    `na_values` parameters will be ignored.\n",
       "na_filter : bool, default True\n",
       "    Detect missing value markers (empty strings and the value of na_values). In\n",
       "    data without any NAs, passing na_filter=False can improve the performance\n",
       "    of reading a large file.\n",
       "verbose : bool, default False\n",
       "    Indicate number of NA values placed in non-numeric columns.\n",
       "skip_blank_lines : bool, default True\n",
       "    If True, skip over blank lines rather than interpreting as NaN values.\n",
       "parse_dates : bool or list of int or names or list of lists or dict, default False\n",
       "    The behavior is as follows:\n",
       "\n",
       "    * boolean. If True -> try parsing the index.\n",
       "    * list of int or names. e.g. If [1, 2, 3] -> try parsing columns 1, 2, 3\n",
       "      each as a separate date column.\n",
       "    * list of lists. e.g.  If [[1, 3]] -> combine columns 1 and 3 and parse as\n",
       "      a single date column.\n",
       "    * dict, e.g. {'foo' : [1, 3]} -> parse columns 1, 3 as date and call\n",
       "      result 'foo'\n",
       "\n",
       "    If a column or index cannot be represented as an array of datetimes,\n",
       "    say because of an unparsable value or a mixture of timezones, the column\n",
       "    or index will be returned unaltered as an object data type. For\n",
       "    non-standard datetime parsing, use ``pd.to_datetime`` after\n",
       "    ``pd.read_csv``. To parse an index or column with a mixture of timezones,\n",
       "    specify ``date_parser`` to be a partially-applied\n",
       "    :func:`pandas.to_datetime` with ``utc=True``. See\n",
       "    :ref:`io.csv.mixed_timezones` for more.\n",
       "\n",
       "    Note: A fast-path exists for iso8601-formatted dates.\n",
       "infer_datetime_format : bool, default False\n",
       "    If True and `parse_dates` is enabled, pandas will attempt to infer the\n",
       "    format of the datetime strings in the columns, and if it can be inferred,\n",
       "    switch to a faster method of parsing them. In some cases this can increase\n",
       "    the parsing speed by 5-10x.\n",
       "keep_date_col : bool, default False\n",
       "    If True and `parse_dates` specifies combining multiple columns then\n",
       "    keep the original columns.\n",
       "date_parser : function, optional\n",
       "    Function to use for converting a sequence of string columns to an array of\n",
       "    datetime instances. The default uses ``dateutil.parser.parser`` to do the\n",
       "    conversion. Pandas will try to call `date_parser` in three different ways,\n",
       "    advancing to the next if an exception occurs: 1) Pass one or more arrays\n",
       "    (as defined by `parse_dates`) as arguments; 2) concatenate (row-wise) the\n",
       "    string values from the columns defined by `parse_dates` into a single array\n",
       "    and pass that; and 3) call `date_parser` once for each row using one or\n",
       "    more strings (corresponding to the columns defined by `parse_dates`) as\n",
       "    arguments.\n",
       "dayfirst : bool, default False\n",
       "    DD/MM format dates, international and European format.\n",
       "cache_dates : bool, default True\n",
       "    If True, use a cache of unique, converted dates to apply the datetime\n",
       "    conversion. May produce significant speed-up when parsing duplicate\n",
       "    date strings, especially ones with timezone offsets.\n",
       "\n",
       "    .. versionadded:: 0.25.0\n",
       "iterator : bool, default False\n",
       "    Return TextFileReader object for iteration or getting chunks with\n",
       "    ``get_chunk()``.\n",
       "\n",
       "    .. versionchanged:: 1.2\n",
       "\n",
       "       ``TextFileReader`` is a context manager.\n",
       "chunksize : int, optional\n",
       "    Return TextFileReader object for iteration.\n",
       "    See the `IO Tools docs\n",
       "    <https://pandas.pydata.org/pandas-docs/stable/io.html#io-chunking>`_\n",
       "    for more information on ``iterator`` and ``chunksize``.\n",
       "\n",
       "    .. versionchanged:: 1.2\n",
       "\n",
       "       ``TextFileReader`` is a context manager.\n",
       "compression : str or dict, default 'infer'\n",
       "    For on-the-fly decompression of on-disk data. If 'infer' and '%s' is\n",
       "    path-like, then detect compression from the following extensions: '.gz',\n",
       "    '.bz2', '.zip', '.xz', or '.zst' (otherwise no compression). If using\n",
       "    'zip', the ZIP file must contain only one data file to be read in. Set to\n",
       "    ``None`` for no decompression. Can also be a dict with key ``'method'`` set\n",
       "    to one of {``'zip'``, ``'gzip'``, ``'bz2'``, ``'zstd'``} and other\n",
       "    key-value pairs are forwarded to ``zipfile.ZipFile``, ``gzip.GzipFile``,\n",
       "    ``bz2.BZ2File``, or ``zstandard.ZstdDecompressor``, respectively. As an\n",
       "    example, the following could be passed for Zstandard decompression using a\n",
       "    custom compression dictionary:\n",
       "    ``compression={'method': 'zstd', 'dict_data': my_compression_dict}``.\n",
       "\n",
       "    .. versionchanged:: 1.4.0 Zstandard support.\n",
       "\n",
       "thousands : str, optional\n",
       "    Thousands separator.\n",
       "decimal : str, default '.'\n",
       "    Character to recognize as decimal point (e.g. use ',' for European data).\n",
       "lineterminator : str (length 1), optional\n",
       "    Character to break file into lines. Only valid with C parser.\n",
       "quotechar : str (length 1), optional\n",
       "    The character used to denote the start and end of a quoted item. Quoted\n",
       "    items can include the delimiter and it will be ignored.\n",
       "quoting : int or csv.QUOTE_* instance, default 0\n",
       "    Control field quoting behavior per ``csv.QUOTE_*`` constants. Use one of\n",
       "    QUOTE_MINIMAL (0), QUOTE_ALL (1), QUOTE_NONNUMERIC (2) or QUOTE_NONE (3).\n",
       "doublequote : bool, default ``True``\n",
       "   When quotechar is specified and quoting is not ``QUOTE_NONE``, indicate\n",
       "   whether or not to interpret two consecutive quotechar elements INSIDE a\n",
       "   field as a single ``quotechar`` element.\n",
       "escapechar : str (length 1), optional\n",
       "    One-character string used to escape other characters.\n",
       "comment : str, optional\n",
       "    Indicates remainder of line should not be parsed. If found at the beginning\n",
       "    of a line, the line will be ignored altogether. This parameter must be a\n",
       "    single character. Like empty lines (as long as ``skip_blank_lines=True``),\n",
       "    fully commented lines are ignored by the parameter `header` but not by\n",
       "    `skiprows`. For example, if ``comment='#'``, parsing\n",
       "    ``#empty\\na,b,c\\n1,2,3`` with ``header=0`` will result in 'a,b,c' being\n",
       "    treated as the header.\n",
       "encoding : str, optional\n",
       "    Encoding to use for UTF when reading/writing (ex. 'utf-8'). `List of Python\n",
       "    standard encodings\n",
       "    <https://docs.python.org/3/library/codecs.html#standard-encodings>`_ .\n",
       "\n",
       "    .. versionchanged:: 1.2\n",
       "\n",
       "       When ``encoding`` is ``None``, ``errors=\"replace\"`` is passed to\n",
       "       ``open()``. Otherwise, ``errors=\"strict\"`` is passed to ``open()``.\n",
       "       This behavior was previously only the case for ``engine=\"python\"``.\n",
       "\n",
       "    .. versionchanged:: 1.3.0\n",
       "\n",
       "       ``encoding_errors`` is a new argument. ``encoding`` has no longer an\n",
       "       influence on how encoding errors are handled.\n",
       "\n",
       "encoding_errors : str, optional, default \"strict\"\n",
       "    How encoding errors are treated. `List of possible values\n",
       "    <https://docs.python.org/3/library/codecs.html#error-handlers>`_ .\n",
       "\n",
       "    .. versionadded:: 1.3.0\n",
       "\n",
       "dialect : str or csv.Dialect, optional\n",
       "    If provided, this parameter will override values (default or not) for the\n",
       "    following parameters: `delimiter`, `doublequote`, `escapechar`,\n",
       "    `skipinitialspace`, `quotechar`, and `quoting`. If it is necessary to\n",
       "    override values, a ParserWarning will be issued. See csv.Dialect\n",
       "    documentation for more details.\n",
       "error_bad_lines : bool, optional, default ``None``\n",
       "    Lines with too many fields (e.g. a csv line with too many commas) will by\n",
       "    default cause an exception to be raised, and no DataFrame will be returned.\n",
       "    If False, then these \"bad lines\" will be dropped from the DataFrame that is\n",
       "    returned.\n",
       "\n",
       "    .. deprecated:: 1.3.0\n",
       "       The ``on_bad_lines`` parameter should be used instead to specify behavior upon\n",
       "       encountering a bad line instead.\n",
       "warn_bad_lines : bool, optional, default ``None``\n",
       "    If error_bad_lines is False, and warn_bad_lines is True, a warning for each\n",
       "    \"bad line\" will be output.\n",
       "\n",
       "    .. deprecated:: 1.3.0\n",
       "       The ``on_bad_lines`` parameter should be used instead to specify behavior upon\n",
       "       encountering a bad line instead.\n",
       "on_bad_lines : {'error', 'warn', 'skip'} or callable, default 'error'\n",
       "    Specifies what to do upon encountering a bad line (a line with too many fields).\n",
       "    Allowed values are :\n",
       "\n",
       "        - 'error', raise an Exception when a bad line is encountered.\n",
       "        - 'warn', raise a warning when a bad line is encountered and skip that line.\n",
       "        - 'skip', skip bad lines without raising or warning when they are encountered.\n",
       "\n",
       "    .. versionadded:: 1.3.0\n",
       "\n",
       "        - callable, function with signature\n",
       "          ``(bad_line: list[str]) -> list[str] | None`` that will process a single\n",
       "          bad line. ``bad_line`` is a list of strings split by the ``sep``.\n",
       "          If the function returns ``None``, the bad line will be ignored.\n",
       "          If the function returns a new list of strings with more elements than\n",
       "          expected, a ``ParserWarning`` will be emitted while dropping extra elements.\n",
       "          Only supported when ``engine=\"python\"``\n",
       "\n",
       "    .. versionadded:: 1.4.0\n",
       "\n",
       "delim_whitespace : bool, default False\n",
       "    Specifies whether or not whitespace (e.g. ``' '`` or ``'    '``) will be\n",
       "    used as the sep. Equivalent to setting ``sep='\\s+'``. If this option\n",
       "    is set to True, nothing should be passed in for the ``delimiter``\n",
       "    parameter.\n",
       "low_memory : bool, default True\n",
       "    Internally process the file in chunks, resulting in lower memory use\n",
       "    while parsing, but possibly mixed type inference.  To ensure no mixed\n",
       "    types either set False, or specify the type with the `dtype` parameter.\n",
       "    Note that the entire file is read into a single DataFrame regardless,\n",
       "    use the `chunksize` or `iterator` parameter to return the data in chunks.\n",
       "    (Only valid with C parser).\n",
       "memory_map : bool, default False\n",
       "    If a filepath is provided for `filepath_or_buffer`, map the file object\n",
       "    directly onto memory and access the data directly from there. Using this\n",
       "    option can improve performance because there is no longer any I/O overhead.\n",
       "float_precision : str, optional\n",
       "    Specifies which converter the C engine should use for floating-point\n",
       "    values. The options are ``None`` or 'high' for the ordinary converter,\n",
       "    'legacy' for the original lower precision pandas converter, and\n",
       "    'round_trip' for the round-trip converter.\n",
       "\n",
       "    .. versionchanged:: 1.2\n",
       "\n",
       "storage_options : dict, optional\n",
       "    Extra options that make sense for a particular storage connection, e.g.\n",
       "    host, port, username, password, etc. For HTTP(S) URLs the key-value pairs\n",
       "    are forwarded to ``urllib`` as header options. For other URLs (e.g.\n",
       "    starting with \"s3://\", and \"gcs://\") the key-value pairs are forwarded to\n",
       "    ``fsspec``. Please see ``fsspec`` and ``urllib`` for more details.\n",
       "\n",
       "    .. versionadded:: 1.2\n",
       "\n",
       "Returns\n",
       "-------\n",
       "DataFrame or TextParser\n",
       "    A comma-separated values (csv) file is returned as two-dimensional\n",
       "    data structure with labeled axes.\n",
       "\n",
       "See Also\n",
       "--------\n",
       "DataFrame.to_csv : Write DataFrame to a comma-separated values (csv) file.\n",
       "read_csv : Read a comma-separated values (csv) file into DataFrame.\n",
       "read_fwf : Read a table of fixed-width formatted lines into DataFrame.\n",
       "\n",
       "Examples\n",
       "--------\n",
       ">>> pd.read_csv('data.csv')  # doctest: +SKIP\n",
       "\u001b[1;31mFile:\u001b[0m      c:\\users\\matthias\\anaconda3\\lib\\site-packages\\pandas\\io\\parsers\\readers.py\n",
       "\u001b[1;31mType:\u001b[0m      function\n"
      ]
     },
     "metadata": {},
     "output_type": "display_data"
    }
   ],
   "source": [
    "# filepath_or_buffer mandatory\n",
    "# other args optional\n",
    "pd.read_csv?"
   ]
  },
  {
   "cell_type": "code",
   "execution_count": 3,
   "id": "3d875450-d722-42cf-91de-c3ef5f63fb3b",
   "metadata": {
    "tags": []
   },
   "outputs": [
    {
     "name": "stderr",
     "output_type": "stream",
     "text": [
      "C:\\Users\\Matthias\\anaconda3\\lib\\site-packages\\IPython\\core\\interactiveshell.py:3553: FutureWarning: In a future version of pandas all arguments of read_csv except for the argument 'filepath_or_buffer' will be keyword-only.\n",
      "  exec(code_obj, self.user_global_ns, self.user_ns)\n"
     ]
    }
   ],
   "source": [
    "# call with arg by position\n",
    "df = pd.read_csv('cities.csv')\n",
    "# call with arg by keyword\n",
    "df = pd.read_csv(filepath_or_buffer='cities.csv') # pas dans les usages\n",
    "# call with 2 args by position, first mandatory, 2nd optional !! bad idea\n",
    "df = pd.read_csv('cities.csv', ';') # pas trop dans les usages => warning by pandas\n",
    "# call with 1 arg by position, others (optional) by keyword\n",
    "df = pd.read_csv('cities.csv', sep=';')\n",
    "df = pd.read_csv('cities.csv', sep=';', decimal=',')"
   ]
  },
  {
   "cell_type": "code",
   "execution_count": 4,
   "id": "ecb77a0b-37c7-4003-8eab-9756bf0e478a",
   "metadata": {},
   "outputs": [
    {
     "data": {
      "text/html": [
       "<div>\n",
       "<style scoped>\n",
       "    .dataframe tbody tr th:only-of-type {\n",
       "        vertical-align: middle;\n",
       "    }\n",
       "\n",
       "    .dataframe tbody tr th {\n",
       "        vertical-align: top;\n",
       "    }\n",
       "\n",
       "    .dataframe thead th {\n",
       "        text-align: right;\n",
       "    }\n",
       "</style>\n",
       "<table border=\"1\" class=\"dataframe\">\n",
       "  <thead>\n",
       "    <tr style=\"text-align: right;\">\n",
       "      <th></th>\n",
       "      <th>name</th>\n",
       "      <th>cp</th>\n",
       "      <th>pop</th>\n",
       "      <th>avg_temp</th>\n",
       "    </tr>\n",
       "  </thead>\n",
       "  <tbody>\n",
       "    <tr>\n",
       "      <th>0</th>\n",
       "      <td>Toulouse</td>\n",
       "      <td>31000</td>\n",
       "      <td>477000.0</td>\n",
       "      <td>20,3</td>\n",
       "    </tr>\n",
       "    <tr>\n",
       "      <th>1</th>\n",
       "      <td>Pau</td>\n",
       "      <td>64000</td>\n",
       "      <td>77000.0</td>\n",
       "      <td>18,2</td>\n",
       "    </tr>\n",
       "    <tr>\n",
       "      <th>2</th>\n",
       "      <td>Bayonne</td>\n",
       "      <td>64100</td>\n",
       "      <td>NaN</td>\n",
       "      <td>15.7</td>\n",
       "    </tr>\n",
       "  </tbody>\n",
       "</table>\n",
       "</div>"
      ],
      "text/plain": [
       "       name     cp       pop avg_temp\n",
       "0  Toulouse  31000  477000.0     20,3\n",
       "1       Pau  64000   77000.0     18,2\n",
       "2   Bayonne  64100       NaN     15.7"
      ]
     },
     "execution_count": 4,
     "metadata": {},
     "output_type": "execute_result"
    }
   ],
   "source": [
    "df"
   ]
  },
  {
   "cell_type": "code",
   "execution_count": 5,
   "id": "f921da34-08ed-4b25-9e1d-65e149be4234",
   "metadata": {},
   "outputs": [
    {
     "name": "stdout",
     "output_type": "stream",
     "text": [
      "<class 'pandas.core.frame.DataFrame'>\n",
      "RangeIndex: 3 entries, 0 to 2\n",
      "Data columns (total 4 columns):\n",
      " #   Column    Non-Null Count  Dtype  \n",
      "---  ------    --------------  -----  \n",
      " 0   name      3 non-null      object \n",
      " 1   cp        3 non-null      int64  \n",
      " 2   pop       2 non-null      float64\n",
      " 3   avg_temp  3 non-null      object \n",
      "dtypes: float64(1), int64(1), object(2)\n",
      "memory usage: 224.0+ bytes\n"
     ]
    }
   ],
   "source": [
    "df.info()"
   ]
  },
  {
   "cell_type": "code",
   "execution_count": 6,
   "id": "5365f756-7254-4718-b1b8-24fdd8f9b3e5",
   "metadata": {},
   "outputs": [
    {
     "data": {
      "text/plain": [
       "554000.0"
      ]
     },
     "execution_count": 6,
     "metadata": {},
     "output_type": "execute_result"
    }
   ],
   "source": [
    "df['pop'].sum()"
   ]
  },
  {
   "cell_type": "code",
   "execution_count": 7,
   "id": "b2f14f16-959c-4126-a74e-171c144e69c2",
   "metadata": {
    "tags": []
   },
   "outputs": [],
   "source": [
    "# SyntaxError: non-default argument follows default argument\n",
    "# def f(a, b=0, c):\n",
    "#    pass"
   ]
  },
  {
   "cell_type": "code",
   "execution_count": 8,
   "id": "9d2536a4-91a7-4852-8f49-40821f505663",
   "metadata": {
    "jupyter": {
     "source_hidden": true
    },
    "tags": []
   },
   "outputs": [],
   "source": [
    "def f(a: Union[int,float]):\n",
    "    def fInt(a:int):\n",
    "        print(\"f int mode with a =\", a)\n",
    "    def fFloat(a:float):\n",
    "        print(\"f float mode with a =\", a)\n",
    "    if type(a) is float:\n",
    "        fFloat(a)\n",
    "    elif type(a) is int:\n",
    "        fInt(a)"
   ]
  },
  {
   "cell_type": "code",
   "execution_count": 9,
   "id": "64314d0a-ff84-4b92-87bb-17fcfa558902",
   "metadata": {},
   "outputs": [
    {
     "name": "stdout",
     "output_type": "stream",
     "text": [
      "f int mode with a = 3\n"
     ]
    }
   ],
   "source": [
    "f(3)"
   ]
  },
  {
   "cell_type": "code",
   "execution_count": 10,
   "id": "7a313c2d-038c-41c3-9c6d-1e70c59f498e",
   "metadata": {},
   "outputs": [
    {
     "name": "stdout",
     "output_type": "stream",
     "text": [
      "f float mode with a = 3.3\n"
     ]
    }
   ],
   "source": [
    "f(3.3)"
   ]
  },
  {
   "cell_type": "code",
   "execution_count": 11,
   "id": "817caa0f-72ca-4213-beb8-541604707810",
   "metadata": {
    "tags": []
   },
   "outputs": [
    {
     "data": {
      "text/plain": [
       "\u001b[1;31mSignature:\u001b[0m \u001b[0mplt\u001b[0m\u001b[1;33m.\u001b[0m\u001b[0mplot\u001b[0m\u001b[1;33m(\u001b[0m\u001b[1;33m*\u001b[0m\u001b[0margs\u001b[0m\u001b[1;33m,\u001b[0m \u001b[0mscalex\u001b[0m\u001b[1;33m=\u001b[0m\u001b[1;32mTrue\u001b[0m\u001b[1;33m,\u001b[0m \u001b[0mscaley\u001b[0m\u001b[1;33m=\u001b[0m\u001b[1;32mTrue\u001b[0m\u001b[1;33m,\u001b[0m \u001b[0mdata\u001b[0m\u001b[1;33m=\u001b[0m\u001b[1;32mNone\u001b[0m\u001b[1;33m,\u001b[0m \u001b[1;33m**\u001b[0m\u001b[0mkwargs\u001b[0m\u001b[1;33m)\u001b[0m\u001b[1;33m\u001b[0m\u001b[1;33m\u001b[0m\u001b[0m\n",
       "\u001b[1;31mDocstring:\u001b[0m\n",
       "Plot y versus x as lines and/or markers.\n",
       "\n",
       "Call signatures::\n",
       "\n",
       "    plot([x], y, [fmt], *, data=None, **kwargs)\n",
       "    plot([x], y, [fmt], [x2], y2, [fmt2], ..., **kwargs)\n",
       "\n",
       "The coordinates of the points or line nodes are given by *x*, *y*.\n",
       "\n",
       "The optional parameter *fmt* is a convenient way for defining basic\n",
       "formatting like color, marker and linestyle. It's a shortcut string\n",
       "notation described in the *Notes* section below.\n",
       "\n",
       ">>> plot(x, y)        # plot x and y using default line style and color\n",
       ">>> plot(x, y, 'bo')  # plot x and y using blue circle markers\n",
       ">>> plot(y)           # plot y using x as index array 0..N-1\n",
       ">>> plot(y, 'r+')     # ditto, but with red plusses\n",
       "\n",
       "You can use `.Line2D` properties as keyword arguments for more\n",
       "control on the appearance. Line properties and *fmt* can be mixed.\n",
       "The following two calls yield identical results:\n",
       "\n",
       ">>> plot(x, y, 'go--', linewidth=2, markersize=12)\n",
       ">>> plot(x, y, color='green', marker='o', linestyle='dashed',\n",
       "...      linewidth=2, markersize=12)\n",
       "\n",
       "When conflicting with *fmt*, keyword arguments take precedence.\n",
       "\n",
       "\n",
       "**Plotting labelled data**\n",
       "\n",
       "There's a convenient way for plotting objects with labelled data (i.e.\n",
       "data that can be accessed by index ``obj['y']``). Instead of giving\n",
       "the data in *x* and *y*, you can provide the object in the *data*\n",
       "parameter and just give the labels for *x* and *y*::\n",
       "\n",
       ">>> plot('xlabel', 'ylabel', data=obj)\n",
       "\n",
       "All indexable objects are supported. This could e.g. be a `dict`, a\n",
       "`pandas.DataFrame` or a structured numpy array.\n",
       "\n",
       "\n",
       "**Plotting multiple sets of data**\n",
       "\n",
       "There are various ways to plot multiple sets of data.\n",
       "\n",
       "- The most straight forward way is just to call `plot` multiple times.\n",
       "  Example:\n",
       "\n",
       "  >>> plot(x1, y1, 'bo')\n",
       "  >>> plot(x2, y2, 'go')\n",
       "\n",
       "- If *x* and/or *y* are 2D arrays a separate data set will be drawn\n",
       "  for every column. If both *x* and *y* are 2D, they must have the\n",
       "  same shape. If only one of them is 2D with shape (N, m) the other\n",
       "  must have length N and will be used for every data set m.\n",
       "\n",
       "  Example:\n",
       "\n",
       "  >>> x = [1, 2, 3]\n",
       "  >>> y = np.array([[1, 2], [3, 4], [5, 6]])\n",
       "  >>> plot(x, y)\n",
       "\n",
       "  is equivalent to:\n",
       "\n",
       "  >>> for col in range(y.shape[1]):\n",
       "  ...     plot(x, y[:, col])\n",
       "\n",
       "- The third way is to specify multiple sets of *[x]*, *y*, *[fmt]*\n",
       "  groups::\n",
       "\n",
       "  >>> plot(x1, y1, 'g^', x2, y2, 'g-')\n",
       "\n",
       "  In this case, any additional keyword argument applies to all\n",
       "  datasets. Also this syntax cannot be combined with the *data*\n",
       "  parameter.\n",
       "\n",
       "By default, each line is assigned a different style specified by a\n",
       "'style cycle'. The *fmt* and line property parameters are only\n",
       "necessary if you want explicit deviations from these defaults.\n",
       "Alternatively, you can also change the style cycle using\n",
       ":rc:`axes.prop_cycle`.\n",
       "\n",
       "\n",
       "Parameters\n",
       "----------\n",
       "x, y : array-like or scalar\n",
       "    The horizontal / vertical coordinates of the data points.\n",
       "    *x* values are optional and default to ``range(len(y))``.\n",
       "\n",
       "    Commonly, these parameters are 1D arrays.\n",
       "\n",
       "    They can also be scalars, or two-dimensional (in that case, the\n",
       "    columns represent separate data sets).\n",
       "\n",
       "    These arguments cannot be passed as keywords.\n",
       "\n",
       "fmt : str, optional\n",
       "    A format string, e.g. 'ro' for red circles. See the *Notes*\n",
       "    section for a full description of the format strings.\n",
       "\n",
       "    Format strings are just an abbreviation for quickly setting\n",
       "    basic line properties. All of these and more can also be\n",
       "    controlled by keyword arguments.\n",
       "\n",
       "    This argument cannot be passed as keyword.\n",
       "\n",
       "data : indexable object, optional\n",
       "    An object with labelled data. If given, provide the label names to\n",
       "    plot in *x* and *y*.\n",
       "\n",
       "    .. note::\n",
       "        Technically there's a slight ambiguity in calls where the\n",
       "        second label is a valid *fmt*. ``plot('n', 'o', data=obj)``\n",
       "        could be ``plt(x, y)`` or ``plt(y, fmt)``. In such cases,\n",
       "        the former interpretation is chosen, but a warning is issued.\n",
       "        You may suppress the warning by adding an empty format string\n",
       "        ``plot('n', 'o', '', data=obj)``.\n",
       "\n",
       "Returns\n",
       "-------\n",
       "list of `.Line2D`\n",
       "    A list of lines representing the plotted data.\n",
       "\n",
       "Other Parameters\n",
       "----------------\n",
       "scalex, scaley : bool, default: True\n",
       "    These parameters determine if the view limits are adapted to the\n",
       "    data limits. The values are passed on to `autoscale_view`.\n",
       "\n",
       "**kwargs : `.Line2D` properties, optional\n",
       "    *kwargs* are used to specify properties like a line label (for\n",
       "    auto legends), linewidth, antialiasing, marker face color.\n",
       "    Example::\n",
       "\n",
       "    >>> plot([1, 2, 3], [1, 2, 3], 'go-', label='line 1', linewidth=2)\n",
       "    >>> plot([1, 2, 3], [1, 4, 9], 'rs', label='line 2')\n",
       "\n",
       "    If you specify multiple lines with one plot call, the kwargs apply\n",
       "    to all those lines. In case the label object is iterable, each\n",
       "    element is used as labels for each set of data.\n",
       "\n",
       "    Here is a list of available `.Line2D` properties:\n",
       "\n",
       "    Properties:\n",
       "    agg_filter: a filter function, which takes a (m, n, 3) float array and a dpi value, and returns a (m, n, 3) array\n",
       "    alpha: scalar or None\n",
       "    animated: bool\n",
       "    antialiased or aa: bool\n",
       "    clip_box: `.Bbox`\n",
       "    clip_on: bool\n",
       "    clip_path: Patch or (Path, Transform) or None\n",
       "    color or c: color\n",
       "    dash_capstyle: `.CapStyle` or {'butt', 'projecting', 'round'}\n",
       "    dash_joinstyle: `.JoinStyle` or {'miter', 'round', 'bevel'}\n",
       "    dashes: sequence of floats (on/off ink in points) or (None, None)\n",
       "    data: (2, N) array or two 1D arrays\n",
       "    drawstyle or ds: {'default', 'steps', 'steps-pre', 'steps-mid', 'steps-post'}, default: 'default'\n",
       "    figure: `.Figure`\n",
       "    fillstyle: {'full', 'left', 'right', 'bottom', 'top', 'none'}\n",
       "    gid: str\n",
       "    in_layout: bool\n",
       "    label: object\n",
       "    linestyle or ls: {'-', '--', '-.', ':', '', (offset, on-off-seq), ...}\n",
       "    linewidth or lw: float\n",
       "    marker: marker style string, `~.path.Path` or `~.markers.MarkerStyle`\n",
       "    markeredgecolor or mec: color\n",
       "    markeredgewidth or mew: float\n",
       "    markerfacecolor or mfc: color\n",
       "    markerfacecoloralt or mfcalt: color\n",
       "    markersize or ms: float\n",
       "    markevery: None or int or (int, int) or slice or list[int] or float or (float, float) or list[bool]\n",
       "    path_effects: `.AbstractPathEffect`\n",
       "    picker: float or callable[[Artist, Event], tuple[bool, dict]]\n",
       "    pickradius: float\n",
       "    rasterized: bool\n",
       "    sketch_params: (scale: float, length: float, randomness: float)\n",
       "    snap: bool or None\n",
       "    solid_capstyle: `.CapStyle` or {'butt', 'projecting', 'round'}\n",
       "    solid_joinstyle: `.JoinStyle` or {'miter', 'round', 'bevel'}\n",
       "    transform: unknown\n",
       "    url: str\n",
       "    visible: bool\n",
       "    xdata: 1D array\n",
       "    ydata: 1D array\n",
       "    zorder: float\n",
       "\n",
       "See Also\n",
       "--------\n",
       "scatter : XY scatter plot with markers of varying size and/or color (\n",
       "    sometimes also called bubble chart).\n",
       "\n",
       "Notes\n",
       "-----\n",
       "**Format Strings**\n",
       "\n",
       "A format string consists of a part for color, marker and line::\n",
       "\n",
       "    fmt = '[marker][line][color]'\n",
       "\n",
       "Each of them is optional. If not provided, the value from the style\n",
       "cycle is used. Exception: If ``line`` is given, but no ``marker``,\n",
       "the data will be a line without markers.\n",
       "\n",
       "Other combinations such as ``[color][marker][line]`` are also\n",
       "supported, but note that their parsing may be ambiguous.\n",
       "\n",
       "**Markers**\n",
       "\n",
       "=============   ===============================\n",
       "character       description\n",
       "=============   ===============================\n",
       "``'.'``         point marker\n",
       "``','``         pixel marker\n",
       "``'o'``         circle marker\n",
       "``'v'``         triangle_down marker\n",
       "``'^'``         triangle_up marker\n",
       "``'<'``         triangle_left marker\n",
       "``'>'``         triangle_right marker\n",
       "``'1'``         tri_down marker\n",
       "``'2'``         tri_up marker\n",
       "``'3'``         tri_left marker\n",
       "``'4'``         tri_right marker\n",
       "``'8'``         octagon marker\n",
       "``'s'``         square marker\n",
       "``'p'``         pentagon marker\n",
       "``'P'``         plus (filled) marker\n",
       "``'*'``         star marker\n",
       "``'h'``         hexagon1 marker\n",
       "``'H'``         hexagon2 marker\n",
       "``'+'``         plus marker\n",
       "``'x'``         x marker\n",
       "``'X'``         x (filled) marker\n",
       "``'D'``         diamond marker\n",
       "``'d'``         thin_diamond marker\n",
       "``'|'``         vline marker\n",
       "``'_'``         hline marker\n",
       "=============   ===============================\n",
       "\n",
       "**Line Styles**\n",
       "\n",
       "=============    ===============================\n",
       "character        description\n",
       "=============    ===============================\n",
       "``'-'``          solid line style\n",
       "``'--'``         dashed line style\n",
       "``'-.'``         dash-dot line style\n",
       "``':'``          dotted line style\n",
       "=============    ===============================\n",
       "\n",
       "Example format strings::\n",
       "\n",
       "    'b'    # blue markers with default shape\n",
       "    'or'   # red circles\n",
       "    '-g'   # green solid line\n",
       "    '--'   # dashed line with default color\n",
       "    '^k:'  # black triangle_up markers connected by a dotted line\n",
       "\n",
       "**Colors**\n",
       "\n",
       "The supported color abbreviations are the single letter codes\n",
       "\n",
       "=============    ===============================\n",
       "character        color\n",
       "=============    ===============================\n",
       "``'b'``          blue\n",
       "``'g'``          green\n",
       "``'r'``          red\n",
       "``'c'``          cyan\n",
       "``'m'``          magenta\n",
       "``'y'``          yellow\n",
       "``'k'``          black\n",
       "``'w'``          white\n",
       "=============    ===============================\n",
       "\n",
       "and the ``'CN'`` colors that index into the default property cycle.\n",
       "\n",
       "If the color is the only part of the format string, you can\n",
       "additionally use any  `matplotlib.colors` spec, e.g. full names\n",
       "(``'green'``) or hex strings (``'#008000'``).\n",
       "\u001b[1;31mFile:\u001b[0m      c:\\users\\matthias\\anaconda3\\lib\\site-packages\\matplotlib\\pyplot.py\n",
       "\u001b[1;31mType:\u001b[0m      function\n"
      ]
     },
     "metadata": {},
     "output_type": "display_data"
    }
   ],
   "source": [
    "# *args: var args by position\n",
    "plt.plot?"
   ]
  },
  {
   "cell_type": "code",
   "execution_count": 12,
   "id": "9144dc0f-8f67-4bee-b30e-245eb8884f1a",
   "metadata": {},
   "outputs": [],
   "source": [
    "x = np.arange(0,np.pi*2,0.01)\n",
    "y = np.sin(x)\n",
    "z = np.cos(x)"
   ]
  },
  {
   "cell_type": "code",
   "execution_count": 13,
   "id": "87983a78-57ba-4af4-899c-ec4104c43130",
   "metadata": {},
   "outputs": [
    {
     "data": {
      "text/plain": [
       "[<matplotlib.lines.Line2D at 0x210f2e521c0>,\n",
       " <matplotlib.lines.Line2D at 0x210f2e521f0>]"
      ]
     },
     "execution_count": 13,
     "metadata": {},
     "output_type": "execute_result"
    },
    {
     "data": {
      "image/png": "[encoded data removed]",
      "text/plain": [
       "<Figure size 432x288 with 1 Axes>"
      ]
     },
     "metadata": {
      "needs_background": "light"
     },
     "output_type": "display_data"
    }
   ],
   "source": [
    "# matplotlib interprete les var args par position\n",
    "# plt.plot(x,y,x,z)\n",
    "plt.plot(x,y,'r',x,z,'g')"
   ]
  },
  {
   "cell_type": "code",
   "execution_count": 14,
   "id": "e7dd8e1e-9f49-46ee-a7d9-75efb5e6670a",
   "metadata": {},
   "outputs": [
    {
     "data": {
      "text/plain": [
       "[<matplotlib.lines.Line2D at 0x210f2f48cd0>]"
      ]
     },
     "execution_count": 14,
     "metadata": {},
     "output_type": "execute_result"
    },
    {
     "data": {
      "image/png": "[encoded data removed]",
      "text/plain": [
       "<Figure size 432x288 with 1 Axes>"
      ]
     },
     "metadata": {
      "needs_background": "light"
     },
     "output_type": "display_data"
    }
   ],
   "source": [
    "# 1 arg by poistion => *args, 1 by keyword => **kwargs\n",
    "plt.plot(y, linewidth=5)"
   ]
  },
  {
   "cell_type": "code",
   "execution_count": 15,
   "id": "f99b8955-8eba-4304-97d8-8cb93732e1bb",
   "metadata": {},
   "outputs": [],
   "source": [
    "# AttributeError: 'Line2D' object has no property 'city'\n",
    "# plt.plot(y, linewidth=5, city='Toulouse')"
   ]
  },
  {
   "cell_type": "code",
   "execution_count": 16,
   "id": "8e501a7a-4341-45ce-8521-a47e3d519311",
   "metadata": {},
   "outputs": [],
   "source": [
    "def f(a,b,*iterables,c=None,d=0,e=[],**kwargs):\n",
    "    \"\"\"Ma super fonction f\n",
    "    \n",
    "    Arguments:\n",
    "    - a:\n",
    "    - b:\n",
    "    - iterables: iterables de valeurs numériques\n",
    "    - c:\n",
    "    ...\n",
    "    \"\"\"\n",
    "    print(\"a=\",a)\n",
    "    print(\"b=\",b)\n",
    "    print(\"*iterable=\",iterables)\n",
    "    print(\"c=\",c)\n",
    "    print(\"d=\",d)\n",
    "    print(\"e=\",e)\n",
    "    print(\"**kwargs=\",kwargs)\n",
    "    print(\"**kwargs keys=\", kwargs.keys())\n",
    "    print(\"**kwargs values=\", kwargs.values())\n",
    "    for k,v in kwargs.items():\n",
    "        print(\"\\t-\",k,\"=\",v)\n",
    "    # traitement des options de kwargs\n",
    "    if 'city' in kwargs: # recherche dans les clés\n",
    "        city = kwargs['city']\n",
    "        # handle city arg\n",
    "        print(\"Handle city arg:\", city)\n",
    "    \n",
    "    # traitement 1 *iterable => zip\n",
    "    res2 = list(zip(*iterables)) # unpack => args: it1, it2, it3, ***\n",
    "    \n",
    "    # traitement 2 *iterable \n",
    "    # NB: if generator in iterables, already consumed by traitement 1\n",
    "    res = 0\n",
    "    for it in iterables:\n",
    "        res += sum(it)\n",
    "    return res, res2\n",
    "    "
   ]
  },
  {
   "cell_type": "code",
   "execution_count": 17,
   "id": "ac85e2ba-883c-4ed0-998d-4c539c53f417",
   "metadata": {},
   "outputs": [
    {
     "data": {
      "text/plain": [
       "\u001b[1;31mInit signature:\u001b[0m \u001b[0mzip\u001b[0m\u001b[1;33m(\u001b[0m\u001b[0mself\u001b[0m\u001b[1;33m,\u001b[0m \u001b[1;33m/\u001b[0m\u001b[1;33m,\u001b[0m \u001b[1;33m*\u001b[0m\u001b[0margs\u001b[0m\u001b[1;33m,\u001b[0m \u001b[1;33m**\u001b[0m\u001b[0mkwargs\u001b[0m\u001b[1;33m)\u001b[0m\u001b[1;33m\u001b[0m\u001b[1;33m\u001b[0m\u001b[0m\n",
       "\u001b[1;31mDocstring:\u001b[0m     \n",
       "zip(*iterables) --> A zip object yielding tuples until an input is exhausted.\n",
       "\n",
       "   >>> list(zip('abcdefg', range(3), range(4)))\n",
       "   [('a', 0, 0), ('b', 1, 1), ('c', 2, 2)]\n",
       "\n",
       "The zip object yields n-length tuples, where n is the number of iterables\n",
       "passed as positional arguments to zip().  The i-th element in every tuple\n",
       "comes from the i-th iterable argument to zip().  This continues until the\n",
       "shortest argument is exhausted.\n",
       "\u001b[1;31mType:\u001b[0m           type\n",
       "\u001b[1;31mSubclasses:\u001b[0m     \n"
      ]
     },
     "metadata": {},
     "output_type": "display_data"
    }
   ],
   "source": [
    "zip?"
   ]
  },
  {
   "cell_type": "code",
   "execution_count": 18,
   "id": "0ad77644-4055-43a0-8197-367b87985267",
   "metadata": {
    "tags": []
   },
   "outputs": [
    {
     "name": "stdout",
     "output_type": "stream",
     "text": [
      "a= 2\n",
      "b= 2\n",
      "*iterable= ()\n",
      "c= None\n",
      "d= 0\n",
      "e= []\n",
      "**kwargs= {}\n",
      "**kwargs keys= dict_keys([])\n",
      "**kwargs values= dict_values([])\n"
     ]
    },
    {
     "data": {
      "text/plain": [
       "(0, [])"
      ]
     },
     "execution_count": 18,
     "metadata": {},
     "output_type": "execute_result"
    }
   ],
   "source": [
    "f(a=2,b=2) # ? how to process with iterable"
   ]
  },
  {
   "cell_type": "code",
   "execution_count": 19,
   "id": "f08a627a-a9c7-4191-bee5-ffcb6e5657db",
   "metadata": {
    "tags": []
   },
   "outputs": [],
   "source": [
    "# TypeError: f() got multiple values for argument 'a'\n",
    "# f([],[2,3], a=2, b=3)"
   ]
  },
  {
   "cell_type": "code",
   "execution_count": 20,
   "id": "963f41b1-5e14-47de-b960-45e305560ae8",
   "metadata": {},
   "outputs": [
    {
     "name": "stdout",
     "output_type": "stream",
     "text": [
      "a= 1\n",
      "b= 2\n",
      "*iterable= ([], [2, 3], (4, 5, 6))\n",
      "c= None\n",
      "d= 5\n",
      "e= []\n",
      "**kwargs= {'city': 'Toulouse', 'meteo': 'beau'}\n",
      "**kwargs keys= dict_keys(['city', 'meteo'])\n",
      "**kwargs values= dict_values(['Toulouse', 'beau'])\n",
      "\t- city = Toulouse\n",
      "\t- meteo = beau\n",
      "Handle city arg: Toulouse\n"
     ]
    },
    {
     "data": {
      "text/plain": [
       "(20, [])"
      ]
     },
     "execution_count": 20,
     "metadata": {},
     "output_type": "execute_result"
    }
   ],
   "source": [
    "f(1,2, [],[2,3], (4,5,6), d=5, city='Toulouse', meteo='beau')"
   ]
  },
  {
   "cell_type": "code",
   "execution_count": 21,
   "id": "889cb5db-07db-4e0c-977b-fea8a739f3ed",
   "metadata": {},
   "outputs": [
    {
     "name": "stdout",
     "output_type": "stream",
     "text": [
      "a= 1\n",
      "b= 2\n",
      "*iterable= ()\n",
      "c= None\n",
      "d= 0\n",
      "e= []\n",
      "**kwargs= {}\n",
      "**kwargs keys= dict_keys([])\n",
      "**kwargs values= dict_values([])\n"
     ]
    },
    {
     "data": {
      "text/plain": [
       "(0, [])"
      ]
     },
     "execution_count": 21,
     "metadata": {},
     "output_type": "execute_result"
    }
   ],
   "source": [
    "f(1,2)"
   ]
  },
  {
   "cell_type": "code",
   "execution_count": 22,
   "id": "3eaa48a7-e9e3-4567-9fa4-106f72bcbef8",
   "metadata": {},
   "outputs": [
    {
     "name": "stdout",
     "output_type": "stream",
     "text": [
      "a= 1\n",
      "b= 2\n",
      "*iterable= ([1, 22, 33, 44], range(0, 4), <generator object <genexpr> at 0x00000210F2F9B0B0>)\n",
      "c= None\n",
      "d= 0\n",
      "e= []\n",
      "**kwargs= {}\n",
      "**kwargs keys= dict_keys([])\n",
      "**kwargs values= dict_values([])\n"
     ]
    },
    {
     "data": {
      "text/plain": [
       "(383, [(1, 0, 1), (22, 1, 2), (33, 2, 5), (44, 3, 10)])"
      ]
     },
     "execution_count": 22,
     "metadata": {},
     "output_type": "execute_result"
    }
   ],
   "source": [
    "f(1,2, [1,22,33, 44], range(4), (x**2+1 for x in range(10)))"
   ]
  },
  {
   "cell_type": "code",
   "execution_count": 23,
   "id": "e9bf2b4e-cca2-4a8b-9d6b-d89f5a855d1f",
   "metadata": {},
   "outputs": [
    {
     "data": {
      "text/plain": [
       "[(1, 0, 1), (22, 1, 2), (33, 2, 5)]"
      ]
     },
     "execution_count": 23,
     "metadata": {},
     "output_type": "execute_result"
    }
   ],
   "source": [
    "list(zip([1,22,33], range(3), (x**2+1 for x in range(10))))"
   ]
  },
  {
   "cell_type": "code",
   "execution_count": 24,
   "id": "a6ce3a2e-a0ed-46a1-a7a6-f872eee866b0",
   "metadata": {},
   "outputs": [],
   "source": [
    "sql=\"\"\"SELECT \n",
    "    title, year\n",
    "FROM movies\n",
    "WHERE year > 2020\n",
    "    and title like 'T%'\"\"\"\n"
   ]
  },
  {
   "cell_type": "code",
   "execution_count": 25,
   "id": "01490970-32dc-421c-b6f4-a19d2bdb5204",
   "metadata": {},
   "outputs": [
    {
     "name": "stdout",
     "output_type": "stream",
     "text": [
      "SELECT \n",
      "    title, year\n",
      "FROM movies\n",
      "WHERE year > 2020\n",
      "    and title like 'T%'\n"
     ]
    }
   ],
   "source": [
    "print(sql)"
   ]
  },
  {
   "cell_type": "code",
   "execution_count": 26,
   "id": "77d93afd-ae9f-42fa-b4be-bcc02be9c1f8",
   "metadata": {},
   "outputs": [
    {
     "data": {
      "text/plain": [
       "3"
      ]
     },
     "execution_count": 26,
     "metadata": {},
     "output_type": "execute_result"
    }
   ],
   "source": [
    "values = [ 12, 33, 453 ]\n",
    "# math.gcd(values[0], values[1], values[2])\n",
    "# math.gcd(values) => TypeError: 'list' object cannot be interpreted as an integer\n",
    "math.gcd(*values) # ok with unpack"
   ]
  },
  {
   "cell_type": "code",
   "execution_count": 27,
   "id": "b440aead-7e60-4dcb-88b1-d7b33e3ee616",
   "metadata": {},
   "outputs": [
    {
     "name": "stdout",
     "output_type": "stream",
     "text": [
      "10.0\n",
      "10.0\n"
     ]
    }
   ],
   "source": [
    "params = (1024,2)\n",
    "res1 = math.log(*params)\n",
    "print(res1)\n",
    "x, base = params\n",
    "res2 = math.log(x, base)\n",
    "print(res2)"
   ]
  },
  {
   "cell_type": "code",
   "execution_count": 28,
   "id": "0684a23e-92b1-4f54-8c19-1242e1f8b3a8",
   "metadata": {},
   "outputs": [
    {
     "name": "stdout",
     "output_type": "stream",
     "text": [
      "10.0\n"
     ]
    }
   ],
   "source": [
    "params = (1024, 2, 10)\n",
    "\n",
    "# res1 = math.log(*params)\n",
    "# TypeError: math.log requires 1 to 2 arguments\n",
    "# print(res1)\n",
    "\n",
    "# x, base = params\n",
    "# ValueError: too many values to unpack (expected 2)\n",
    "# x, base, _ = params # OK\n",
    "x, base = params[:2]\n",
    "res2 = math.log(x, base)\n",
    "print(res2)"
   ]
  },
  {
   "cell_type": "code",
   "execution_count": 29,
   "id": "c0396d6c-4a94-4fd0-b5af-dd9ce40288dd",
   "metadata": {},
   "outputs": [],
   "source": [
    "def log(x, base=math.e):\n",
    "    return math.log(x, base)"
   ]
  },
  {
   "cell_type": "code",
   "execution_count": 30,
   "id": "c3a1fc6b-b7f3-4a60-bc3c-376047ff67b0",
   "metadata": {},
   "outputs": [
    {
     "name": "stdout",
     "output_type": "stream",
     "text": [
      "10.0\n"
     ]
    }
   ],
   "source": [
    "paramsDict = {'x': 1024, 'base': 2}\n",
    "# res = math.log(*params.values()) # danger, ordre des params\n",
    "# res = math.log(**params) # => math.log(x=1024, base=2)\n",
    "# pas de bol: TypeError: log() takes no keyword arguments\n",
    "res = log(**paramsDict)\n",
    "print(res)"
   ]
  },
  {
   "cell_type": "code",
   "execution_count": 32,
   "id": "f582d3bc-a274-4633-a67a-5921b516ccba",
   "metadata": {},
   "outputs": [],
   "source": [
    "def f2(*args, **kwargs):\n",
    "    pass"
   ]
  },
  {
   "cell_type": "code",
   "execution_count": 33,
   "id": "ce02bde4-dc28-4725-9c79-ad4d5c8d6462",
   "metadata": {},
   "outputs": [],
   "source": [
    "# args: *values, *params,\n",
    "# kwargs: **paramsDict, city='Toulouse'\n",
    "f2(*values, *params, **paramsDict, city='Toulouse')"
   ]
  },
  {
   "cell_type": "code",
   "execution_count": 40,
   "id": "37ae99ce-1a85-4f82-94a7-5979e3b0bf81",
   "metadata": {},
   "outputs": [],
   "source": [
    "def f3(x) -> None:\n",
    "    print(x)"
   ]
  },
  {
   "cell_type": "code",
   "execution_count": 37,
   "id": "19980161-30d6-4963-ab11-da034573affd",
   "metadata": {},
   "outputs": [
    {
     "name": "stdout",
     "output_type": "stream",
     "text": [
      "1024\n"
     ]
    }
   ],
   "source": [
    "res = f3(x)\n",
    "assert res is None"
   ]
  },
  {
   "cell_type": "code",
   "execution_count": 39,
   "id": "e2f35ef9-4f46-4944-b300-48f92f004945",
   "metadata": {},
   "outputs": [
    {
     "data": {
      "text/plain": [
       "NoneType"
      ]
     },
     "execution_count": 39,
     "metadata": {},
     "output_type": "execute_result"
    }
   ],
   "source": [
    "type(None)"
   ]
  },
  {
   "cell_type": "code",
   "execution_count": 42,
   "id": "afb9783d-4a69-4b54-a002-1e273d709ef7",
   "metadata": {},
   "outputs": [],
   "source": [
    "def lireFrenchCsv(filename: str) -> pd.DataFrame:\n",
    "    return pd.read_csv(filename, sep=';', decimal=',')"
   ]
  },
  {
   "cell_type": "code",
   "execution_count": 43,
   "id": "7ac8914f-7bc2-4b2d-ac60-571affe6bfab",
   "metadata": {},
   "outputs": [],
   "source": [
    "def getDictValue(dictionnary, key):\n",
    "    if key in dictionnary:\n",
    "        return dictionnary[key]\n",
    "    # else return None implicit"
   ]
  },
  {
   "cell_type": "code",
   "execution_count": 45,
   "id": "f7f55d47-a0a4-4ee3-91b4-2dabde0aad43",
   "metadata": {},
   "outputs": [
    {
     "data": {
      "text/plain": [
       "1024"
      ]
     },
     "execution_count": 45,
     "metadata": {},
     "output_type": "execute_result"
    }
   ],
   "source": [
    "getDictValue(paramsDict, 'x')"
   ]
  },
  {
   "cell_type": "code",
   "execution_count": 48,
   "id": "0b271d24-2114-4ce7-90cb-245e2a8fa3e4",
   "metadata": {},
   "outputs": [],
   "source": [
    "assert getDictValue(paramsDict, 'y') is None"
   ]
  },
  {
   "cell_type": "code",
   "execution_count": 53,
   "id": "34d6cbd9-2f19-41ab-890f-72f0747e2ada",
   "metadata": {},
   "outputs": [],
   "source": [
    "def getDictValue(dictionnary: Dict[str,float], key: str) -> Optional[float]:\n",
    "    if key in dictionnary:\n",
    "        return dictionnary[key]"
   ]
  },
  {
   "cell_type": "markdown",
   "id": "18c85c06-d80d-486b-b068-90bd485ad377",
   "metadata": {},
   "source": [
    "## Boolean"
   ]
  },
  {
   "cell_type": "code",
   "execution_count": 66,
   "id": "bb1dbc40-fb90-46c4-aa28-8e764ec045f4",
   "metadata": {},
   "outputs": [
    {
     "data": {
      "text/plain": [
       "{'0': False,\n",
       " '1': True,\n",
       " '[]': False,\n",
       " '[1, 2]': True,\n",
       " '': False,\n",
       " 'Toulouse': True,\n",
       " 'None': False,\n",
       " \"<re.Match object; span=(0, 8), match='ah ah ah'>\": True}"
      ]
     },
     "execution_count": 66,
     "metadata": {},
     "output_type": "execute_result"
    }
   ],
   "source": [
    "{ str(v) : bool(v) for v in (\n",
    "    0,1, [], [1,2], \n",
    "    \"\", \"Toulouse\", \n",
    "    None,\n",
    "    re.match(r'a.*', 'ah ah ah'),\n",
    "    re.match(r'b.*', 'ah ah ah'))\n",
    "}"
   ]
  },
  {
   "cell_type": "code",
   "execution_count": 65,
   "id": "cd321b99-c332-4702-8f25-82cc3aa54db9",
   "metadata": {},
   "outputs": [],
   "source": [
    "assert re.match(r'b.*', 'ah ah ah') is None"
   ]
  },
  {
   "cell_type": "markdown",
   "id": "7992f175-1637-4fe3-a43c-30f8d7417def",
   "metadata": {},
   "source": [
    "##  Slices"
   ]
  },
  {
   "cell_type": "code",
   "execution_count": 132,
   "id": "e9eba196-4385-4cd7-a07e-7d67993c292c",
   "metadata": {},
   "outputs": [],
   "source": [
    "ville = \"Toulouse\"\n",
    "villes = [ \"Toulouse\", \"Pau\", \"Bayonne\", \n",
    "          \"Montpellier\", \"Paris\", \"Bordeaux\", \n",
    "          \"Marseille\", \"Lyon\" ]\n",
    "matrice = np.random.normal(10,4.5, (1000,1000))\n",
    "dfCities = pd.read_csv('cities.csv',sep=';',decimal=',', encoding='UTF-8')\n"
   ]
  },
  {
   "cell_type": "markdown",
   "id": "f10a38c7-7634-45ac-800f-c357c8ee505a",
   "metadata": {},
   "source": [
    "### 1. operator [] with index int"
   ]
  },
  {
   "cell_type": "code",
   "execution_count": 69,
   "id": "29070942-65b6-4031-95cc-3b5698db47ec",
   "metadata": {},
   "outputs": [
    {
     "data": {
      "text/plain": [
       "'T'"
      ]
     },
     "execution_count": 69,
     "metadata": {},
     "output_type": "execute_result"
    }
   ],
   "source": [
    "# operator [] => __getitem__\n",
    "ville.__getitem__(0)"
   ]
  },
  {
   "cell_type": "code",
   "execution_count": 72,
   "id": "7fa13d68-3fa9-4904-a4f0-8e16ad5f734d",
   "metadata": {},
   "outputs": [
    {
     "name": "stdout",
     "output_type": "stream",
     "text": [
      "T\n"
     ]
    }
   ],
   "source": [
    "# lecture\n",
    "print(ville[0])\n",
    "# try ecriture\n",
    "# ville[0] = 'Z'\n",
    "# TypeError: 'str' object does not support item assignment\n",
    "# NB: str non mutable"
   ]
  },
  {
   "cell_type": "code",
   "execution_count": 75,
   "id": "ade99629-2f32-428a-b877-f789da0f8fdd",
   "metadata": {},
   "outputs": [
    {
     "data": {
      "text/plain": [
       "'Toulouse ville rose, 31000'"
      ]
     },
     "execution_count": 75,
     "metadata": {},
     "output_type": "execute_result"
    }
   ],
   "source": [
    "# inplace add on non mutable objects returns ref on a new object\n",
    "text = ville\n",
    "text0 = text\n",
    "text += \" ville rose, \"\n",
    "text1 = text\n",
    "text += str(31000)\n",
    "assert text0 is not text\n",
    "assert text1 is not text\n",
    "text"
   ]
  },
  {
   "cell_type": "code",
   "execution_count": 76,
   "id": "beabfb78-b708-4abf-a82b-a6c6316b98c7",
   "metadata": {},
   "outputs": [
    {
     "data": {
      "text/plain": [
       "  C_CONTIGUOUS : True\n",
       "  F_CONTIGUOUS : False\n",
       "  OWNDATA : True\n",
       "  WRITEABLE : True\n",
       "  ALIGNED : True\n",
       "  WRITEBACKIFCOPY : False\n",
       "  UPDATEIFCOPY : False"
      ]
     },
     "execution_count": 76,
     "metadata": {},
     "output_type": "execute_result"
    }
   ],
   "source": [
    "matrice.flags"
   ]
  },
  {
   "cell_type": "code",
   "execution_count": 77,
   "id": "536408d6-eacd-4ad4-95a3-4ab9737e6374",
   "metadata": {},
   "outputs": [],
   "source": [
    "# true add inplace (because flag WRITEABLE : True) \n",
    "matrice += 0.1"
   ]
  },
  {
   "cell_type": "code",
   "execution_count": 79,
   "id": "69b0e3f4-63c9-4c90-b4d4-b57c3f981208",
   "metadata": {},
   "outputs": [
    {
     "name": "stdout",
     "output_type": "stream",
     "text": [
      "Bayonne\n",
      "['Toulouse', 'Pau', 'Biarritz', 'Montpellier', 'Paris', 'Bordeaux', 'Marseille', 'Lyon']\n"
     ]
    }
   ],
   "source": [
    "print(villes[2])        # __getitem__\n",
    "villes[2] = 'Biarritz'  # __setitem__\n",
    "print(villes)"
   ]
  },
  {
   "cell_type": "code",
   "execution_count": 80,
   "id": "9133e3cd-1df5-40d0-91c1-5d5653f06ef6",
   "metadata": {
    "collapsed": true,
    "jupyter": {
     "outputs_hidden": true
    },
    "tags": []
   },
   "outputs": [
    {
     "data": {
      "text/plain": [
       "array([11.57673858, 13.27417023,  8.70509824,  7.83518359, 10.72377516,\n",
       "        8.19311818, 16.21460808,  5.27720793,  6.32637131, 12.98344101,\n",
       "       19.55102063, 10.58120005,  9.17505995, 10.90703468,  3.19968878,\n",
       "       12.0727658 , 11.28240743,  2.50284537,  9.27608816,  2.83287409,\n",
       "       13.93073444,  8.35094883, 12.11093065, 11.7290748 , 17.858718  ,\n",
       "       14.17404629,  8.44646283, 11.64371773, 11.37361242,  8.4557484 ,\n",
       "        6.80943537,  6.68567419, 18.96878163, 10.8959855 , 12.96536881,\n",
       "       13.54280125,  6.54017205, 11.02556364, 11.76260419, 15.80843833,\n",
       "        7.68988689,  7.33364036,  3.16062577,  8.57584658, 10.50232589,\n",
       "        6.21124836, 14.39859807,  2.75216111,  9.77968364, 10.74584716,\n",
       "       16.58680023, 13.12720667,  8.19276364,  6.42485637,  8.3745782 ,\n",
       "       12.51990173,  9.71409601, 17.40424797,  3.30473887, 12.79382766,\n",
       "       12.03925453, 15.56773569, 10.51475725,  2.573217  ,  2.33062603,\n",
       "        4.33263745, 10.53767351, 14.01099695,  9.31184901,  9.92039486,\n",
       "        9.30611391,  6.55966431, 10.28925115,  9.61626121, 12.1595794 ,\n",
       "       11.40612545,  2.18363438, 15.09855656,  7.74477334,  7.07709702,\n",
       "        8.65300407,  5.68509907, 11.10668159,  4.15744961,  5.0426046 ,\n",
       "        8.1528863 , 10.82276388, 16.60491362, 13.22003052,  9.79902981,\n",
       "       12.30762826,  3.47245177,  7.75881299,  9.95779839, 14.78954999,\n",
       "        9.82155582,  9.7063873 , 13.05910454, 11.56192692, 10.23352045,\n",
       "       14.37387039,  6.66912519, 12.92237757,  3.02433676, 14.10437085,\n",
       "       13.35955356,  6.05819927, 10.08689567,  8.87439852, 14.78341247,\n",
       "        9.58690612,  7.34099953,  9.48363693,  3.9134628 ,  4.5884454 ,\n",
       "        3.21911174, 16.62677778, 13.96177507, 16.18288467,  5.58248206,\n",
       "        5.72613102, 11.92596968, 14.85195696, 11.90196313, 12.79306696,\n",
       "       13.06180826,  9.17520164,  3.46311474,  4.50770937, 16.77169437,\n",
       "       17.56813432, 16.50497093, 14.25833872,  4.57319678, 10.24165133,\n",
       "       15.19869527,  9.65696956, 12.62233607, 13.21516486, 11.1270993 ,\n",
       "        5.95097402, 13.32603062, 19.01169591, 11.32159337, 19.34901006,\n",
       "       10.33353272, 10.76404445,  3.79046617, 17.35761563,  0.72868675,\n",
       "       18.30879942, 15.33476125, 15.18031343, 12.63776561, 13.9740655 ,\n",
       "       15.99156267,  5.0865494 , 11.87568225, 13.77598424, 12.55061247,\n",
       "        7.48762898, 14.20878671,  7.59859384,  3.50588413, 12.40269982,\n",
       "        9.46847949, 13.11033705, 11.18488728, 13.33172258, 11.70958565,\n",
       "       10.19179228, 12.14696303,  4.13384906,  9.79922231, 13.82076883,\n",
       "       -4.24149324, 13.37817503, 12.99493977,  5.55690833, 10.46443721,\n",
       "        8.9095556 ,  9.24282542,  8.71916165, 10.12402869, 11.62449524,\n",
       "       14.92303065, 13.067     ,  9.50041754,  6.6545356 , 12.70508547,\n",
       "       11.61862791, 10.44275137, 11.47512985, 13.0646034 ,  1.66506981,\n",
       "       19.79170798, 14.14831185,  9.21833265,  9.8516326 ,  4.18218195,\n",
       "       13.63529148,  6.07463277,  3.61668563, 15.46933008, 10.2796314 ,\n",
       "       12.69709125,  8.43724022,  6.25580238, 16.0830754 , 13.42482052,\n",
       "        9.18245034, 15.87276841,  9.03142398,  7.79583339, 12.96742677,\n",
       "        8.06116477, 13.94739921,  4.21553051, 16.07565635,  7.30123787,\n",
       "       13.5272871 ,  6.73762611, 14.58399988,  7.57292227, 13.08161752,\n",
       "        8.73380733, 14.25453701,  7.55654237,  5.4109515 , 12.2765577 ,\n",
       "        7.65214032, 12.06952695, 18.3903612 , 12.16294829,  9.79882248,\n",
       "        4.22152595, 17.49671894, 10.76636838,  7.64295442, 12.3079334 ,\n",
       "       17.84526289, 20.83040921, 14.34698359,  8.28698148,  9.9829894 ,\n",
       "       15.51931829, 14.1677737 , 15.24565452,  6.93398176,  9.95425479,\n",
       "        8.7798867 ,  9.28115464, 10.81672712, 16.71220462, 12.11999763,\n",
       "       14.80557959, 11.38661016,  8.15054785, 14.85558548,  8.37676452,\n",
       "        1.81493466, 14.50843184,  8.85207154,  7.62666651, 12.23899257,\n",
       "        4.42713211,  4.93181484,  1.41283121,  7.47197627, 10.32473208,\n",
       "       15.31847453, 12.15564017,  9.90064322, 14.76442248, 11.97907706,\n",
       "       -4.89287446,  8.64203444,  9.94672664, 14.19883534,  0.75088053,\n",
       "       14.4512458 , 12.04073653,  9.79904753, 15.38123004,  9.18830409,\n",
       "       11.92090228,  6.76220508, 11.59250201, 10.95856141, 10.67603277,\n",
       "        7.86805205,  4.78001923, 16.06940553,  7.59737026,  5.14643505,\n",
       "        1.82520828, 11.11246927, 10.26367716, 16.71248163,  8.08922228,\n",
       "        4.81711831,  9.68386771, 13.5099671 , 11.16638278, 15.32247995,\n",
       "        9.28992771, 11.26804506,  7.39856402, 12.10657059, 10.28452472,\n",
       "       15.88821161, 16.46082751,  8.91796605, 11.51058593,  7.76097775,\n",
       "        8.62025863,  2.09880942, 11.37822046,  8.56770925, 11.36277091,\n",
       "        5.31999045,  6.028552  , 14.79541627,  9.27659107, 13.65278418,\n",
       "        8.56699077,  4.25760263, 11.41751835,  8.93216963,  8.34191136,\n",
       "       12.24687569, 13.28125793, 12.70705915, 10.26101839,  9.30422102,\n",
       "        5.41655495, 11.14309395,  3.06236492, 16.14040412,  5.55821956,\n",
       "        6.16322875, 12.02579154, 12.05548498, 10.4655909 , 18.56488106,\n",
       "        9.67431795, 17.32729252,  2.83033589,  4.69200772,  5.28701739,\n",
       "       11.57620284,  0.76622718,  6.83006544, 17.73773972, 14.81507158,\n",
       "       19.78339227, 10.09661271,  7.91193492,  9.67740568,  5.11339211,\n",
       "        7.4581382 ,  9.25990542, 13.62749973, 10.23694122, 15.62125199,\n",
       "       11.26427406, 16.54557881,  8.98839982, 21.39527899,  6.3361903 ,\n",
       "        2.93889305, 11.43002394, 16.49869622, 17.25517138, 16.14735124,\n",
       "        8.68124392, 13.84322137,  3.21955601, 14.20152052,  3.30942934,\n",
       "       10.131741  ,  4.69333136, 11.4588349 ,  6.01295884, 10.94959154,\n",
       "        3.42466623, 19.65340474, 11.97545925, 13.8144462 ,  8.37554029,\n",
       "        3.43875639,  8.48480469,  6.20722819, 17.66667997,  8.47685199,\n",
       "       12.26402344,  4.17518042,  9.13082066,  7.59945765, 18.80620942,\n",
       "        4.45193084,  4.93518238, 12.52838018, 12.54084868,  8.47885392,\n",
       "        5.16957312, 10.01238577, 13.23090802,  5.01498876, 11.73488948,\n",
       "       11.68839694,  5.90358597, 13.04111647,  3.82329025,  9.08041708,\n",
       "        8.67626731, 10.33978015, 17.02117534, 10.56425957, 15.148537  ,\n",
       "       12.02726926, 16.74854144, 13.11025535,  9.77520421,  8.10652392,\n",
       "        4.70915826,  8.0226784 , 15.72280514, 10.95939877,  7.4752101 ,\n",
       "        5.21901794, 12.75853524, 13.53975272, 13.04780137,  3.53510701,\n",
       "       11.13307285, 19.55263834,  8.06639013, 12.01220859, -0.77431958,\n",
       "        8.868247  ,  8.6256431 ,  5.16247814, 16.69555059, 21.21907308,\n",
       "        6.2831926 ,  9.29151931,  9.04699606,  2.66669542,  2.04772426,\n",
       "        3.78990417, 11.06445938, 15.75762443,  5.11616293, 13.8225392 ,\n",
       "       16.31694787, 14.26357813, 10.62657524, 17.83064085, 11.76791481,\n",
       "       14.6593171 ,  9.51444682, 16.34173456,  6.44559641, 11.16902153,\n",
       "       18.731585  ,  4.39487395, 10.26590577, 19.0855426 , 15.91632567,\n",
       "        4.81277607, 10.28731717, 10.64865771,  9.93442611,  3.27934426,\n",
       "       14.50897969,  5.43275358, 12.90786899, 15.89638282,  8.59883547,\n",
       "        3.64566535,  9.28624509, 10.81696335, 11.14200072,  8.82306454,\n",
       "        8.18765146,  1.35909818,  9.61618609,  9.68705842, 10.48420696,\n",
       "       10.19836177,  4.26194233,  7.7210111 , 14.75200195,  8.29379318,\n",
       "        4.99062835, 12.44654439, 13.64050322,  9.2849522 , 17.32389725,\n",
       "       12.85453982, 10.37626454, 13.91027955, 10.8502469 , -0.24817695,\n",
       "       15.67925345,  2.14029035, 10.99401488, 10.67887333, 20.29933197,\n",
       "        7.04083736,  8.56185991,  8.26788252, 12.73797542, 13.8178722 ,\n",
       "        9.21432484,  9.12410639, 19.4560397 ,  9.50263346, 16.60847719,\n",
       "        2.81968731,  6.81604444,  5.89393098,  5.74996866, 15.63045978,\n",
       "       10.93934766, 11.12726021,  7.7558091 , 11.70017099,  7.95839019,\n",
       "        8.23538981,  8.44857238,  2.63067503,  4.3272838 ,  8.94130658,\n",
       "       11.60009509,  3.72062009,  5.38887854,  7.14269463,  5.8116394 ,\n",
       "       10.56395125,  9.30884695,  0.33536923,  5.80137274,  8.04876873,\n",
       "        3.38290708, 12.71358491, 11.01804152, 11.4262641 , 13.3408263 ,\n",
       "       -0.49152876, 16.20954146, 12.56938209, 10.65408435, 12.44325604,\n",
       "       13.41287764, 15.66660603, 12.02491076, 10.1753577 ,  2.44791627,\n",
       "        6.83360482, 10.30904823,  6.11442103, 12.35565484, 10.33362538,\n",
       "       16.4700483 , 12.93264959,  3.80997896,  3.40824499, 12.46121309,\n",
       "       13.22246294,  3.90812206,  8.49188336,  7.90556165, 15.33299377,\n",
       "        7.49932432,  5.68928201,  1.68201811,  5.7945437 , 13.92475156,\n",
       "        3.25860152, 10.78913108, 10.72394086, 11.8671298 , 15.99126199,\n",
       "        8.05717486,  4.25861564, 13.85810512, 21.48057957, 12.73390892,\n",
       "       12.72727688,  1.61551145, 12.0884961 , 11.76615752,  5.85154859,\n",
       "        8.55788365,  9.73111368, 10.49021886, 11.97571603, 11.14740572,\n",
       "        7.89127029,  7.37220605,  9.41347389,  8.84774126, 10.04199086,\n",
       "        8.20997463,  8.01523519,  7.28965636,  8.293082  , 12.6958171 ,\n",
       "       13.12646693, 14.51860649, 11.48041987, 11.99044344,  8.57560183,\n",
       "        9.1172631 , -0.23934273, 10.33426945, 12.22488512,  5.2270446 ,\n",
       "        4.3187385 , 13.1697055 ,  6.65622404,  3.37538852,  0.95417981,\n",
       "       18.62668237, 12.48031236,  5.670417  , 10.44962437,  4.27710805,\n",
       "       19.42204244, 10.93342505, 10.85237372,  6.96691412, 15.07968859,\n",
       "        7.71582461,  5.00733777, 17.05911787, 13.28887208, 13.03590044,\n",
       "        4.81993355,  9.24009632,  2.49647081, 17.45333104,  4.28783038,\n",
       "       12.90616202, 10.41227975,  6.2173187 ,  9.77939769, 13.13698262,\n",
       "       12.90516114,  8.52729885,  9.383105  ,  7.78113163, 10.29247489,\n",
       "        7.08351743,  5.64978308,  3.53101319, 13.21153008, 20.83416634,\n",
       "        3.14186334,  7.03872808, 11.41997288, 11.1898876 ,  7.69182297,\n",
       "       14.18577575, 11.2598224 , 13.6428088 ,  5.50472484, 10.43844279,\n",
       "       10.80977054, 21.31127423,  4.81122235,  1.6085293 , 11.84268645,\n",
       "        5.28521298, 13.88515561, 13.78081013, 13.34035976,  6.90855295,\n",
       "       14.73772828,  8.13589516, 11.35947307,  9.16749176,  9.96878536,\n",
       "       12.23131154, 10.34553144, 12.86838568, 16.35797059, 15.59963909,\n",
       "       14.33956994, 13.20924274, 19.57445553,  7.83378689,  6.98511381,\n",
       "       13.52374892,  6.326228  , 15.03223655,  9.16892861,  4.80221219,\n",
       "        6.00112161,  8.64865324, 12.54833578,  8.59042508, 20.23038394,\n",
       "        5.49016109, 14.42440003,  6.67538994,  5.4613924 ,  8.60423055,\n",
       "       10.62380105,  7.34718177,  8.85595896,  5.19640826,  9.83306574,\n",
       "        7.01560523, 15.85007905,  7.25533979, 13.73268776,  5.94643607,\n",
       "        3.6351836 , 13.09832766, 13.30033261,  4.25816644, 18.7521495 ,\n",
       "        6.33177987,  5.00090442,  6.00976945,  6.67882849, 14.42870645,\n",
       "       14.91263041,  6.74472637, 12.20439974,  9.46370606,  4.34371723,\n",
       "       11.09226635,  8.46966845,  3.85459629, 15.73842655, 12.21135045,\n",
       "        5.47095744,  8.96087139,  4.02006715,  7.65309226, 10.1252621 ,\n",
       "        7.38897731,  4.87278617,  6.99526961, 13.63465306,  6.5592297 ,\n",
       "        4.87479487,  3.84701366, 17.53700134,  8.3979854 , 11.71375421,\n",
       "       13.04379216,  7.43319134, 10.18957145, 18.49439278, 14.05982973,\n",
       "       13.49858472,  9.81162899,  6.46506455,  4.67351183, 17.22398553,\n",
       "       20.88409749, 11.67934453,  9.91848575,  6.76116287, 11.07918535,\n",
       "        9.94574433,  6.88281802,  9.16265968,  7.0599535 ,  9.54560488,\n",
       "       23.10298666, 11.61194645, 15.42425762,  4.60525708,  8.55403364,\n",
       "        6.90926576,  8.74988537, 14.14085195,  5.86045375, 12.57519573,\n",
       "       17.84347795,  6.45813164,  5.75656585, 13.06571276, 13.28992884,\n",
       "       10.83304732,  8.02498497, 16.34773794, 15.25381802, 13.7070074 ,\n",
       "       16.50599887, 14.60839567,  5.89304598,  5.64509481, 15.8563704 ,\n",
       "        8.53087387, 10.97843073, 15.58270284, 15.6970077 ,  5.5613395 ,\n",
       "       19.6919812 ,  9.67828192, 10.39761771,  8.79182833,  6.39775095,\n",
       "        8.07101791, 14.03439974,  9.9049366 ,  4.88012888, 16.88861899,\n",
       "        9.23083139,  6.28152792, 15.67903088,  6.67780191,  9.73429605,\n",
       "        7.58783678,  9.41386209, 12.20805137,  7.32409499, 13.98382031,\n",
       "        9.03554202,  9.53967048, 19.28716296, 15.94107063, 10.85128794,\n",
       "        6.13218327,  9.70545351,  8.08641844,  4.24044977, 17.09123865,\n",
       "        2.88169844,  8.56997368,  4.94348119, 18.19077118, 11.27547485,\n",
       "        7.02794378,  8.32295281,  9.13738605, 11.78122972, 11.76204165,\n",
       "       10.71118306,  7.21210033,  2.67579075, 13.7449141 , 13.26380415,\n",
       "       13.33832031, 15.38861902,  8.93755037,  8.61349347, 14.7639863 ,\n",
       "       11.24731043, 10.84652229, 11.33444571, 11.54413536,  6.74854575,\n",
       "        5.13233415,  3.45725122, 10.12324954, 10.20724687,  9.55232808,\n",
       "        8.24641751,  4.65604678,  3.19473046, 19.05225176, 14.24796286,\n",
       "        8.50999246, 10.99349301, 19.54947283, 11.99524488,  9.13701228,\n",
       "        9.55307311,  4.91016585, 17.34854227, -0.48847133, 15.42601729,\n",
       "       10.43564755,  2.96387768, 15.04527642, 13.64648116, 12.17734134,\n",
       "       17.14283508,  3.28643447,  7.98696248,  8.06888405, 13.09182266,\n",
       "        9.90409136, 10.53541177, 13.45529606, 10.43952198,  5.28188136,\n",
       "        7.60321025,  4.81200017,  6.6948807 ,  8.76180727,  2.3199688 ,\n",
       "       12.93151532, 11.43790871,  5.80847887,  7.93272721,  2.65254684,\n",
       "        5.97625912, 14.15039458,  9.60031472, 14.2307435 ,  5.35033484,\n",
       "        5.23566316, 20.18613256,  5.80855532, 10.53784631,  9.38830646,\n",
       "       11.42346013,  6.97190848,  8.76471642,  4.58954185, 15.01747167,\n",
       "       11.4843641 , 14.35067728, 14.26780637,  9.37919991, 11.71969237,\n",
       "       12.31628858,  7.56522407,  5.17412306,  7.16086294,  9.78344515,\n",
       "       10.97195389, 15.2572243 , 18.27979312, 11.46405372, 13.10035571,\n",
       "       17.25470224, 16.58149705,  6.38113269, 17.64347753, 12.79490731,\n",
       "        9.86991367, 21.25961903, -1.6832906 ,  2.16162925, 16.5264518 ,\n",
       "       13.48699567, 14.45162182, 10.90516726, 11.07379467,  8.03672431,\n",
       "       10.45025172,  6.61952647, 11.5623393 , 10.19078798,  8.28036009,\n",
       "        6.45567518, 16.51973194, 13.25961466,  7.60510299,  8.64980537,\n",
       "       11.49783483,  6.81151794,  9.1933728 , 18.55004009,  9.92158957,\n",
       "        6.67410947, 16.2676149 , 19.40710275, 14.69391673, 12.67845012,\n",
       "        6.21029418, 12.60359879, 11.98811713, 12.54343897, -0.22214955,\n",
       "       11.76776963, 13.03957522,  6.07545839,  7.13457906, 13.4484919 ,\n",
       "       12.30802814, 16.8224879 ,  7.50913307, 18.75556966,  7.31409154,\n",
       "       10.70077763,  8.49389479,  7.56763092,  5.97729218,  7.50421897,\n",
       "       11.1850931 ,  8.30172258, 19.76731221, 12.45437606,  6.73356823,\n",
       "       14.21190572, 10.28040673, 10.62383226, 11.49737988,  6.83022597])"
      ]
     },
     "execution_count": 80,
     "metadata": {},
     "output_type": "execute_result"
    }
   ],
   "source": [
    "matrice[0]  # first row"
   ]
  },
  {
   "cell_type": "code",
   "execution_count": 97,
   "id": "c82dc84f-ecbb-4707-9fe0-e6c8af65d63b",
   "metadata": {},
   "outputs": [],
   "source": [
    "# error if out of range\n",
    "# villes[15]\n",
    "# villes[-9]\n",
    "# IndexError: list index out of range"
   ]
  },
  {
   "cell_type": "code",
   "execution_count": 95,
   "id": "7d70b1de-2484-4277-967f-b12c1e8a3dc0",
   "metadata": {},
   "outputs": [
    {
     "data": {
      "text/plain": [
       "'Lyon'"
      ]
     },
     "execution_count": 95,
     "metadata": {},
     "output_type": "execute_result"
    }
   ],
   "source": [
    "# index positives: 0 à 7\n",
    "# index negatives: -1 à -8\n",
    "villes[-1]  # la derniere, len(villes)-1"
   ]
  },
  {
   "cell_type": "code",
   "execution_count": 94,
   "id": "41bd2659-dfa1-43dd-83c5-48d81665e126",
   "metadata": {},
   "outputs": [
    {
     "data": {
      "text/plain": [
       "'Toulouse'"
      ]
     },
     "execution_count": 94,
     "metadata": {},
     "output_type": "execute_result"
    }
   ],
   "source": [
    "villes[-8]"
   ]
  },
  {
   "cell_type": "markdown",
   "id": "74b1e6e7-6ead-435e-840d-87851ce49f18",
   "metadata": {},
   "source": [
    "### 2. operator [ ] avec slices"
   ]
  },
  {
   "cell_type": "code",
   "execution_count": 88,
   "id": "2a707448-00e0-40d4-bbfd-85cba8577a12",
   "metadata": {},
   "outputs": [
    {
     "name": "stdout",
     "output_type": "stream",
     "text": [
      "['Toulouse', 'Pau', 'Biarritz', 'Montpellier', 'Paris', 'Bordeaux', 'Marseille', 'Lyon']\n",
      "['Toulouse', 'Pau', 'Biarritz']\n",
      "['Montpellier', 'Paris', 'Bordeaux', 'Marseille', 'Lyon']\n",
      "['Montpellier', 'Paris']\n",
      "['Montpellier', 'Paris', 'Bordeaux', 'Marseille', 'Lyon']\n",
      "[]\n"
     ]
    }
   ],
   "source": [
    "print(villes)\n",
    "print(villes[:3])  # les 3 premieres, de 0 inclus à 3 exclus\n",
    "print(villes[3:])  # à partir du 3e car \n",
    "print(villes[3:5]) # de la 3 (inclus) à la 5 (exclus) \n",
    "print(villes[3:300])\n",
    "print(villes[200:300])  # slice vide"
   ]
  },
  {
   "cell_type": "code",
   "execution_count": 86,
   "id": "28bd55f7-85cf-496a-98f9-c0560f8b71da",
   "metadata": {},
   "outputs": [
    {
     "name": "stdout",
     "output_type": "stream",
     "text": [
      "Toulouse\n",
      "Tou\n",
      "louse\n",
      "lo\n"
     ]
    }
   ],
   "source": [
    "print(ville)\n",
    "print(ville[:3]) \n",
    "print(ville[3:]) \n",
    "print(ville[3:5])"
   ]
  },
  {
   "cell_type": "code",
   "execution_count": 101,
   "id": "4cc7042e-b01d-442c-b6f2-676f830c4cc4",
   "metadata": {},
   "outputs": [
    {
     "name": "stdout",
     "output_type": "stream",
     "text": [
      "['Toulouse', 'Pau', 'Biarritz', 'Montpellier', 'Paris', 'Bordeaux', 'Marseille', 'Lyon']\n",
      "['Bordeaux', 'Marseille', 'Lyon']\n",
      "['Paris', 'Bordeaux']\n"
     ]
    }
   ],
   "source": [
    "print(villes)\n",
    "print(villes[-3:]) # les 3 dernieres (pas de +1)\n",
    "print(villes[-4:-2]) "
   ]
  },
  {
   "cell_type": "code",
   "execution_count": 123,
   "id": "86399317-07a1-41a7-9a34-ee6ebd8f5400",
   "metadata": {},
   "outputs": [
    {
     "name": "stdout",
     "output_type": "stream",
     "text": [
      "['Toulouse', 'Pau', 'Biarritz', 'Montpellier', 'Paris', 'Bordeaux', 'Marseille', 'Lyon']\n",
      "['Toulouse', 'Pau', 'Biarritz', 'Montpellier', 'Paris', 'Bordeaux', 'Marseille', 'Lyon']\n",
      "['Toulouse', 'Biarritz', 'Paris', 'Marseille']\n",
      "['Pau', 'Montpellier', 'Bordeaux', 'Lyon']\n",
      "['Lyon', 'Marseille', 'Bordeaux', 'Paris', 'Montpellier', 'Biarritz', 'Pau', 'Toulouse']\n",
      "['Bordeaux', 'Paris', 'Montpellier', 'Biarritz', 'Pau', 'Toulouse']\n",
      "[]\n",
      "['Paris', 'Montpellier']\n"
     ]
    }
   ],
   "source": [
    "print(villes)\n",
    "print(villes[:]) # copie de liste\n",
    "print(villes[::2]) # du début à la fin avec pas de 2\n",
    "print(villes[1::2]) # 1 sur 2 à partir de la numero 1 (la 2e)\n",
    "print(villes[::-1]) # reverse\n",
    "print(villes[-3::-1]) # de la 3e en partant de la fin vers le debut\n",
    "print(villes[-5:-3:-1]) # slice vide\n",
    "print(villes[-4:-6:-1]) # ok\n"
   ]
  },
  {
   "cell_type": "code",
   "execution_count": 126,
   "id": "31453e5e-4e1c-40b8-bc33-31aa7b8e8919",
   "metadata": {
    "collapsed": true,
    "jupyter": {
     "outputs_hidden": true
    },
    "tags": []
   },
   "outputs": [
    {
     "name": "stdout",
     "output_type": "stream",
     "text": [
      "(10, 10)\n"
     ]
    },
    {
     "data": {
      "text/plain": [
       "array([[11.57673858, 14.37387039, 13.63529148,  4.81711831,  4.45193084,\n",
       "        12.85453982,  7.89127029,  6.00112161,  8.53087387, 12.93151532],\n",
       "       [18.54285913, 16.31038888,  9.83247284,  7.40312214,  4.19473507,\n",
       "        12.50304456, 10.91444289, 11.17677333, 10.83835287,  5.47001037],\n",
       "       [ 5.59031996,  9.54871885,  9.21533951,  2.92231181, 13.50951712,\n",
       "         9.40992995, 14.62837671, 13.80986892, 10.12541307,  3.55896504],\n",
       "       [11.79469022, 16.81393111, 13.35405326, 12.36438773, 11.29578051,\n",
       "        14.18925915, 11.79024281, 10.36280566,  8.5017492 ,  4.86714124],\n",
       "       [10.09932072, 14.16590613,  2.84077872,  0.58764224,  9.32007473,\n",
       "        10.50886734, 16.5068759 ,  5.49089024,  4.36745017, 13.42271506],\n",
       "       [ 3.71153012,  8.77502409,  4.24026221, 14.75912088,  5.21277053,\n",
       "        10.6577506 ,  9.26432196, 13.40148334,  5.15372431, 10.86700181],\n",
       "       [16.45116285,  0.1545635 , 11.84630784, 10.4419798 , 10.84052222,\n",
       "        17.13461478, 11.23016329, 10.09166809, 22.24156058, 13.12602224],\n",
       "       [ 5.37161778, 13.54003518, 13.61974609,  9.60501259, -4.6848073 ,\n",
       "        14.95310718,  5.01699019, 10.74422108,  9.00055356,  9.56849416],\n",
       "       [17.58983552, 13.38602516, 19.3820061 ,  6.34608484,  7.24381899,\n",
       "         8.34801174,  9.34073457,  5.14419383, 13.27406243, 15.23302607],\n",
       "       [ 5.53912227,  8.28416579,  7.21219299,  7.34234788,  7.74628212,\n",
       "        16.42900669, 10.83082025, 14.05758705, 11.60484109, 10.93575221]])"
      ]
     },
     "execution_count": 126,
     "metadata": {},
     "output_type": "execute_result"
    }
   ],
   "source": [
    "echantion10x10 = matrice[::100, ::100] # => tuple de 2 slices\n",
    "print(echantion10x10.shape)\n",
    "echantion10x10"
   ]
  },
  {
   "cell_type": "code",
   "execution_count": 127,
   "id": "6becca33-168e-459d-96fb-f835aaa8b1ee",
   "metadata": {},
   "outputs": [
    {
     "data": {
      "text/plain": [
       "(10, 10, 5)"
      ]
     },
     "execution_count": 127,
     "metadata": {},
     "output_type": "execute_result"
    }
   ],
   "source": [
    "shape = 10, 10, 5\n",
    "shape"
   ]
  },
  {
   "cell_type": "code",
   "execution_count": 135,
   "id": "1eab1010-a30f-494d-9e0d-214c6c5a3af9",
   "metadata": {},
   "outputs": [
    {
     "data": {
      "text/html": [
       "<div>\n",
       "<style scoped>\n",
       "    .dataframe tbody tr th:only-of-type {\n",
       "        vertical-align: middle;\n",
       "    }\n",
       "\n",
       "    .dataframe tbody tr th {\n",
       "        vertical-align: top;\n",
       "    }\n",
       "\n",
       "    .dataframe thead th {\n",
       "        text-align: right;\n",
       "    }\n",
       "</style>\n",
       "<table border=\"1\" class=\"dataframe\">\n",
       "  <thead>\n",
       "    <tr style=\"text-align: right;\">\n",
       "      <th></th>\n",
       "      <th>name</th>\n",
       "      <th>cp</th>\n",
       "      <th>pop</th>\n",
       "      <th>avg_temp</th>\n",
       "    </tr>\n",
       "  </thead>\n",
       "  <tbody>\n",
       "    <tr>\n",
       "      <th>0</th>\n",
       "      <td>Toulouse</td>\n",
       "      <td>31000</td>\n",
       "      <td>477000.0</td>\n",
       "      <td>20,3</td>\n",
       "    </tr>\n",
       "    <tr>\n",
       "      <th>1</th>\n",
       "      <td>Pau</td>\n",
       "      <td>64000</td>\n",
       "      <td>77000.0</td>\n",
       "      <td>18,2</td>\n",
       "    </tr>\n",
       "    <tr>\n",
       "      <th>2</th>\n",
       "      <td>Bayonne</td>\n",
       "      <td>64100</td>\n",
       "      <td>NaN</td>\n",
       "      <td>15.7</td>\n",
       "    </tr>\n",
       "    <tr>\n",
       "      <th>4</th>\n",
       "      <td>Paris</td>\n",
       "      <td>75000</td>\n",
       "      <td>4000000.0</td>\n",
       "      <td>24,6</td>\n",
       "    </tr>\n",
       "  </tbody>\n",
       "</table>\n",
       "</div>"
      ],
      "text/plain": [
       "       name     cp        pop avg_temp\n",
       "0  Toulouse  31000   477000.0     20,3\n",
       "1       Pau  64000    77000.0     18,2\n",
       "2   Bayonne  64100        NaN     15.7\n",
       "4     Paris  75000  4000000.0     24,6"
      ]
     },
     "execution_count": 135,
     "metadata": {},
     "output_type": "execute_result"
    }
   ],
   "source": [
    "dfCities.drop(index=3, inplace=True)\n",
    "dfCities"
   ]
  },
  {
   "cell_type": "code",
   "execution_count": 136,
   "id": "0aeb0587-d1a5-4c4e-9817-e8afa8516edb",
   "metadata": {},
   "outputs": [
    {
     "data": {
      "text/plain": [
       "31000"
      ]
     },
     "execution_count": 136,
     "metadata": {},
     "output_type": "execute_result"
    }
   ],
   "source": [
    "dfCities.loc[0,'cp']"
   ]
  },
  {
   "cell_type": "code",
   "execution_count": 137,
   "id": "e5b4fde0-fd74-4d4e-b7fa-919ced0dbf94",
   "metadata": {},
   "outputs": [
    {
     "data": {
      "text/html": [
       "<div>\n",
       "<style scoped>\n",
       "    .dataframe tbody tr th:only-of-type {\n",
       "        vertical-align: middle;\n",
       "    }\n",
       "\n",
       "    .dataframe tbody tr th {\n",
       "        vertical-align: top;\n",
       "    }\n",
       "\n",
       "    .dataframe thead th {\n",
       "        text-align: right;\n",
       "    }\n",
       "</style>\n",
       "<table border=\"1\" class=\"dataframe\">\n",
       "  <thead>\n",
       "    <tr style=\"text-align: right;\">\n",
       "      <th></th>\n",
       "      <th>name</th>\n",
       "      <th>cp</th>\n",
       "      <th>pop</th>\n",
       "      <th>avg_temp</th>\n",
       "    </tr>\n",
       "  </thead>\n",
       "  <tbody>\n",
       "    <tr>\n",
       "      <th>1</th>\n",
       "      <td>Pau</td>\n",
       "      <td>64000</td>\n",
       "      <td>77000.0</td>\n",
       "      <td>18,2</td>\n",
       "    </tr>\n",
       "    <tr>\n",
       "      <th>2</th>\n",
       "      <td>Bayonne</td>\n",
       "      <td>64100</td>\n",
       "      <td>NaN</td>\n",
       "      <td>15.7</td>\n",
       "    </tr>\n",
       "    <tr>\n",
       "      <th>4</th>\n",
       "      <td>Paris</td>\n",
       "      <td>75000</td>\n",
       "      <td>4000000.0</td>\n",
       "      <td>24,6</td>\n",
       "    </tr>\n",
       "  </tbody>\n",
       "</table>\n",
       "</div>"
      ],
      "text/plain": [
       "      name     cp        pop avg_temp\n",
       "1      Pau  64000    77000.0     18,2\n",
       "2  Bayonne  64100        NaN     15.7\n",
       "4    Paris  75000  4000000.0     24,6"
      ]
     },
     "execution_count": 137,
     "metadata": {},
     "output_type": "execute_result"
    }
   ],
   "source": [
    "dfCities.loc[1:4] # valeurs => 2 bornes incluses"
   ]
  },
  {
   "cell_type": "code",
   "execution_count": 139,
   "id": "6d8f0a96-a01a-4d06-a0b7-ff1ae3b8cc26",
   "metadata": {},
   "outputs": [
    {
     "data": {
      "text/html": [
       "<div>\n",
       "<style scoped>\n",
       "    .dataframe tbody tr th:only-of-type {\n",
       "        vertical-align: middle;\n",
       "    }\n",
       "\n",
       "    .dataframe tbody tr th {\n",
       "        vertical-align: top;\n",
       "    }\n",
       "\n",
       "    .dataframe thead th {\n",
       "        text-align: right;\n",
       "    }\n",
       "</style>\n",
       "<table border=\"1\" class=\"dataframe\">\n",
       "  <thead>\n",
       "    <tr style=\"text-align: right;\">\n",
       "      <th></th>\n",
       "      <th>name</th>\n",
       "      <th>cp</th>\n",
       "      <th>pop</th>\n",
       "      <th>avg_temp</th>\n",
       "    </tr>\n",
       "  </thead>\n",
       "  <tbody>\n",
       "    <tr>\n",
       "      <th>0</th>\n",
       "      <td>Toulouse</td>\n",
       "      <td>31000</td>\n",
       "      <td>477000.0</td>\n",
       "      <td>20,3</td>\n",
       "    </tr>\n",
       "    <tr>\n",
       "      <th>1</th>\n",
       "      <td>Pau</td>\n",
       "      <td>64000</td>\n",
       "      <td>77000.0</td>\n",
       "      <td>18,2</td>\n",
       "    </tr>\n",
       "  </tbody>\n",
       "</table>\n",
       "</div>"
      ],
      "text/plain": [
       "       name     cp       pop avg_temp\n",
       "0  Toulouse  31000  477000.0     20,3\n",
       "1       Pau  64000   77000.0     18,2"
      ]
     },
     "execution_count": 139,
     "metadata": {},
     "output_type": "execute_result"
    }
   ],
   "source": [
    "dfCities.iloc[:2] # indices => bornes debut incluse, borne fin excluse"
   ]
  },
  {
   "cell_type": "code",
   "execution_count": 140,
   "id": "cb98d170-f9ce-4b4f-971b-4cab086799d0",
   "metadata": {},
   "outputs": [
    {
     "data": {
      "text/html": [
       "<div>\n",
       "<style scoped>\n",
       "    .dataframe tbody tr th:only-of-type {\n",
       "        vertical-align: middle;\n",
       "    }\n",
       "\n",
       "    .dataframe tbody tr th {\n",
       "        vertical-align: top;\n",
       "    }\n",
       "\n",
       "    .dataframe thead th {\n",
       "        text-align: right;\n",
       "    }\n",
       "</style>\n",
       "<table border=\"1\" class=\"dataframe\">\n",
       "  <thead>\n",
       "    <tr style=\"text-align: right;\">\n",
       "      <th></th>\n",
       "      <th>name</th>\n",
       "      <th>cp</th>\n",
       "    </tr>\n",
       "  </thead>\n",
       "  <tbody>\n",
       "    <tr>\n",
       "      <th>0</th>\n",
       "      <td>Toulouse</td>\n",
       "      <td>31000</td>\n",
       "    </tr>\n",
       "    <tr>\n",
       "      <th>1</th>\n",
       "      <td>Pau</td>\n",
       "      <td>64000</td>\n",
       "    </tr>\n",
       "  </tbody>\n",
       "</table>\n",
       "</div>"
      ],
      "text/plain": [
       "       name     cp\n",
       "0  Toulouse  31000\n",
       "1       Pau  64000"
      ]
     },
     "execution_count": 140,
     "metadata": {},
     "output_type": "execute_result"
    }
   ],
   "source": [
    "dfCities.iloc[:2, :2]"
   ]
  },
  {
   "cell_type": "code",
   "execution_count": 141,
   "id": "9667180f-d554-4ac4-bbde-5669c2b3e102",
   "metadata": {},
   "outputs": [
    {
     "data": {
      "text/html": [
       "<div>\n",
       "<style scoped>\n",
       "    .dataframe tbody tr th:only-of-type {\n",
       "        vertical-align: middle;\n",
       "    }\n",
       "\n",
       "    .dataframe tbody tr th {\n",
       "        vertical-align: top;\n",
       "    }\n",
       "\n",
       "    .dataframe thead th {\n",
       "        text-align: right;\n",
       "    }\n",
       "</style>\n",
       "<table border=\"1\" class=\"dataframe\">\n",
       "  <thead>\n",
       "    <tr style=\"text-align: right;\">\n",
       "      <th></th>\n",
       "      <th>data</th>\n",
       "      <th>id</th>\n",
       "      <th>humidite</th>\n",
       "      <th>direction_du_vecteur_de_vent_max</th>\n",
       "      <th>pluie_intensite_max</th>\n",
       "      <th>pression</th>\n",
       "      <th>direction_du_vecteur_vent_moyen</th>\n",
       "      <th>type_de_station</th>\n",
       "      <th>pluie</th>\n",
       "      <th>direction_du_vecteur_de_rafale_de_vent_max</th>\n",
       "      <th>force_moyenne_du_vecteur_vent</th>\n",
       "      <th>force_rafale_max</th>\n",
       "      <th>temperature</th>\n",
       "      <th>heure_de_paris</th>\n",
       "      <th>heure_utc</th>\n",
       "    </tr>\n",
       "  </thead>\n",
       "  <tbody>\n",
       "    <tr>\n",
       "      <th>0</th>\n",
       "      <td>084129a00000000000000000</td>\n",
       "      <td>4</td>\n",
       "      <td>0</td>\n",
       "      <td>0</td>\n",
       "      <td>0.0</td>\n",
       "      <td>90000</td>\n",
       "      <td>0</td>\n",
       "      <td>ISS</td>\n",
       "      <td>0.0</td>\n",
       "      <td>0.0</td>\n",
       "      <td>0</td>\n",
       "      <td>0</td>\n",
       "      <td>-50.0</td>\n",
       "      <td>2021-02-01T20:00:00+01:00</td>\n",
       "      <td>2021-02-01T19:00:00+00:00</td>\n",
       "    </tr>\n",
       "    <tr>\n",
       "      <th>1</th>\n",
       "      <td>08412a400000000000000000</td>\n",
       "      <td>4</td>\n",
       "      <td>0</td>\n",
       "      <td>0</td>\n",
       "      <td>0.0</td>\n",
       "      <td>90000</td>\n",
       "      <td>0</td>\n",
       "      <td>ISS</td>\n",
       "      <td>0.0</td>\n",
       "      <td>0.0</td>\n",
       "      <td>0</td>\n",
       "      <td>0</td>\n",
       "      <td>-50.0</td>\n",
       "      <td>2021-02-01T21:15:00+01:00</td>\n",
       "      <td>2021-02-01T20:15:00+00:00</td>\n",
       "    </tr>\n",
       "    <tr>\n",
       "      <th>2</th>\n",
       "      <td>08412aa00000000000000000</td>\n",
       "      <td>4</td>\n",
       "      <td>0</td>\n",
       "      <td>0</td>\n",
       "      <td>0.0</td>\n",
       "      <td>90000</td>\n",
       "      <td>0</td>\n",
       "      <td>ISS</td>\n",
       "      <td>0.0</td>\n",
       "      <td>0.0</td>\n",
       "      <td>0</td>\n",
       "      <td>0</td>\n",
       "      <td>-50.0</td>\n",
       "      <td>2021-02-01T22:00:00+01:00</td>\n",
       "      <td>2021-02-01T21:00:00+00:00</td>\n",
       "    </tr>\n",
       "  </tbody>\n",
       "</table>\n",
       "</div>"
      ],
      "text/plain": [
       "                       data  id  humidite  direction_du_vecteur_de_vent_max  \\\n",
       "0  084129a00000000000000000   4         0                                 0   \n",
       "1  08412a400000000000000000   4         0                                 0   \n",
       "2  08412aa00000000000000000   4         0                                 0   \n",
       "\n",
       "   pluie_intensite_max  pression  direction_du_vecteur_vent_moyen  \\\n",
       "0                  0.0     90000                                0   \n",
       "1                  0.0     90000                                0   \n",
       "2                  0.0     90000                                0   \n",
       "\n",
       "  type_de_station  pluie  direction_du_vecteur_de_rafale_de_vent_max  \\\n",
       "0             ISS    0.0                                         0.0   \n",
       "1             ISS    0.0                                         0.0   \n",
       "2             ISS    0.0                                         0.0   \n",
       "\n",
       "   force_moyenne_du_vecteur_vent  force_rafale_max  temperature  \\\n",
       "0                              0                 0        -50.0   \n",
       "1                              0                 0        -50.0   \n",
       "2                              0                 0        -50.0   \n",
       "\n",
       "              heure_de_paris                  heure_utc  \n",
       "0  2021-02-01T20:00:00+01:00  2021-02-01T19:00:00+00:00  \n",
       "1  2021-02-01T21:15:00+01:00  2021-02-01T20:15:00+00:00  \n",
       "2  2021-02-01T22:00:00+01:00  2021-02-01T21:00:00+00:00  "
      ]
     },
     "execution_count": 141,
     "metadata": {},
     "output_type": "execute_result"
    }
   ],
   "source": [
    "dfMeteo = pd.read_csv('https://data.toulouse-metropole.fr/explore/dataset/04-station-meteo-toulouse-ile-empalot/download/?format=csv&timezone=Europe/Berlin&lang=fr&use_labels_for_header=true&csv_separator=%3B',\n",
    "                   sep=';')\n",
    "dfMeteo.head(3)"
   ]
  },
  {
   "cell_type": "code",
   "execution_count": 152,
   "id": "d224ed7b-5dcf-4003-a850-2b861f456130",
   "metadata": {},
   "outputs": [],
   "source": [
    "dfMeteo.heure_utc = dfMeteo.heure_utc.apply(datetime.fromisoformat)"
   ]
  },
  {
   "cell_type": "code",
   "execution_count": 150,
   "id": "d8e03575-2556-4b45-b45f-b8aa76455bd0",
   "metadata": {},
   "outputs": [
    {
     "data": {
      "text/plain": [
       "datetime.datetime(2021, 2, 1, 19, 0, tzinfo=datetime.timezone.utc)"
      ]
     },
     "execution_count": 150,
     "metadata": {},
     "output_type": "execute_result"
    }
   ],
   "source": [
    "#datetime.fromisoformat('2021-02-01T19:00:00+00:00')"
   ]
  },
  {
   "cell_type": "code",
   "execution_count": 153,
   "id": "6755992c-b42d-4848-b75d-a8f95d58213d",
   "metadata": {},
   "outputs": [
    {
     "data": {
      "text/html": [
       "<div>\n",
       "<style scoped>\n",
       "    .dataframe tbody tr th:only-of-type {\n",
       "        vertical-align: middle;\n",
       "    }\n",
       "\n",
       "    .dataframe tbody tr th {\n",
       "        vertical-align: top;\n",
       "    }\n",
       "\n",
       "    .dataframe thead th {\n",
       "        text-align: right;\n",
       "    }\n",
       "</style>\n",
       "<table border=\"1\" class=\"dataframe\">\n",
       "  <thead>\n",
       "    <tr style=\"text-align: right;\">\n",
       "      <th></th>\n",
       "      <th>heure_utc</th>\n",
       "      <th>humidite</th>\n",
       "      <th>pression</th>\n",
       "      <th>temperature</th>\n",
       "    </tr>\n",
       "  </thead>\n",
       "  <tbody>\n",
       "    <tr>\n",
       "      <th>0</th>\n",
       "      <td>2021-02-01 19:00:00+00:00</td>\n",
       "      <td>0</td>\n",
       "      <td>90000</td>\n",
       "      <td>-50.0</td>\n",
       "    </tr>\n",
       "    <tr>\n",
       "      <th>1</th>\n",
       "      <td>2021-02-01 20:15:00+00:00</td>\n",
       "      <td>0</td>\n",
       "      <td>90000</td>\n",
       "      <td>-50.0</td>\n",
       "    </tr>\n",
       "  </tbody>\n",
       "</table>\n",
       "</div>"
      ],
      "text/plain": [
       "                  heure_utc  humidite  pression  temperature\n",
       "0 2021-02-01 19:00:00+00:00         0     90000        -50.0\n",
       "1 2021-02-01 20:15:00+00:00         0     90000        -50.0"
      ]
     },
     "execution_count": 153,
     "metadata": {},
     "output_type": "execute_result"
    }
   ],
   "source": [
    "dfExtrait = dfMeteo[['heure_utc', 'humidite','pression', 'temperature']]\n",
    "dfExtrait.head(2)"
   ]
  },
  {
   "cell_type": "code",
   "execution_count": 157,
   "id": "4b9a8f68-d746-4247-bbc0-f5d8430d7e6b",
   "metadata": {},
   "outputs": [
    {
     "data": {
      "text/html": [
       "<div>\n",
       "<style scoped>\n",
       "    .dataframe tbody tr th:only-of-type {\n",
       "        vertical-align: middle;\n",
       "    }\n",
       "\n",
       "    .dataframe tbody tr th {\n",
       "        vertical-align: top;\n",
       "    }\n",
       "\n",
       "    .dataframe thead tr th {\n",
       "        text-align: left;\n",
       "    }\n",
       "\n",
       "    .dataframe thead tr:last-of-type th {\n",
       "        text-align: right;\n",
       "    }\n",
       "</style>\n",
       "<table border=\"1\" class=\"dataframe\">\n",
       "  <thead>\n",
       "    <tr>\n",
       "      <th></th>\n",
       "      <th colspan=\"2\" halign=\"left\">humidite</th>\n",
       "      <th>pression</th>\n",
       "      <th colspan=\"3\" halign=\"left\">temperature</th>\n",
       "    </tr>\n",
       "    <tr>\n",
       "      <th></th>\n",
       "      <th>min</th>\n",
       "      <th>max</th>\n",
       "      <th>mean</th>\n",
       "      <th>mean</th>\n",
       "      <th>min</th>\n",
       "      <th>max</th>\n",
       "    </tr>\n",
       "    <tr>\n",
       "      <th>heure_utc</th>\n",
       "      <th></th>\n",
       "      <th></th>\n",
       "      <th></th>\n",
       "      <th></th>\n",
       "      <th></th>\n",
       "      <th></th>\n",
       "    </tr>\n",
       "  </thead>\n",
       "  <tbody>\n",
       "    <tr>\n",
       "      <th>2019-07-31 00:00:00+00:00</th>\n",
       "      <td>0</td>\n",
       "      <td>95</td>\n",
       "      <td>99532.110609</td>\n",
       "      <td>22.785327</td>\n",
       "      <td>-50.0</td>\n",
       "      <td>37.7</td>\n",
       "    </tr>\n",
       "    <tr>\n",
       "      <th>2019-08-31 00:00:00+00:00</th>\n",
       "      <td>30</td>\n",
       "      <td>95</td>\n",
       "      <td>99932.862903</td>\n",
       "      <td>23.148253</td>\n",
       "      <td>13.0</td>\n",
       "      <td>35.9</td>\n",
       "    </tr>\n",
       "    <tr>\n",
       "      <th>2019-09-30 00:00:00+00:00</th>\n",
       "      <td>28</td>\n",
       "      <td>97</td>\n",
       "      <td>100156.284722</td>\n",
       "      <td>19.848021</td>\n",
       "      <td>9.0</td>\n",
       "      <td>32.1</td>\n",
       "    </tr>\n",
       "    <tr>\n",
       "      <th>2019-10-31 00:00:00+00:00</th>\n",
       "      <td>0</td>\n",
       "      <td>97</td>\n",
       "      <td>99843.297587</td>\n",
       "      <td>16.069269</td>\n",
       "      <td>-50.0</td>\n",
       "      <td>27.9</td>\n",
       "    </tr>\n",
       "    <tr>\n",
       "      <th>2019-11-30 00:00:00+00:00</th>\n",
       "      <td>56</td>\n",
       "      <td>98</td>\n",
       "      <td>99033.426087</td>\n",
       "      <td>9.065252</td>\n",
       "      <td>-1.9</td>\n",
       "      <td>18.2</td>\n",
       "    </tr>\n",
       "  </tbody>\n",
       "</table>\n",
       "</div>"
      ],
      "text/plain": [
       "                          humidite           pression temperature            \n",
       "                               min max           mean        mean   min   max\n",
       "heure_utc                                                                    \n",
       "2019-07-31 00:00:00+00:00        0  95   99532.110609   22.785327 -50.0  37.7\n",
       "2019-08-31 00:00:00+00:00       30  95   99932.862903   23.148253  13.0  35.9\n",
       "2019-09-30 00:00:00+00:00       28  97  100156.284722   19.848021   9.0  32.1\n",
       "2019-10-31 00:00:00+00:00        0  97   99843.297587   16.069269 -50.0  27.9\n",
       "2019-11-30 00:00:00+00:00       56  98   99033.426087    9.065252  -1.9  18.2"
      ]
     },
     "execution_count": 157,
     "metadata": {},
     "output_type": "execute_result"
    }
   ],
   "source": [
    "stats = dfExtrait.groupby(by=pd.Grouper(key='heure_utc',freq='1M')\n",
    "        ).agg({\n",
    "            'humidite' : ['min', 'max'],\n",
    "            'pression' : 'mean',\n",
    "            'temperature': ['mean', 'min', 'max']\n",
    "        })\n",
    "stats.head(5)"
   ]
  },
  {
   "cell_type": "code",
   "execution_count": 158,
   "id": "3199c6ae-3e46-4290-9ded-2cff53b7ab53",
   "metadata": {},
   "outputs": [
    {
     "data": {
      "text/plain": [
       "MultiIndex([(   'humidite',  'min'),\n",
       "            (   'humidite',  'max'),\n",
       "            (   'pression', 'mean'),\n",
       "            ('temperature', 'mean'),\n",
       "            ('temperature',  'min'),\n",
       "            ('temperature',  'max')],\n",
       "           )"
      ]
     },
     "execution_count": 158,
     "metadata": {},
     "output_type": "execute_result"
    }
   ],
   "source": [
    "stats.columns"
   ]
  },
  {
   "cell_type": "code",
   "execution_count": 160,
   "id": "c14b15a2-896b-4092-992d-2b673ede9439",
   "metadata": {},
   "outputs": [
    {
     "data": {
      "text/html": [
       "<div>\n",
       "<style scoped>\n",
       "    .dataframe tbody tr th:only-of-type {\n",
       "        vertical-align: middle;\n",
       "    }\n",
       "\n",
       "    .dataframe tbody tr th {\n",
       "        vertical-align: top;\n",
       "    }\n",
       "\n",
       "    .dataframe thead tr th {\n",
       "        text-align: left;\n",
       "    }\n",
       "\n",
       "    .dataframe thead tr:last-of-type th {\n",
       "        text-align: right;\n",
       "    }\n",
       "</style>\n",
       "<table border=\"1\" class=\"dataframe\">\n",
       "  <thead>\n",
       "    <tr>\n",
       "      <th></th>\n",
       "      <th colspan=\"2\" halign=\"left\">humidite</th>\n",
       "      <th>pression</th>\n",
       "    </tr>\n",
       "    <tr>\n",
       "      <th></th>\n",
       "      <th>min</th>\n",
       "      <th>max</th>\n",
       "      <th>mean</th>\n",
       "    </tr>\n",
       "    <tr>\n",
       "      <th>heure_utc</th>\n",
       "      <th></th>\n",
       "      <th></th>\n",
       "      <th></th>\n",
       "    </tr>\n",
       "  </thead>\n",
       "  <tbody>\n",
       "    <tr>\n",
       "      <th>2020-01-31 00:00:00+00:00</th>\n",
       "      <td>44</td>\n",
       "      <td>97</td>\n",
       "      <td>100768.941176</td>\n",
       "    </tr>\n",
       "    <tr>\n",
       "      <th>2020-02-29 00:00:00+00:00</th>\n",
       "      <td>31</td>\n",
       "      <td>97</td>\n",
       "      <td>100664.267722</td>\n",
       "    </tr>\n",
       "    <tr>\n",
       "      <th>2020-03-31 00:00:00+00:00</th>\n",
       "      <td>33</td>\n",
       "      <td>97</td>\n",
       "      <td>99941.176471</td>\n",
       "    </tr>\n",
       "    <tr>\n",
       "      <th>2020-04-30 00:00:00+00:00</th>\n",
       "      <td>21</td>\n",
       "      <td>97</td>\n",
       "      <td>99712.339242</td>\n",
       "    </tr>\n",
       "    <tr>\n",
       "      <th>2020-05-31 00:00:00+00:00</th>\n",
       "      <td>32</td>\n",
       "      <td>96</td>\n",
       "      <td>99905.880376</td>\n",
       "    </tr>\n",
       "    <tr>\n",
       "      <th>2020-06-30 00:00:00+00:00</th>\n",
       "      <td>35</td>\n",
       "      <td>96</td>\n",
       "      <td>99737.743056</td>\n",
       "    </tr>\n",
       "    <tr>\n",
       "      <th>2020-07-31 00:00:00+00:00</th>\n",
       "      <td>25</td>\n",
       "      <td>94</td>\n",
       "      <td>100022.580645</td>\n",
       "    </tr>\n",
       "    <tr>\n",
       "      <th>2020-08-31 00:00:00+00:00</th>\n",
       "      <td>17</td>\n",
       "      <td>96</td>\n",
       "      <td>99733.613445</td>\n",
       "    </tr>\n",
       "    <tr>\n",
       "      <th>2020-09-30 00:00:00+00:00</th>\n",
       "      <td>0</td>\n",
       "      <td>96</td>\n",
       "      <td>99843.368056</td>\n",
       "    </tr>\n",
       "    <tr>\n",
       "      <th>2020-10-31 00:00:00+00:00</th>\n",
       "      <td>0</td>\n",
       "      <td>97</td>\n",
       "      <td>99651.778523</td>\n",
       "    </tr>\n",
       "    <tr>\n",
       "      <th>2020-11-30 00:00:00+00:00</th>\n",
       "      <td>0</td>\n",
       "      <td>97</td>\n",
       "      <td>100312.543403</td>\n",
       "    </tr>\n",
       "    <tr>\n",
       "      <th>2020-12-31 00:00:00+00:00</th>\n",
       "      <td>0</td>\n",
       "      <td>98</td>\n",
       "      <td>99290.793011</td>\n",
       "    </tr>\n",
       "  </tbody>\n",
       "</table>\n",
       "</div>"
      ],
      "text/plain": [
       "                          humidite           pression\n",
       "                               min max           mean\n",
       "heure_utc                                            \n",
       "2020-01-31 00:00:00+00:00       44  97  100768.941176\n",
       "2020-02-29 00:00:00+00:00       31  97  100664.267722\n",
       "2020-03-31 00:00:00+00:00       33  97   99941.176471\n",
       "2020-04-30 00:00:00+00:00       21  97   99712.339242\n",
       "2020-05-31 00:00:00+00:00       32  96   99905.880376\n",
       "2020-06-30 00:00:00+00:00       35  96   99737.743056\n",
       "2020-07-31 00:00:00+00:00       25  94  100022.580645\n",
       "2020-08-31 00:00:00+00:00       17  96   99733.613445\n",
       "2020-09-30 00:00:00+00:00        0  96   99843.368056\n",
       "2020-10-31 00:00:00+00:00        0  97   99651.778523\n",
       "2020-11-30 00:00:00+00:00        0  97  100312.543403\n",
       "2020-12-31 00:00:00+00:00        0  98   99290.793011"
      ]
     },
     "execution_count": 160,
     "metadata": {},
     "output_type": "execute_result"
    }
   ],
   "source": [
    "stats.loc['2020-01':'2020-12', 'humidite':'pression']"
   ]
  },
  {
   "cell_type": "code",
   "execution_count": 166,
   "id": "cfdddcf1-7bdc-4b2c-ae1d-0db52102dfd8",
   "metadata": {},
   "outputs": [
    {
     "data": {
      "text/html": [
       "<div>\n",
       "<style scoped>\n",
       "    .dataframe tbody tr th:only-of-type {\n",
       "        vertical-align: middle;\n",
       "    }\n",
       "\n",
       "    .dataframe tbody tr th {\n",
       "        vertical-align: top;\n",
       "    }\n",
       "\n",
       "    .dataframe thead tr th {\n",
       "        text-align: left;\n",
       "    }\n",
       "\n",
       "    .dataframe thead tr:last-of-type th {\n",
       "        text-align: right;\n",
       "    }\n",
       "</style>\n",
       "<table border=\"1\" class=\"dataframe\">\n",
       "  <thead>\n",
       "    <tr>\n",
       "      <th></th>\n",
       "      <th>humidite</th>\n",
       "      <th>temperature</th>\n",
       "      <th>humidite</th>\n",
       "      <th>temperature</th>\n",
       "    </tr>\n",
       "    <tr>\n",
       "      <th></th>\n",
       "      <th>min</th>\n",
       "      <th>min</th>\n",
       "      <th>max</th>\n",
       "      <th>max</th>\n",
       "    </tr>\n",
       "    <tr>\n",
       "      <th>heure_utc</th>\n",
       "      <th></th>\n",
       "      <th></th>\n",
       "      <th></th>\n",
       "      <th></th>\n",
       "    </tr>\n",
       "  </thead>\n",
       "  <tbody>\n",
       "    <tr>\n",
       "      <th>2020-01-31 00:00:00+00:00</th>\n",
       "      <td>44</td>\n",
       "      <td>-2.9</td>\n",
       "      <td>97</td>\n",
       "      <td>17.5</td>\n",
       "    </tr>\n",
       "    <tr>\n",
       "      <th>2020-02-29 00:00:00+00:00</th>\n",
       "      <td>31</td>\n",
       "      <td>0.6</td>\n",
       "      <td>97</td>\n",
       "      <td>21.9</td>\n",
       "    </tr>\n",
       "    <tr>\n",
       "      <th>2020-03-31 00:00:00+00:00</th>\n",
       "      <td>33</td>\n",
       "      <td>2.2</td>\n",
       "      <td>97</td>\n",
       "      <td>21.5</td>\n",
       "    </tr>\n",
       "    <tr>\n",
       "      <th>2020-04-30 00:00:00+00:00</th>\n",
       "      <td>21</td>\n",
       "      <td>2.0</td>\n",
       "      <td>97</td>\n",
       "      <td>24.6</td>\n",
       "    </tr>\n",
       "    <tr>\n",
       "      <th>2020-05-31 00:00:00+00:00</th>\n",
       "      <td>32</td>\n",
       "      <td>9.8</td>\n",
       "      <td>96</td>\n",
       "      <td>30.3</td>\n",
       "    </tr>\n",
       "    <tr>\n",
       "      <th>2020-06-30 00:00:00+00:00</th>\n",
       "      <td>35</td>\n",
       "      <td>11.3</td>\n",
       "      <td>96</td>\n",
       "      <td>33.5</td>\n",
       "    </tr>\n",
       "    <tr>\n",
       "      <th>2020-07-31 00:00:00+00:00</th>\n",
       "      <td>25</td>\n",
       "      <td>13.1</td>\n",
       "      <td>94</td>\n",
       "      <td>37.3</td>\n",
       "    </tr>\n",
       "    <tr>\n",
       "      <th>2020-08-31 00:00:00+00:00</th>\n",
       "      <td>17</td>\n",
       "      <td>12.4</td>\n",
       "      <td>96</td>\n",
       "      <td>37.3</td>\n",
       "    </tr>\n",
       "    <tr>\n",
       "      <th>2020-09-30 00:00:00+00:00</th>\n",
       "      <td>0</td>\n",
       "      <td>-50.0</td>\n",
       "      <td>96</td>\n",
       "      <td>34.2</td>\n",
       "    </tr>\n",
       "    <tr>\n",
       "      <th>2020-10-31 00:00:00+00:00</th>\n",
       "      <td>0</td>\n",
       "      <td>-50.0</td>\n",
       "      <td>97</td>\n",
       "      <td>22.2</td>\n",
       "    </tr>\n",
       "    <tr>\n",
       "      <th>2020-11-30 00:00:00+00:00</th>\n",
       "      <td>0</td>\n",
       "      <td>-50.0</td>\n",
       "      <td>97</td>\n",
       "      <td>22.1</td>\n",
       "    </tr>\n",
       "    <tr>\n",
       "      <th>2020-12-31 00:00:00+00:00</th>\n",
       "      <td>0</td>\n",
       "      <td>-50.0</td>\n",
       "      <td>98</td>\n",
       "      <td>18.1</td>\n",
       "    </tr>\n",
       "  </tbody>\n",
       "</table>\n",
       "</div>"
      ],
      "text/plain": [
       "                          humidite temperature humidite temperature\n",
       "                               min         min      max         max\n",
       "heure_utc                                                          \n",
       "2020-01-31 00:00:00+00:00       44        -2.9       97        17.5\n",
       "2020-02-29 00:00:00+00:00       31         0.6       97        21.9\n",
       "2020-03-31 00:00:00+00:00       33         2.2       97        21.5\n",
       "2020-04-30 00:00:00+00:00       21         2.0       97        24.6\n",
       "2020-05-31 00:00:00+00:00       32         9.8       96        30.3\n",
       "2020-06-30 00:00:00+00:00       35        11.3       96        33.5\n",
       "2020-07-31 00:00:00+00:00       25        13.1       94        37.3\n",
       "2020-08-31 00:00:00+00:00       17        12.4       96        37.3\n",
       "2020-09-30 00:00:00+00:00        0       -50.0       96        34.2\n",
       "2020-10-31 00:00:00+00:00        0       -50.0       97        22.2\n",
       "2020-11-30 00:00:00+00:00        0       -50.0       97        22.1\n",
       "2020-12-31 00:00:00+00:00        0       -50.0       98        18.1"
      ]
     },
     "execution_count": 166,
     "metadata": {},
     "output_type": "execute_result"
    }
   ],
   "source": [
    "stats.loc['2020-01':'2020-12', (slice(None,None), ['min','max'])]"
   ]
  },
  {
   "cell_type": "code",
   "execution_count": 169,
   "id": "7ced2eb8-325b-4ebb-a9fb-dd1e6711f830",
   "metadata": {},
   "outputs": [
    {
     "data": {
      "text/plain": [
       "['Montpellier', 'Paris', 'Bordeaux', 'Marseille', 'Lyon']"
      ]
     },
     "execution_count": 169,
     "metadata": {},
     "output_type": "execute_result"
    }
   ],
   "source": [
    "villes[slice(3,None)] # i.e 3:"
   ]
  },
  {
   "cell_type": "markdown",
   "id": "82e51b52-494d-406c-a51f-497e0375558e",
   "metadata": {
    "tags": []
   },
   "source": [
    "## partage de reference"
   ]
  },
  {
   "cell_type": "code",
   "execution_count": 110,
   "id": "5a6d80a2-8fef-4dd1-a02d-f92f7484e410",
   "metadata": {},
   "outputs": [],
   "source": [
    "listeEntiers = [ 11, 22, 33 ]\n",
    "listeEntiersBis = listeEntiers[:]"
   ]
  },
  {
   "cell_type": "code",
   "execution_count": 111,
   "id": "1b871604-f1a2-432f-bb32-d31f40037a30",
   "metadata": {},
   "outputs": [
    {
     "name": "stdout",
     "output_type": "stream",
     "text": [
      "[11, 22, 33]\n",
      "[11, 222, 33]\n",
      "[11, 22, 33]\n",
      "[111, 222, 33]\n"
     ]
    }
   ],
   "source": [
    "assert listeEntiersBis[1] is listeEntiers[1]\n",
    "listeEntiersBis[1] = 222\n",
    "assert listeEntiersBis[1] is not listeEntiers[1]\n",
    "print(listeEntiers)\n",
    "print(listeEntiersBis)\n",
    "listeEntiersBis[0] += 100\n",
    "print(listeEntiers)\n",
    "print(listeEntiersBis)"
   ]
  },
  {
   "cell_type": "code",
   "execution_count": 118,
   "id": "3ed99f4f-8c3d-4bb9-bbf7-b107b6a75b86",
   "metadata": {},
   "outputs": [],
   "source": [
    "carre = [[8,1,6],\n",
    "[3,5,7], \n",
    "[4,9,2]]\n",
    "carreBis = carre[:]  # attention, copie one level => i.e carre.copy (shallow copy)\n",
    "carreTer = [ row[:] for row in carre ]"
   ]
  },
  {
   "cell_type": "code",
   "execution_count": 119,
   "id": "94ada3bb-432c-450b-a6d0-fdcf108f4607",
   "metadata": {},
   "outputs": [
    {
     "name": "stdout",
     "output_type": "stream",
     "text": [
      "old value (0,0): 8\n",
      "[[888, 1, 6], [3, 5, 7], [4, 9, 2]]\n",
      "[[888, 1, 6], [3, 5, 7], [4, 9, 2]]\n",
      "[[8, 1, 6], [3, 5, 7], [4, 9, 2]]\n"
     ]
    }
   ],
   "source": [
    "print(\"old value (0,0):\", carre[0][0])\n",
    "carreBis[0][0] = 888  # modif sur carre & carreBis not carreTer\n",
    "print(carre)\n",
    "print(carreBis)\n",
    "print(carreTer)"
   ]
  },
  {
   "cell_type": "code",
   "execution_count": null,
   "id": "bcc9836c-6337-4893-b121-98a5d1c6740a",
   "metadata": {},
   "outputs": [],
   "source": []
  }
 ],
 "metadata": {
  "kernelspec": {
   "display_name": "Python 3 (ipykernel)",
   "language": "python",
   "name": "python3"
  },
  "language_info": {
   "codemirror_mode": {
    "name": "ipython",
    "version": 3
   },
   "file_extension": ".py",
   "mimetype": "text/x-python",
   "name": "python",
   "nbconvert_exporter": "python",
   "pygments_lexer": "ipython3",
   "version": "3.9.12"
  }
 },
 "nbformat": 4,
 "nbformat_minor": 5
}
